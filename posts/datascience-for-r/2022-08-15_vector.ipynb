{
 "cells": [
  {
   "cell_type": "raw",
   "id": "a7d6d3d6-e49a-439f-9045-38ef5948fcb7",
   "metadata": {},
   "source": [
    "---\n",
    "title: \"vector\"\n",
    "format: \n",
    "  html:\n",
    "    code-fold: false\n",
    "    badges: true\n",
    "author: '조윤호'\n",
    "date: '8/15/2022'\n",
    "title-block-banner: true\n",
    "jupyter: R\n",
    "categories: [R]\n",
    "---"
   ]
  },
  {
   "cell_type": "markdown",
   "id": "39358d91-c317-43f0-9560-a33636edf71a",
   "metadata": {
    "tags": []
   },
   "source": [
    "# vector\n",
    "\n",
    "list"
   ]
  },
  {
   "cell_type": "code",
   "execution_count": 14,
   "id": "00e07460-a152-4896-b83c-6d6c50ba3266",
   "metadata": {},
   "outputs": [],
   "source": [
    "library('tidyverse')"
   ]
  },
  {
   "cell_type": "markdown",
   "id": "d1f62693-4eb8-4e13-8e27-91795cd59f24",
   "metadata": {},
   "source": [
    "`stop` : 멈추고 메시지 표기(이거는 내가 설정한 거)<br>\n",
    "`stopifnot` : `stop`을 사용하면 되지만 에러를 검사해야할 항목이 많을 경우 사용<br>\n",
    "에러아니면 pass, 에러면 경고문과 함께 stop"
   ]
  },
  {
   "cell_type": "markdown",
   "id": "8d0765bc-d757-497d-95f7-9fe5a587c321",
   "metadata": {},
   "source": [
    "### list"
   ]
  },
  {
   "cell_type": "markdown",
   "id": "6155b9a8-29bf-4abb-89d5-dcdfbfa01678",
   "metadata": {},
   "source": [
    "- 리스트는 이름을 지정할 수 있다."
   ]
  },
  {
   "cell_type": "code",
   "execution_count": 3,
   "id": "9efd5cd5-34a8-4210-b340-b8b6f36c1945",
   "metadata": {},
   "outputs": [
    {
     "data": {
      "text/html": [
       "<dl>\n",
       "\t<dt>$a</dt>\n",
       "\t\t<dd>1</dd>\n",
       "\t<dt>$b</dt>\n",
       "\t\t<dd>2</dd>\n",
       "\t<dt>$c</dt>\n",
       "\t\t<dd>3</dd>\n",
       "</dl>\n"
      ],
      "text/latex": [
       "\\begin{description}\n",
       "\\item[\\$a] 1\n",
       "\\item[\\$b] 2\n",
       "\\item[\\$c] 3\n",
       "\\end{description}\n"
      ],
      "text/markdown": [
       "$a\n",
       ":   1\n",
       "$b\n",
       ":   2\n",
       "$c\n",
       ":   3\n",
       "\n",
       "\n"
      ],
      "text/plain": [
       "$a\n",
       "[1] 1\n",
       "\n",
       "$b\n",
       "[1] 2\n",
       "\n",
       "$c\n",
       "[1] 3\n"
      ]
     },
     "metadata": {},
     "output_type": "display_data"
    }
   ],
   "source": [
    "x_named <- list(a = 1, b = 2, c = 3)\n",
    "x_named"
   ]
  },
  {
   "cell_type": "markdown",
   "id": "076812af-485c-4ec8-8dcf-e3aa81b7a9f4",
   "metadata": {},
   "source": [
    "- 리스트가 다른 벡터들과 다른 점은 객체들을 혼합하여 포함될 수 있다."
   ]
  },
  {
   "cell_type": "code",
   "execution_count": 4,
   "id": "4f6aa5b8-8424-4a6e-9237-0f39c93fa6ad",
   "metadata": {},
   "outputs": [
    {
     "data": {
      "text/html": [
       "<ol>\n",
       "\t<li>'a'</li>\n",
       "\t<li>1</li>\n",
       "\t<li>1.5</li>\n",
       "\t<li>TRUE</li>\n",
       "</ol>\n"
      ],
      "text/latex": [
       "\\begin{enumerate}\n",
       "\\item 'a'\n",
       "\\item 1\n",
       "\\item 1.5\n",
       "\\item TRUE\n",
       "\\end{enumerate}\n"
      ],
      "text/markdown": [
       "1. 'a'\n",
       "2. 1\n",
       "3. 1.5\n",
       "4. TRUE\n",
       "\n",
       "\n"
      ],
      "text/plain": [
       "[[1]]\n",
       "[1] \"a\"\n",
       "\n",
       "[[2]]\n",
       "[1] 1\n",
       "\n",
       "[[3]]\n",
       "[1] 1.5\n",
       "\n",
       "[[4]]\n",
       "[1] TRUE\n"
      ]
     },
     "metadata": {},
     "output_type": "display_data"
    }
   ],
   "source": [
    "y <- list(\"a\", 1L, 1.5, TRUE)\n",
    "y"
   ]
  },
  {
   "cell_type": "markdown",
   "id": "3f1df687-c569-4b55-be44-8635cf2d76dd",
   "metadata": {},
   "source": [
    "- 리스트 안에 리스트를 넣을 수도 있다."
   ]
  },
  {
   "cell_type": "code",
   "execution_count": 5,
   "id": "64a51d2c-3a79-4d63-ab4e-fb06040bdbd8",
   "metadata": {},
   "outputs": [
    {
     "name": "stdout",
     "output_type": "stream",
     "text": [
      "List of 2\n",
      " $ :List of 2\n",
      "  ..$ : num 1\n",
      "  ..$ : num 2\n",
      " $ :List of 2\n",
      "  ..$ : num 3\n",
      "  ..$ : num 4\n"
     ]
    }
   ],
   "source": [
    "z <- list(list(1, 2), list(3, 4))\n",
    "str(z)"
   ]
  },
  {
   "cell_type": "markdown",
   "id": "9dfeeef6-e241-451a-af39-62be5d473e6e",
   "metadata": {},
   "source": [
    "- 리스트 안의 리스트 구조"
   ]
  },
  {
   "cell_type": "code",
   "execution_count": 6,
   "id": "76c231d7-686a-49b6-b34f-5ce25bd532f2",
   "metadata": {},
   "outputs": [],
   "source": [
    "x1 <- list(c(1, 2), c(3, 4))\n",
    "x2 <- list(list(1, 2), list(3, 4))\n",
    "x3 <- list(1, list(2, list(3)))"
   ]
  },
  {
   "cell_type": "code",
   "execution_count": 7,
   "id": "8b203b31-2ded-44b4-8ef1-3f04a8ec67ff",
   "metadata": {},
   "outputs": [
    {
     "data": {
      "text/html": [
       "<ol>\n",
       "\t<li><style>\n",
       ".list-inline {list-style: none; margin:0; padding: 0}\n",
       ".list-inline>li {display: inline-block}\n",
       ".list-inline>li:not(:last-child)::after {content: \"\\00b7\"; padding: 0 .5ex}\n",
       "</style>\n",
       "<ol class=list-inline><li>1</li><li>2</li></ol>\n",
       "</li>\n",
       "\t<li><style>\n",
       ".list-inline {list-style: none; margin:0; padding: 0}\n",
       ".list-inline>li {display: inline-block}\n",
       ".list-inline>li:not(:last-child)::after {content: \"\\00b7\"; padding: 0 .5ex}\n",
       "</style>\n",
       "<ol class=list-inline><li>3</li><li>4</li></ol>\n",
       "</li>\n",
       "</ol>\n"
      ],
      "text/latex": [
       "\\begin{enumerate}\n",
       "\\item \\begin{enumerate*}\n",
       "\\item 1\n",
       "\\item 2\n",
       "\\end{enumerate*}\n",
       "\n",
       "\\item \\begin{enumerate*}\n",
       "\\item 3\n",
       "\\item 4\n",
       "\\end{enumerate*}\n",
       "\n",
       "\\end{enumerate}\n"
      ],
      "text/markdown": [
       "1. 1. 1\n",
       "2. 2\n",
       "\n",
       "\n",
       "\n",
       "2. 1. 3\n",
       "2. 4\n",
       "\n",
       "\n",
       "\n",
       "\n",
       "\n"
      ],
      "text/plain": [
       "[[1]]\n",
       "[1] 1 2\n",
       "\n",
       "[[2]]\n",
       "[1] 3 4\n"
      ]
     },
     "metadata": {},
     "output_type": "display_data"
    },
    {
     "data": {
      "text/html": [
       "<ol>\n",
       "\t<li><ol>\n",
       "\t<li>1</li>\n",
       "\t<li>2</li>\n",
       "</ol>\n",
       "</li>\n",
       "\t<li><ol>\n",
       "\t<li>3</li>\n",
       "\t<li>4</li>\n",
       "</ol>\n",
       "</li>\n",
       "</ol>\n"
      ],
      "text/latex": [
       "\\begin{enumerate}\n",
       "\\item \\begin{enumerate}\n",
       "\\item 1\n",
       "\\item 2\n",
       "\\end{enumerate}\n",
       "\n",
       "\\item \\begin{enumerate}\n",
       "\\item 3\n",
       "\\item 4\n",
       "\\end{enumerate}\n",
       "\n",
       "\\end{enumerate}\n"
      ],
      "text/markdown": [
       "1. 1. 1\n",
       "2. 2\n",
       "\n",
       "\n",
       "\n",
       "2. 1. 3\n",
       "2. 4\n",
       "\n",
       "\n",
       "\n",
       "\n",
       "\n"
      ],
      "text/plain": [
       "[[1]]\n",
       "[[1]][[1]]\n",
       "[1] 1\n",
       "\n",
       "[[1]][[2]]\n",
       "[1] 2\n",
       "\n",
       "\n",
       "[[2]]\n",
       "[[2]][[1]]\n",
       "[1] 3\n",
       "\n",
       "[[2]][[2]]\n",
       "[1] 4\n",
       "\n"
      ]
     },
     "metadata": {},
     "output_type": "display_data"
    },
    {
     "data": {
      "text/html": [
       "<ol>\n",
       "\t<li>1</li>\n",
       "\t<li><ol>\n",
       "\t<li>2</li>\n",
       "\t<li><ol>\n",
       "\t<li>3</li>\n",
       "</ol>\n",
       "</li>\n",
       "</ol>\n",
       "</li>\n",
       "</ol>\n"
      ],
      "text/latex": [
       "\\begin{enumerate}\n",
       "\\item 1\n",
       "\\item \\begin{enumerate}\n",
       "\\item 2\n",
       "\\item \\begin{enumerate}\n",
       "\\item 3\n",
       "\\end{enumerate}\n",
       "\n",
       "\\end{enumerate}\n",
       "\n",
       "\\end{enumerate}\n"
      ],
      "text/markdown": [
       "1. 1\n",
       "2. 1. 2\n",
       "2. 1. 3\n",
       "\n",
       "\n",
       "\n",
       "\n",
       "\n",
       "\n",
       "\n",
       "\n"
      ],
      "text/plain": [
       "[[1]]\n",
       "[1] 1\n",
       "\n",
       "[[2]]\n",
       "[[2]][[1]]\n",
       "[1] 2\n",
       "\n",
       "[[2]][[2]]\n",
       "[[2]][[2]][[1]]\n",
       "[1] 3\n",
       "\n",
       "\n"
      ]
     },
     "metadata": {},
     "output_type": "display_data"
    }
   ],
   "source": [
    "x1\n",
    "x2\n",
    "x3"
   ]
  },
  {
   "cell_type": "markdown",
   "id": "f9f80f9d-d0ae-4dea-8cee-b921ae52a53d",
   "metadata": {},
   "source": [
    "- 서브셋"
   ]
  },
  {
   "cell_type": "code",
   "execution_count": 8,
   "id": "36ca64e9-d024-4ec6-990c-f80be84c2389",
   "metadata": {},
   "outputs": [
    {
     "data": {
      "text/html": [
       "<dl>\n",
       "\t<dt>$a</dt>\n",
       "\t\t<dd><style>\n",
       ".list-inline {list-style: none; margin:0; padding: 0}\n",
       ".list-inline>li {display: inline-block}\n",
       ".list-inline>li:not(:last-child)::after {content: \"\\00b7\"; padding: 0 .5ex}\n",
       "</style>\n",
       "<ol class=list-inline><li>1</li><li>2</li><li>3</li></ol>\n",
       "</dd>\n",
       "\t<dt>$b</dt>\n",
       "\t\t<dd>'a string'</dd>\n",
       "\t<dt>$c</dt>\n",
       "\t\t<dd>3.14159265358979</dd>\n",
       "\t<dt>$d</dt>\n",
       "\t\t<dd><ol>\n",
       "\t<li>-1</li>\n",
       "\t<li>-5</li>\n",
       "</ol>\n",
       "</dd>\n",
       "</dl>\n"
      ],
      "text/latex": [
       "\\begin{description}\n",
       "\\item[\\$a] \\begin{enumerate*}\n",
       "\\item 1\n",
       "\\item 2\n",
       "\\item 3\n",
       "\\end{enumerate*}\n",
       "\n",
       "\\item[\\$b] 'a string'\n",
       "\\item[\\$c] 3.14159265358979\n",
       "\\item[\\$d] \\begin{enumerate}\n",
       "\\item -1\n",
       "\\item -5\n",
       "\\end{enumerate}\n",
       "\n",
       "\\end{description}\n"
      ],
      "text/markdown": [
       "$a\n",
       ":   1. 1\n",
       "2. 2\n",
       "3. 3\n",
       "\n",
       "\n",
       "\n",
       "$b\n",
       ":   'a string'\n",
       "$c\n",
       ":   3.14159265358979\n",
       "$d\n",
       ":   1. -1\n",
       "2. -5\n",
       "\n",
       "\n",
       "\n",
       "\n",
       "\n"
      ],
      "text/plain": [
       "$a\n",
       "[1] 1 2 3\n",
       "\n",
       "$b\n",
       "[1] \"a string\"\n",
       "\n",
       "$c\n",
       "[1] 3.141593\n",
       "\n",
       "$d\n",
       "$d[[1]]\n",
       "[1] -1\n",
       "\n",
       "$d[[2]]\n",
       "[1] -5\n",
       "\n"
      ]
     },
     "metadata": {},
     "output_type": "display_data"
    }
   ],
   "source": [
    "a <- list(a = 1:3, b = \"a string\", c = pi, d = list(-1, -5))\n",
    "a"
   ]
  },
  {
   "cell_type": "markdown",
   "id": "5a375df4-4576-49bb-8a17-d444b850fd79",
   "metadata": {},
   "source": [
    "- `[`는 부분 리스트를 추출한다. 결과는 항상 리스트이다. "
   ]
  },
  {
   "cell_type": "code",
   "execution_count": 9,
   "id": "61502251-aee7-476e-8c67-56badfe93363",
   "metadata": {},
   "outputs": [
    {
     "name": "stdout",
     "output_type": "stream",
     "text": [
      "List of 2\n",
      " $ a: int [1:3] 1 2 3\n",
      " $ b: chr \"a string\"\n"
     ]
    }
   ],
   "source": [
    "str(a[1:2])"
   ]
  },
  {
   "cell_type": "code",
   "execution_count": 10,
   "id": "a03710d1-1972-4781-8cb1-43cb3344647a",
   "metadata": {},
   "outputs": [
    {
     "name": "stdout",
     "output_type": "stream",
     "text": [
      "List of 1\n",
      " $ d:List of 2\n",
      "  ..$ : num -1\n",
      "  ..$ : num -5\n"
     ]
    }
   ],
   "source": [
    "str(a[4])"
   ]
  },
  {
   "cell_type": "markdown",
   "id": "64507a99-7082-4c7c-af9a-a6796cb60ec5",
   "metadata": {},
   "source": [
    "- `[[`는 리스트의 단일 구성요소를 추출한다. 리스트의 계층구조에서 한 레벨을 제거한다."
   ]
  },
  {
   "cell_type": "code",
   "execution_count": 11,
   "id": "7863d1db-dd0f-4aec-8deb-69e0fc08db1c",
   "metadata": {},
   "outputs": [
    {
     "name": "stdout",
     "output_type": "stream",
     "text": [
      " int [1:3] 1 2 3\n"
     ]
    }
   ],
   "source": [
    "str(a[[1]])"
   ]
  },
  {
   "cell_type": "markdown",
   "id": "829a0859-b027-4e24-98b4-8ad9146b9894",
   "metadata": {},
   "source": [
    "- `$`는 리스트의 명명된 요소를 추출하는 단축문자이다. 이는 따옴표가 필요 없다는 것을 제외하고는 `[[`와 유사하게 동작한다."
   ]
  },
  {
   "cell_type": "code",
   "execution_count": 12,
   "id": "668ccbfd-45db-4164-9d67-43c7bbebf7a4",
   "metadata": {},
   "outputs": [
    {
     "data": {
      "text/html": [
       "<style>\n",
       ".list-inline {list-style: none; margin:0; padding: 0}\n",
       ".list-inline>li {display: inline-block}\n",
       ".list-inline>li:not(:last-child)::after {content: \"\\00b7\"; padding: 0 .5ex}\n",
       "</style>\n",
       "<ol class=list-inline><li>1</li><li>2</li><li>3</li></ol>\n"
      ],
      "text/latex": [
       "\\begin{enumerate*}\n",
       "\\item 1\n",
       "\\item 2\n",
       "\\item 3\n",
       "\\end{enumerate*}\n"
      ],
      "text/markdown": [
       "1. 1\n",
       "2. 2\n",
       "3. 3\n",
       "\n",
       "\n"
      ],
      "text/plain": [
       "[1] 1 2 3"
      ]
     },
     "metadata": {},
     "output_type": "display_data"
    }
   ],
   "source": [
    "a$a"
   ]
  },
  {
   "cell_type": "code",
   "execution_count": 13,
   "id": "884a50ab-58c6-4a87-b5ec-30256d780553",
   "metadata": {},
   "outputs": [
    {
     "data": {
      "text/html": [
       "<style>\n",
       ".list-inline {list-style: none; margin:0; padding: 0}\n",
       ".list-inline>li {display: inline-block}\n",
       ".list-inline>li:not(:last-child)::after {content: \"\\00b7\"; padding: 0 .5ex}\n",
       "</style>\n",
       "<ol class=list-inline><li>1</li><li>2</li><li>3</li></ol>\n"
      ],
      "text/latex": [
       "\\begin{enumerate*}\n",
       "\\item 1\n",
       "\\item 2\n",
       "\\item 3\n",
       "\\end{enumerate*}\n"
      ],
      "text/markdown": [
       "1. 1\n",
       "2. 2\n",
       "3. 3\n",
       "\n",
       "\n"
      ],
      "text/plain": [
       "[1] 1 2 3"
      ]
     },
     "metadata": {},
     "output_type": "display_data"
    }
   ],
   "source": [
    "a[[\"a\"]]"
   ]
  },
  {
   "cell_type": "markdown",
   "id": "6abe4632-3275-4f32-b6e5-c40c1ab62656",
   "metadata": {},
   "source": [
    "- 결국, `[`는 더 작은 새 리스트를 반환하는 것이고, `[[`는 리스트 안으로 내려가는 것이다."
   ]
  },
  {
   "cell_type": "code",
   "execution_count": null,
   "id": "55d85cdf-3ee2-4633-821a-eec6206cbc8b",
   "metadata": {},
   "outputs": [],
   "source": []
  }
 ],
 "metadata": {
  "kernelspec": {
   "display_name": "R",
   "language": "R",
   "name": "ir"
  },
  "language_info": {
   "codemirror_mode": "r",
   "file_extension": ".r",
   "mimetype": "text/x-r-source",
   "name": "R",
   "pygments_lexer": "r",
   "version": "4.1.3"
  }
 },
 "nbformat": 4,
 "nbformat_minor": 5
}
