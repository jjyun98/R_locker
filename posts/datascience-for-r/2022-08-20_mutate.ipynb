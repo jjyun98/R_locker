{
 "cells": [
  {
   "cell_type": "raw",
   "id": "128a53b4-cca9-4317-8bc4-a8644b84e446",
   "metadata": {},
   "source": [
    "---\n",
    "title: \"mutate\"\n",
    "format: \n",
    "  html:\n",
    "    code-fold: false\n",
    "    badges: true\n",
    "author: '조윤호'\n",
    "date: '8/20/2022'\n",
    "title-block-banner: true\n",
    "jupyter: R\n",
    "categories: [R]\n",
    "---"
   ]
  },
  {
   "cell_type": "markdown",
   "id": "22a2b363-b147-4095-b224-f8349f605fcc",
   "metadata": {},
   "source": [
    "# mutate\n",
    "\n",
    "mutate(filter, count, select, left_join, match), join"
   ]
  },
  {
   "cell_type": "code",
   "execution_count": 22,
   "id": "048d0b81-fcb1-4be3-a064-985619c178f6",
   "metadata": {},
   "outputs": [],
   "source": [
    "library('tidyverse')\n",
    "library('nycflights13')"
   ]
  },
  {
   "cell_type": "markdown",
   "id": "6e60213a-a2f2-4cf7-a07c-6652d2c7b9e0",
   "metadata": {},
   "source": [
    "## mutate"
   ]
  },
  {
   "cell_type": "markdown",
   "id": "2ebfe2dd-e33a-4d28-a22f-67368505c31e",
   "metadata": {},
   "source": [
    "### count, filter"
   ]
  },
  {
   "cell_type": "markdown",
   "id": "e2ffc0c0-0fb7-490d-8bae-f05b30f1924f",
   "metadata": {},
   "source": [
    "- 테이블에서 기본키를 확인한 후 실제로 기본키가 각 관측값을 고유하게 식별하는지 확인하기 위해 `count`하고 `n`이 1보다 큰 항목을 찾는다."
   ]
  },
  {
   "cell_type": "code",
   "execution_count": 3,
   "id": "df23ada4-3f45-4b1e-9c36-bb615f5b008d",
   "metadata": {},
   "outputs": [
    {
     "data": {
      "text/html": [
       "<table class=\"dataframe\">\n",
       "<caption>A tibble: 3 × 6</caption>\n",
       "<thead>\n",
       "\t<tr><th scope=col>year</th><th scope=col>month</th><th scope=col>day</th><th scope=col>hour</th><th scope=col>origin</th><th scope=col>n</th></tr>\n",
       "\t<tr><th scope=col>&lt;int&gt;</th><th scope=col>&lt;int&gt;</th><th scope=col>&lt;int&gt;</th><th scope=col>&lt;int&gt;</th><th scope=col>&lt;chr&gt;</th><th scope=col>&lt;int&gt;</th></tr>\n",
       "</thead>\n",
       "<tbody>\n",
       "\t<tr><td>2013</td><td>11</td><td>3</td><td>1</td><td>EWR</td><td>2</td></tr>\n",
       "\t<tr><td>2013</td><td>11</td><td>3</td><td>1</td><td>JFK</td><td>2</td></tr>\n",
       "\t<tr><td>2013</td><td>11</td><td>3</td><td>1</td><td>LGA</td><td>2</td></tr>\n",
       "</tbody>\n",
       "</table>\n"
      ],
      "text/latex": [
       "A tibble: 3 × 6\n",
       "\\begin{tabular}{llllll}\n",
       " year & month & day & hour & origin & n\\\\\n",
       " <int> & <int> & <int> & <int> & <chr> & <int>\\\\\n",
       "\\hline\n",
       "\t 2013 & 11 & 3 & 1 & EWR & 2\\\\\n",
       "\t 2013 & 11 & 3 & 1 & JFK & 2\\\\\n",
       "\t 2013 & 11 & 3 & 1 & LGA & 2\\\\\n",
       "\\end{tabular}\n"
      ],
      "text/markdown": [
       "\n",
       "A tibble: 3 × 6\n",
       "\n",
       "| year &lt;int&gt; | month &lt;int&gt; | day &lt;int&gt; | hour &lt;int&gt; | origin &lt;chr&gt; | n &lt;int&gt; |\n",
       "|---|---|---|---|---|---|\n",
       "| 2013 | 11 | 3 | 1 | EWR | 2 |\n",
       "| 2013 | 11 | 3 | 1 | JFK | 2 |\n",
       "| 2013 | 11 | 3 | 1 | LGA | 2 |\n",
       "\n"
      ],
      "text/plain": [
       "  year month day hour origin n\n",
       "1 2013 11    3   1    EWR    2\n",
       "2 2013 11    3   1    JFK    2\n",
       "3 2013 11    3   1    LGA    2"
      ]
     },
     "metadata": {},
     "output_type": "display_data"
    }
   ],
   "source": [
    "weather %>%\n",
    "count(year, month, day, hour, origin) %>%\n",
    "filter(n > 1)"
   ]
  },
  {
   "cell_type": "code",
   "execution_count": 4,
   "id": "8f7ad198-b2cc-42ac-89be-465d5bf5e864",
   "metadata": {},
   "outputs": [
    {
     "data": {
      "text/html": [
       "<table class=\"dataframe\">\n",
       "<caption>A tibble: 6 × 5</caption>\n",
       "<thead>\n",
       "\t<tr><th scope=col>year</th><th scope=col>month</th><th scope=col>day</th><th scope=col>flight</th><th scope=col>n</th></tr>\n",
       "\t<tr><th scope=col>&lt;int&gt;</th><th scope=col>&lt;int&gt;</th><th scope=col>&lt;int&gt;</th><th scope=col>&lt;int&gt;</th><th scope=col>&lt;int&gt;</th></tr>\n",
       "</thead>\n",
       "<tbody>\n",
       "\t<tr><td>2013</td><td>1</td><td>1</td><td> 1</td><td>2</td></tr>\n",
       "\t<tr><td>2013</td><td>1</td><td>1</td><td> 3</td><td>2</td></tr>\n",
       "\t<tr><td>2013</td><td>1</td><td>1</td><td> 4</td><td>2</td></tr>\n",
       "\t<tr><td>2013</td><td>1</td><td>1</td><td>11</td><td>3</td></tr>\n",
       "\t<tr><td>2013</td><td>1</td><td>1</td><td>15</td><td>2</td></tr>\n",
       "\t<tr><td>2013</td><td>1</td><td>1</td><td>21</td><td>2</td></tr>\n",
       "</tbody>\n",
       "</table>\n"
      ],
      "text/latex": [
       "A tibble: 6 × 5\n",
       "\\begin{tabular}{lllll}\n",
       " year & month & day & flight & n\\\\\n",
       " <int> & <int> & <int> & <int> & <int>\\\\\n",
       "\\hline\n",
       "\t 2013 & 1 & 1 &  1 & 2\\\\\n",
       "\t 2013 & 1 & 1 &  3 & 2\\\\\n",
       "\t 2013 & 1 & 1 &  4 & 2\\\\\n",
       "\t 2013 & 1 & 1 & 11 & 3\\\\\n",
       "\t 2013 & 1 & 1 & 15 & 2\\\\\n",
       "\t 2013 & 1 & 1 & 21 & 2\\\\\n",
       "\\end{tabular}\n"
      ],
      "text/markdown": [
       "\n",
       "A tibble: 6 × 5\n",
       "\n",
       "| year &lt;int&gt; | month &lt;int&gt; | day &lt;int&gt; | flight &lt;int&gt; | n &lt;int&gt; |\n",
       "|---|---|---|---|---|\n",
       "| 2013 | 1 | 1 |  1 | 2 |\n",
       "| 2013 | 1 | 1 |  3 | 2 |\n",
       "| 2013 | 1 | 1 |  4 | 2 |\n",
       "| 2013 | 1 | 1 | 11 | 3 |\n",
       "| 2013 | 1 | 1 | 15 | 2 |\n",
       "| 2013 | 1 | 1 | 21 | 2 |\n",
       "\n"
      ],
      "text/plain": [
       "  year month day flight n\n",
       "1 2013 1     1    1     2\n",
       "2 2013 1     1    3     2\n",
       "3 2013 1     1    4     2\n",
       "4 2013 1     1   11     3\n",
       "5 2013 1     1   15     2\n",
       "6 2013 1     1   21     2"
      ]
     },
     "metadata": {},
     "output_type": "display_data"
    }
   ],
   "source": [
    "flights %>%\n",
    "count(year, month, day, flight) %>%\n",
    "filter(n > 1) %>% head"
   ]
  },
  {
   "cell_type": "markdown",
   "id": "7a2b8fca-44a8-4fa8-a545-f76ddb9b461b",
   "metadata": {},
   "source": [
    "### select"
   ]
  },
  {
   "cell_type": "code",
   "execution_count": 5,
   "id": "ecca3671-12c6-4e76-b00f-20da66b01f59",
   "metadata": {},
   "outputs": [
    {
     "data": {
      "text/html": [
       "<table class=\"dataframe\">\n",
       "<caption>A tibble: 6 × 8</caption>\n",
       "<thead>\n",
       "\t<tr><th scope=col>year</th><th scope=col>month</th><th scope=col>day</th><th scope=col>hour</th><th scope=col>origin</th><th scope=col>dest</th><th scope=col>tailnum</th><th scope=col>carrier</th></tr>\n",
       "\t<tr><th scope=col>&lt;int&gt;</th><th scope=col>&lt;int&gt;</th><th scope=col>&lt;int&gt;</th><th scope=col>&lt;dbl&gt;</th><th scope=col>&lt;chr&gt;</th><th scope=col>&lt;chr&gt;</th><th scope=col>&lt;chr&gt;</th><th scope=col>&lt;chr&gt;</th></tr>\n",
       "</thead>\n",
       "<tbody>\n",
       "\t<tr><td>2013</td><td>1</td><td>1</td><td>5</td><td>EWR</td><td>IAH</td><td>N14228</td><td>UA</td></tr>\n",
       "\t<tr><td>2013</td><td>1</td><td>1</td><td>5</td><td>LGA</td><td>IAH</td><td>N24211</td><td>UA</td></tr>\n",
       "\t<tr><td>2013</td><td>1</td><td>1</td><td>5</td><td>JFK</td><td>MIA</td><td>N619AA</td><td>AA</td></tr>\n",
       "\t<tr><td>2013</td><td>1</td><td>1</td><td>5</td><td>JFK</td><td>BQN</td><td>N804JB</td><td>B6</td></tr>\n",
       "\t<tr><td>2013</td><td>1</td><td>1</td><td>6</td><td>LGA</td><td>ATL</td><td>N668DN</td><td>DL</td></tr>\n",
       "\t<tr><td>2013</td><td>1</td><td>1</td><td>5</td><td>EWR</td><td>ORD</td><td>N39463</td><td>UA</td></tr>\n",
       "</tbody>\n",
       "</table>\n"
      ],
      "text/latex": [
       "A tibble: 6 × 8\n",
       "\\begin{tabular}{llllllll}\n",
       " year & month & day & hour & origin & dest & tailnum & carrier\\\\\n",
       " <int> & <int> & <int> & <dbl> & <chr> & <chr> & <chr> & <chr>\\\\\n",
       "\\hline\n",
       "\t 2013 & 1 & 1 & 5 & EWR & IAH & N14228 & UA\\\\\n",
       "\t 2013 & 1 & 1 & 5 & LGA & IAH & N24211 & UA\\\\\n",
       "\t 2013 & 1 & 1 & 5 & JFK & MIA & N619AA & AA\\\\\n",
       "\t 2013 & 1 & 1 & 5 & JFK & BQN & N804JB & B6\\\\\n",
       "\t 2013 & 1 & 1 & 6 & LGA & ATL & N668DN & DL\\\\\n",
       "\t 2013 & 1 & 1 & 5 & EWR & ORD & N39463 & UA\\\\\n",
       "\\end{tabular}\n"
      ],
      "text/markdown": [
       "\n",
       "A tibble: 6 × 8\n",
       "\n",
       "| year &lt;int&gt; | month &lt;int&gt; | day &lt;int&gt; | hour &lt;dbl&gt; | origin &lt;chr&gt; | dest &lt;chr&gt; | tailnum &lt;chr&gt; | carrier &lt;chr&gt; |\n",
       "|---|---|---|---|---|---|---|---|\n",
       "| 2013 | 1 | 1 | 5 | EWR | IAH | N14228 | UA |\n",
       "| 2013 | 1 | 1 | 5 | LGA | IAH | N24211 | UA |\n",
       "| 2013 | 1 | 1 | 5 | JFK | MIA | N619AA | AA |\n",
       "| 2013 | 1 | 1 | 5 | JFK | BQN | N804JB | B6 |\n",
       "| 2013 | 1 | 1 | 6 | LGA | ATL | N668DN | DL |\n",
       "| 2013 | 1 | 1 | 5 | EWR | ORD | N39463 | UA |\n",
       "\n"
      ],
      "text/plain": [
       "  year month day hour origin dest tailnum carrier\n",
       "1 2013 1     1   5    EWR    IAH  N14228  UA     \n",
       "2 2013 1     1   5    LGA    IAH  N24211  UA     \n",
       "3 2013 1     1   5    JFK    MIA  N619AA  AA     \n",
       "4 2013 1     1   5    JFK    BQN  N804JB  B6     \n",
       "5 2013 1     1   6    LGA    ATL  N668DN  DL     \n",
       "6 2013 1     1   5    EWR    ORD  N39463  UA     "
      ]
     },
     "metadata": {},
     "output_type": "display_data"
    }
   ],
   "source": [
    "flights2 <- flights %>%\n",
    "select(year:day, hour, origin, dest, tailnum, carrier)\n",
    "flights2 %>% head"
   ]
  },
  {
   "cell_type": "markdown",
   "id": "b67285ab-6310-45df-836c-a4d5efad189e",
   "metadata": {},
   "source": [
    "### left_join"
   ]
  },
  {
   "cell_type": "code",
   "execution_count": 6,
   "id": "59ae1121-a10f-4aa9-8a48-a4c73bed51b0",
   "metadata": {},
   "outputs": [
    {
     "data": {
      "text/html": [
       "<table class=\"dataframe\">\n",
       "<caption>A tibble: 6 × 7</caption>\n",
       "<thead>\n",
       "\t<tr><th scope=col>year</th><th scope=col>month</th><th scope=col>day</th><th scope=col>hour</th><th scope=col>tailnum</th><th scope=col>carrier</th><th scope=col>name</th></tr>\n",
       "\t<tr><th scope=col>&lt;int&gt;</th><th scope=col>&lt;int&gt;</th><th scope=col>&lt;int&gt;</th><th scope=col>&lt;dbl&gt;</th><th scope=col>&lt;chr&gt;</th><th scope=col>&lt;chr&gt;</th><th scope=col>&lt;chr&gt;</th></tr>\n",
       "</thead>\n",
       "<tbody>\n",
       "\t<tr><td>2013</td><td>1</td><td>1</td><td>5</td><td>N14228</td><td>UA</td><td>United Air Lines Inc. </td></tr>\n",
       "\t<tr><td>2013</td><td>1</td><td>1</td><td>5</td><td>N24211</td><td>UA</td><td>United Air Lines Inc. </td></tr>\n",
       "\t<tr><td>2013</td><td>1</td><td>1</td><td>5</td><td>N619AA</td><td>AA</td><td>American Airlines Inc.</td></tr>\n",
       "\t<tr><td>2013</td><td>1</td><td>1</td><td>5</td><td>N804JB</td><td>B6</td><td>JetBlue Airways       </td></tr>\n",
       "\t<tr><td>2013</td><td>1</td><td>1</td><td>6</td><td>N668DN</td><td>DL</td><td>Delta Air Lines Inc.  </td></tr>\n",
       "\t<tr><td>2013</td><td>1</td><td>1</td><td>5</td><td>N39463</td><td>UA</td><td>United Air Lines Inc. </td></tr>\n",
       "</tbody>\n",
       "</table>\n"
      ],
      "text/latex": [
       "A tibble: 6 × 7\n",
       "\\begin{tabular}{lllllll}\n",
       " year & month & day & hour & tailnum & carrier & name\\\\\n",
       " <int> & <int> & <int> & <dbl> & <chr> & <chr> & <chr>\\\\\n",
       "\\hline\n",
       "\t 2013 & 1 & 1 & 5 & N14228 & UA & United Air Lines Inc. \\\\\n",
       "\t 2013 & 1 & 1 & 5 & N24211 & UA & United Air Lines Inc. \\\\\n",
       "\t 2013 & 1 & 1 & 5 & N619AA & AA & American Airlines Inc.\\\\\n",
       "\t 2013 & 1 & 1 & 5 & N804JB & B6 & JetBlue Airways       \\\\\n",
       "\t 2013 & 1 & 1 & 6 & N668DN & DL & Delta Air Lines Inc.  \\\\\n",
       "\t 2013 & 1 & 1 & 5 & N39463 & UA & United Air Lines Inc. \\\\\n",
       "\\end{tabular}\n"
      ],
      "text/markdown": [
       "\n",
       "A tibble: 6 × 7\n",
       "\n",
       "| year &lt;int&gt; | month &lt;int&gt; | day &lt;int&gt; | hour &lt;dbl&gt; | tailnum &lt;chr&gt; | carrier &lt;chr&gt; | name &lt;chr&gt; |\n",
       "|---|---|---|---|---|---|---|\n",
       "| 2013 | 1 | 1 | 5 | N14228 | UA | United Air Lines Inc.  |\n",
       "| 2013 | 1 | 1 | 5 | N24211 | UA | United Air Lines Inc.  |\n",
       "| 2013 | 1 | 1 | 5 | N619AA | AA | American Airlines Inc. |\n",
       "| 2013 | 1 | 1 | 5 | N804JB | B6 | JetBlue Airways        |\n",
       "| 2013 | 1 | 1 | 6 | N668DN | DL | Delta Air Lines Inc.   |\n",
       "| 2013 | 1 | 1 | 5 | N39463 | UA | United Air Lines Inc.  |\n",
       "\n"
      ],
      "text/plain": [
       "  year month day hour tailnum carrier name                  \n",
       "1 2013 1     1   5    N14228  UA      United Air Lines Inc. \n",
       "2 2013 1     1   5    N24211  UA      United Air Lines Inc. \n",
       "3 2013 1     1   5    N619AA  AA      American Airlines Inc.\n",
       "4 2013 1     1   5    N804JB  B6      JetBlue Airways       \n",
       "5 2013 1     1   6    N668DN  DL      Delta Air Lines Inc.  \n",
       "6 2013 1     1   5    N39463  UA      United Air Lines Inc. "
      ]
     },
     "metadata": {},
     "output_type": "display_data"
    }
   ],
   "source": [
    "flights2 %>%\n",
    "select(-origin, -dest) %>%\n",
    "left_join(airlines, by = \"carrier\") %>% head"
   ]
  },
  {
   "cell_type": "code",
   "execution_count": 7,
   "id": "583b6ed1-65d7-4203-88f0-743e8d741e21",
   "metadata": {},
   "outputs": [
    {
     "data": {
      "text/html": [
       "<table class=\"dataframe\">\n",
       "<caption>A tibble: 6 × 6</caption>\n",
       "<thead>\n",
       "\t<tr><th scope=col>year</th><th scope=col>month</th><th scope=col>day</th><th scope=col>hour</th><th scope=col>tailnum</th><th scope=col>carrier</th></tr>\n",
       "\t<tr><th scope=col>&lt;int&gt;</th><th scope=col>&lt;int&gt;</th><th scope=col>&lt;int&gt;</th><th scope=col>&lt;dbl&gt;</th><th scope=col>&lt;chr&gt;</th><th scope=col>&lt;chr&gt;</th></tr>\n",
       "</thead>\n",
       "<tbody>\n",
       "\t<tr><td>2013</td><td>1</td><td>1</td><td>5</td><td>N14228</td><td>UA</td></tr>\n",
       "\t<tr><td>2013</td><td>1</td><td>1</td><td>5</td><td>N24211</td><td>UA</td></tr>\n",
       "\t<tr><td>2013</td><td>1</td><td>1</td><td>5</td><td>N619AA</td><td>AA</td></tr>\n",
       "\t<tr><td>2013</td><td>1</td><td>1</td><td>5</td><td>N804JB</td><td>B6</td></tr>\n",
       "\t<tr><td>2013</td><td>1</td><td>1</td><td>6</td><td>N668DN</td><td>DL</td></tr>\n",
       "\t<tr><td>2013</td><td>1</td><td>1</td><td>5</td><td>N39463</td><td>UA</td></tr>\n",
       "</tbody>\n",
       "</table>\n"
      ],
      "text/latex": [
       "A tibble: 6 × 6\n",
       "\\begin{tabular}{llllll}\n",
       " year & month & day & hour & tailnum & carrier\\\\\n",
       " <int> & <int> & <int> & <dbl> & <chr> & <chr>\\\\\n",
       "\\hline\n",
       "\t 2013 & 1 & 1 & 5 & N14228 & UA\\\\\n",
       "\t 2013 & 1 & 1 & 5 & N24211 & UA\\\\\n",
       "\t 2013 & 1 & 1 & 5 & N619AA & AA\\\\\n",
       "\t 2013 & 1 & 1 & 5 & N804JB & B6\\\\\n",
       "\t 2013 & 1 & 1 & 6 & N668DN & DL\\\\\n",
       "\t 2013 & 1 & 1 & 5 & N39463 & UA\\\\\n",
       "\\end{tabular}\n"
      ],
      "text/markdown": [
       "\n",
       "A tibble: 6 × 6\n",
       "\n",
       "| year &lt;int&gt; | month &lt;int&gt; | day &lt;int&gt; | hour &lt;dbl&gt; | tailnum &lt;chr&gt; | carrier &lt;chr&gt; |\n",
       "|---|---|---|---|---|---|\n",
       "| 2013 | 1 | 1 | 5 | N14228 | UA |\n",
       "| 2013 | 1 | 1 | 5 | N24211 | UA |\n",
       "| 2013 | 1 | 1 | 5 | N619AA | AA |\n",
       "| 2013 | 1 | 1 | 5 | N804JB | B6 |\n",
       "| 2013 | 1 | 1 | 6 | N668DN | DL |\n",
       "| 2013 | 1 | 1 | 5 | N39463 | UA |\n",
       "\n"
      ],
      "text/plain": [
       "  year month day hour tailnum carrier\n",
       "1 2013 1     1   5    N14228  UA     \n",
       "2 2013 1     1   5    N24211  UA     \n",
       "3 2013 1     1   5    N619AA  AA     \n",
       "4 2013 1     1   5    N804JB  B6     \n",
       "5 2013 1     1   6    N668DN  DL     \n",
       "6 2013 1     1   5    N39463  UA     "
      ]
     },
     "metadata": {},
     "output_type": "display_data"
    }
   ],
   "source": [
    "flights2 %>%\n",
    "select(-origin, -dest) %>% head"
   ]
  },
  {
   "cell_type": "code",
   "execution_count": 8,
   "id": "243e9d90-4f26-4e0b-a4e0-fd4074b8334a",
   "metadata": {},
   "outputs": [
    {
     "data": {
      "text/html": [
       "<table class=\"dataframe\">\n",
       "<caption>A tibble: 6 × 2</caption>\n",
       "<thead>\n",
       "\t<tr><th scope=col>carrier</th><th scope=col>name</th></tr>\n",
       "\t<tr><th scope=col>&lt;chr&gt;</th><th scope=col>&lt;chr&gt;</th></tr>\n",
       "</thead>\n",
       "<tbody>\n",
       "\t<tr><td>9E</td><td>Endeavor Air Inc.       </td></tr>\n",
       "\t<tr><td>AA</td><td>American Airlines Inc.  </td></tr>\n",
       "\t<tr><td>AS</td><td>Alaska Airlines Inc.    </td></tr>\n",
       "\t<tr><td>B6</td><td>JetBlue Airways         </td></tr>\n",
       "\t<tr><td>DL</td><td>Delta Air Lines Inc.    </td></tr>\n",
       "\t<tr><td>EV</td><td>ExpressJet Airlines Inc.</td></tr>\n",
       "</tbody>\n",
       "</table>\n"
      ],
      "text/latex": [
       "A tibble: 6 × 2\n",
       "\\begin{tabular}{ll}\n",
       " carrier & name\\\\\n",
       " <chr> & <chr>\\\\\n",
       "\\hline\n",
       "\t 9E & Endeavor Air Inc.       \\\\\n",
       "\t AA & American Airlines Inc.  \\\\\n",
       "\t AS & Alaska Airlines Inc.    \\\\\n",
       "\t B6 & JetBlue Airways         \\\\\n",
       "\t DL & Delta Air Lines Inc.    \\\\\n",
       "\t EV & ExpressJet Airlines Inc.\\\\\n",
       "\\end{tabular}\n"
      ],
      "text/markdown": [
       "\n",
       "A tibble: 6 × 2\n",
       "\n",
       "| carrier &lt;chr&gt; | name &lt;chr&gt; |\n",
       "|---|---|\n",
       "| 9E | Endeavor Air Inc.        |\n",
       "| AA | American Airlines Inc.   |\n",
       "| AS | Alaska Airlines Inc.     |\n",
       "| B6 | JetBlue Airways          |\n",
       "| DL | Delta Air Lines Inc.     |\n",
       "| EV | ExpressJet Airlines Inc. |\n",
       "\n"
      ],
      "text/plain": [
       "  carrier name                    \n",
       "1 9E      Endeavor Air Inc.       \n",
       "2 AA      American Airlines Inc.  \n",
       "3 AS      Alaska Airlines Inc.    \n",
       "4 B6      JetBlue Airways         \n",
       "5 DL      Delta Air Lines Inc.    \n",
       "6 EV      ExpressJet Airlines Inc."
      ]
     },
     "metadata": {},
     "output_type": "display_data"
    }
   ],
   "source": [
    "airlines %>% head"
   ]
  },
  {
   "cell_type": "markdown",
   "id": "de82e702-4563-44c2-aabc-4686011c45b3",
   "metadata": {},
   "source": [
    "`match` : 말 그대로 다른 데이터의 열의 항목과 이 열의 해당 항목에 맞는 것을 매치해준다."
   ]
  },
  {
   "cell_type": "markdown",
   "id": "58839960-8c5c-44a2-b96b-5be9bc3baf98",
   "metadata": {},
   "source": [
    "### match"
   ]
  },
  {
   "cell_type": "code",
   "execution_count": 9,
   "id": "11788e6d-d6a0-4bd3-a655-86302540fd00",
   "metadata": {},
   "outputs": [
    {
     "data": {
      "text/html": [
       "<table class=\"dataframe\">\n",
       "<caption>A tibble: 6 × 7</caption>\n",
       "<thead>\n",
       "\t<tr><th scope=col>year</th><th scope=col>month</th><th scope=col>day</th><th scope=col>hour</th><th scope=col>tailnum</th><th scope=col>carrier</th><th scope=col>name</th></tr>\n",
       "\t<tr><th scope=col>&lt;int&gt;</th><th scope=col>&lt;int&gt;</th><th scope=col>&lt;int&gt;</th><th scope=col>&lt;dbl&gt;</th><th scope=col>&lt;chr&gt;</th><th scope=col>&lt;chr&gt;</th><th scope=col>&lt;chr&gt;</th></tr>\n",
       "</thead>\n",
       "<tbody>\n",
       "\t<tr><td>2013</td><td>1</td><td>1</td><td>5</td><td>N14228</td><td>UA</td><td>United Air Lines Inc. </td></tr>\n",
       "\t<tr><td>2013</td><td>1</td><td>1</td><td>5</td><td>N24211</td><td>UA</td><td>United Air Lines Inc. </td></tr>\n",
       "\t<tr><td>2013</td><td>1</td><td>1</td><td>5</td><td>N619AA</td><td>AA</td><td>American Airlines Inc.</td></tr>\n",
       "\t<tr><td>2013</td><td>1</td><td>1</td><td>5</td><td>N804JB</td><td>B6</td><td>JetBlue Airways       </td></tr>\n",
       "\t<tr><td>2013</td><td>1</td><td>1</td><td>6</td><td>N668DN</td><td>DL</td><td>Delta Air Lines Inc.  </td></tr>\n",
       "\t<tr><td>2013</td><td>1</td><td>1</td><td>5</td><td>N39463</td><td>UA</td><td>United Air Lines Inc. </td></tr>\n",
       "</tbody>\n",
       "</table>\n"
      ],
      "text/latex": [
       "A tibble: 6 × 7\n",
       "\\begin{tabular}{lllllll}\n",
       " year & month & day & hour & tailnum & carrier & name\\\\\n",
       " <int> & <int> & <int> & <dbl> & <chr> & <chr> & <chr>\\\\\n",
       "\\hline\n",
       "\t 2013 & 1 & 1 & 5 & N14228 & UA & United Air Lines Inc. \\\\\n",
       "\t 2013 & 1 & 1 & 5 & N24211 & UA & United Air Lines Inc. \\\\\n",
       "\t 2013 & 1 & 1 & 5 & N619AA & AA & American Airlines Inc.\\\\\n",
       "\t 2013 & 1 & 1 & 5 & N804JB & B6 & JetBlue Airways       \\\\\n",
       "\t 2013 & 1 & 1 & 6 & N668DN & DL & Delta Air Lines Inc.  \\\\\n",
       "\t 2013 & 1 & 1 & 5 & N39463 & UA & United Air Lines Inc. \\\\\n",
       "\\end{tabular}\n"
      ],
      "text/markdown": [
       "\n",
       "A tibble: 6 × 7\n",
       "\n",
       "| year &lt;int&gt; | month &lt;int&gt; | day &lt;int&gt; | hour &lt;dbl&gt; | tailnum &lt;chr&gt; | carrier &lt;chr&gt; | name &lt;chr&gt; |\n",
       "|---|---|---|---|---|---|---|\n",
       "| 2013 | 1 | 1 | 5 | N14228 | UA | United Air Lines Inc.  |\n",
       "| 2013 | 1 | 1 | 5 | N24211 | UA | United Air Lines Inc.  |\n",
       "| 2013 | 1 | 1 | 5 | N619AA | AA | American Airlines Inc. |\n",
       "| 2013 | 1 | 1 | 5 | N804JB | B6 | JetBlue Airways        |\n",
       "| 2013 | 1 | 1 | 6 | N668DN | DL | Delta Air Lines Inc.   |\n",
       "| 2013 | 1 | 1 | 5 | N39463 | UA | United Air Lines Inc.  |\n",
       "\n"
      ],
      "text/plain": [
       "  year month day hour tailnum carrier name                  \n",
       "1 2013 1     1   5    N14228  UA      United Air Lines Inc. \n",
       "2 2013 1     1   5    N24211  UA      United Air Lines Inc. \n",
       "3 2013 1     1   5    N619AA  AA      American Airlines Inc.\n",
       "4 2013 1     1   5    N804JB  B6      JetBlue Airways       \n",
       "5 2013 1     1   6    N668DN  DL      Delta Air Lines Inc.  \n",
       "6 2013 1     1   5    N39463  UA      United Air Lines Inc. "
      ]
     },
     "metadata": {},
     "output_type": "display_data"
    }
   ],
   "source": [
    "flights2 %>%\n",
    "select(-origin, -dest) %>%\n",
    "mutate(name = airlines$name[match(carrier, airlines$carrier)]) %>% head"
   ]
  },
  {
   "cell_type": "markdown",
   "id": "b7656942-eb5a-4eee-bc36-ee8d96f340aa",
   "metadata": {},
   "source": [
    "## join"
   ]
  },
  {
   "cell_type": "markdown",
   "id": "bc428ebc-97d3-45f0-a7f3-c6444e4875b5",
   "metadata": {},
   "source": [
    "`-` 예시 추가"
   ]
  },
  {
   "cell_type": "code",
   "execution_count": 10,
   "id": "b33ad9eb-488e-462f-8380-e5cfe04371f7",
   "metadata": {},
   "outputs": [],
   "source": [
    "x <- tribble(\n",
    "    ~key, ~val_x,\n",
    "    1, \"x1\",\n",
    "    2, \"x2\",\n",
    "    3, \"x3\"\n",
    "    )\n",
    "y <- tribble(\n",
    "    ~key, ~val_y,\n",
    "    1, \"y1\",\n",
    "    2, \"y2\",\n",
    "    4, \"y3\"\n",
    "    )"
   ]
  },
  {
   "cell_type": "code",
   "execution_count": 11,
   "id": "1735f533-1549-4b76-82ee-7dd316813825",
   "metadata": {},
   "outputs": [
    {
     "data": {
      "text/html": [
       "<table class=\"dataframe\">\n",
       "<caption>A tibble: 3 × 2</caption>\n",
       "<thead>\n",
       "\t<tr><th scope=col>key</th><th scope=col>val_x</th></tr>\n",
       "\t<tr><th scope=col>&lt;dbl&gt;</th><th scope=col>&lt;chr&gt;</th></tr>\n",
       "</thead>\n",
       "<tbody>\n",
       "\t<tr><td>1</td><td>x1</td></tr>\n",
       "\t<tr><td>2</td><td>x2</td></tr>\n",
       "\t<tr><td>3</td><td>x3</td></tr>\n",
       "</tbody>\n",
       "</table>\n"
      ],
      "text/latex": [
       "A tibble: 3 × 2\n",
       "\\begin{tabular}{ll}\n",
       " key & val\\_x\\\\\n",
       " <dbl> & <chr>\\\\\n",
       "\\hline\n",
       "\t 1 & x1\\\\\n",
       "\t 2 & x2\\\\\n",
       "\t 3 & x3\\\\\n",
       "\\end{tabular}\n"
      ],
      "text/markdown": [
       "\n",
       "A tibble: 3 × 2\n",
       "\n",
       "| key &lt;dbl&gt; | val_x &lt;chr&gt; |\n",
       "|---|---|\n",
       "| 1 | x1 |\n",
       "| 2 | x2 |\n",
       "| 3 | x3 |\n",
       "\n"
      ],
      "text/plain": [
       "  key val_x\n",
       "1 1   x1   \n",
       "2 2   x2   \n",
       "3 3   x3   "
      ]
     },
     "metadata": {},
     "output_type": "display_data"
    },
    {
     "data": {
      "text/html": [
       "<table class=\"dataframe\">\n",
       "<caption>A tibble: 3 × 2</caption>\n",
       "<thead>\n",
       "\t<tr><th scope=col>key</th><th scope=col>val_y</th></tr>\n",
       "\t<tr><th scope=col>&lt;dbl&gt;</th><th scope=col>&lt;chr&gt;</th></tr>\n",
       "</thead>\n",
       "<tbody>\n",
       "\t<tr><td>1</td><td>y1</td></tr>\n",
       "\t<tr><td>2</td><td>y2</td></tr>\n",
       "\t<tr><td>4</td><td>y3</td></tr>\n",
       "</tbody>\n",
       "</table>\n"
      ],
      "text/latex": [
       "A tibble: 3 × 2\n",
       "\\begin{tabular}{ll}\n",
       " key & val\\_y\\\\\n",
       " <dbl> & <chr>\\\\\n",
       "\\hline\n",
       "\t 1 & y1\\\\\n",
       "\t 2 & y2\\\\\n",
       "\t 4 & y3\\\\\n",
       "\\end{tabular}\n"
      ],
      "text/markdown": [
       "\n",
       "A tibble: 3 × 2\n",
       "\n",
       "| key &lt;dbl&gt; | val_y &lt;chr&gt; |\n",
       "|---|---|\n",
       "| 1 | y1 |\n",
       "| 2 | y2 |\n",
       "| 4 | y3 |\n",
       "\n"
      ],
      "text/plain": [
       "  key val_y\n",
       "1 1   y1   \n",
       "2 2   y2   \n",
       "3 4   y3   "
      ]
     },
     "metadata": {},
     "output_type": "display_data"
    }
   ],
   "source": [
    "x\n",
    "y"
   ]
  },
  {
   "cell_type": "code",
   "execution_count": 12,
   "id": "6c9cd4e2-ebc9-41a6-b8f0-14b6d56e5461",
   "metadata": {},
   "outputs": [
    {
     "data": {
      "text/html": [
       "<table class=\"dataframe\">\n",
       "<caption>A tibble: 2 × 3</caption>\n",
       "<thead>\n",
       "\t<tr><th scope=col>key</th><th scope=col>val_x</th><th scope=col>val_y</th></tr>\n",
       "\t<tr><th scope=col>&lt;dbl&gt;</th><th scope=col>&lt;chr&gt;</th><th scope=col>&lt;chr&gt;</th></tr>\n",
       "</thead>\n",
       "<tbody>\n",
       "\t<tr><td>1</td><td>x1</td><td>y1</td></tr>\n",
       "\t<tr><td>2</td><td>x2</td><td>y2</td></tr>\n",
       "</tbody>\n",
       "</table>\n"
      ],
      "text/latex": [
       "A tibble: 2 × 3\n",
       "\\begin{tabular}{lll}\n",
       " key & val\\_x & val\\_y\\\\\n",
       " <dbl> & <chr> & <chr>\\\\\n",
       "\\hline\n",
       "\t 1 & x1 & y1\\\\\n",
       "\t 2 & x2 & y2\\\\\n",
       "\\end{tabular}\n"
      ],
      "text/markdown": [
       "\n",
       "A tibble: 2 × 3\n",
       "\n",
       "| key &lt;dbl&gt; | val_x &lt;chr&gt; | val_y &lt;chr&gt; |\n",
       "|---|---|---|\n",
       "| 1 | x1 | y1 |\n",
       "| 2 | x2 | y2 |\n",
       "\n"
      ],
      "text/plain": [
       "  key val_x val_y\n",
       "1 1   x1    y1   \n",
       "2 2   x2    y2   "
      ]
     },
     "metadata": {},
     "output_type": "display_data"
    }
   ],
   "source": [
    "x %>% inner_join(y, by = \"key\")"
   ]
  },
  {
   "cell_type": "markdown",
   "id": "bdd76db5-f4a2-47cd-9fdb-80f873156a5a",
   "metadata": {},
   "source": [
    "> 조인 종류"
   ]
  },
  {
   "cell_type": "markdown",
   "id": "7941c04d-1e4b-4fd3-b1fb-bad9d352e3e0",
   "metadata": {},
   "source": [
    "### 이미지 삽입 예정"
   ]
  },
  {
   "cell_type": "markdown",
   "id": "51911f71-c649-47da-a480-1ae6bbcf907c",
   "metadata": {},
   "source": [
    "### 중복키"
   ]
  },
  {
   "cell_type": "markdown",
   "id": "f49b20d4-9a5b-4790-ab5e-47bfa080a72d",
   "metadata": {},
   "source": [
    "- 키가 고유하지 않고 중복일 경우?"
   ]
  },
  {
   "cell_type": "code",
   "execution_count": 13,
   "id": "20619f43-41a8-4c89-8f14-5b2b755f587d",
   "metadata": {},
   "outputs": [
    {
     "data": {
      "text/html": [
       "<table class=\"dataframe\">\n",
       "<caption>A tibble: 4 × 3</caption>\n",
       "<thead>\n",
       "\t<tr><th scope=col>key</th><th scope=col>val_x</th><th scope=col>val_y</th></tr>\n",
       "\t<tr><th scope=col>&lt;dbl&gt;</th><th scope=col>&lt;chr&gt;</th><th scope=col>&lt;chr&gt;</th></tr>\n",
       "</thead>\n",
       "<tbody>\n",
       "\t<tr><td>1</td><td>x1</td><td>y1</td></tr>\n",
       "\t<tr><td>2</td><td>x2</td><td>y2</td></tr>\n",
       "\t<tr><td>2</td><td>x3</td><td>y2</td></tr>\n",
       "\t<tr><td>1</td><td>x4</td><td>y1</td></tr>\n",
       "</tbody>\n",
       "</table>\n"
      ],
      "text/latex": [
       "A tibble: 4 × 3\n",
       "\\begin{tabular}{lll}\n",
       " key & val\\_x & val\\_y\\\\\n",
       " <dbl> & <chr> & <chr>\\\\\n",
       "\\hline\n",
       "\t 1 & x1 & y1\\\\\n",
       "\t 2 & x2 & y2\\\\\n",
       "\t 2 & x3 & y2\\\\\n",
       "\t 1 & x4 & y1\\\\\n",
       "\\end{tabular}\n"
      ],
      "text/markdown": [
       "\n",
       "A tibble: 4 × 3\n",
       "\n",
       "| key &lt;dbl&gt; | val_x &lt;chr&gt; | val_y &lt;chr&gt; |\n",
       "|---|---|---|\n",
       "| 1 | x1 | y1 |\n",
       "| 2 | x2 | y2 |\n",
       "| 2 | x3 | y2 |\n",
       "| 1 | x4 | y1 |\n",
       "\n"
      ],
      "text/plain": [
       "  key val_x val_y\n",
       "1 1   x1    y1   \n",
       "2 2   x2    y2   \n",
       "3 2   x3    y2   \n",
       "4 1   x4    y1   "
      ]
     },
     "metadata": {},
     "output_type": "display_data"
    }
   ],
   "source": [
    "x <- tribble(\n",
    "    ~key, ~val_x,\n",
    "    1, \"x1\",\n",
    "    2, \"x2\",\n",
    "    2, \"x3\",\n",
    "    1, \"x4\"\n",
    "    )\n",
    "y <- tribble(\n",
    "    ~key, ~val_y,\n",
    "    1, \"y1\",\n",
    "    2, \"y2\"\n",
    "    )\n",
    "left_join(x, y, by = \"key\")"
   ]
  },
  {
   "cell_type": "markdown",
   "id": "d3b2f051-ca68-4056-bc87-dae55eefe4bc",
   "metadata": {},
   "source": [
    "- 일반적으로 테이블 쌍에서 조인하려는 변수는 두 테이블에서 항상 하나의 변수(같은 이름)에 의해 조인되었다.<br>\n",
    "`by = \"key\"`에 의해<br>\n",
    "하지만, `by = NULL`를 사용하면 두 테이블에 있는 모든 변수를 사용하여 조인한다.<br>\n",
    "이를 nature join이라 부름."
   ]
  },
  {
   "cell_type": "code",
   "execution_count": 14,
   "id": "0584f40b-f722-4988-b33a-be714ee9f937",
   "metadata": {},
   "outputs": [
    {
     "name": "stderr",
     "output_type": "stream",
     "text": [
      "\u001b[1m\u001b[22mJoining, by = c(\"year\", \"month\", \"day\", \"hour\", \"origin\")\n"
     ]
    },
    {
     "data": {
      "text/html": [
       "<table class=\"dataframe\">\n",
       "<caption>A tibble: 6 × 18</caption>\n",
       "<thead>\n",
       "\t<tr><th scope=col>year</th><th scope=col>month</th><th scope=col>day</th><th scope=col>hour</th><th scope=col>origin</th><th scope=col>dest</th><th scope=col>tailnum</th><th scope=col>carrier</th><th scope=col>temp</th><th scope=col>dewp</th><th scope=col>humid</th><th scope=col>wind_dir</th><th scope=col>wind_speed</th><th scope=col>wind_gust</th><th scope=col>precip</th><th scope=col>pressure</th><th scope=col>visib</th><th scope=col>time_hour</th></tr>\n",
       "\t<tr><th scope=col>&lt;int&gt;</th><th scope=col>&lt;int&gt;</th><th scope=col>&lt;int&gt;</th><th scope=col>&lt;dbl&gt;</th><th scope=col>&lt;chr&gt;</th><th scope=col>&lt;chr&gt;</th><th scope=col>&lt;chr&gt;</th><th scope=col>&lt;chr&gt;</th><th scope=col>&lt;dbl&gt;</th><th scope=col>&lt;dbl&gt;</th><th scope=col>&lt;dbl&gt;</th><th scope=col>&lt;dbl&gt;</th><th scope=col>&lt;dbl&gt;</th><th scope=col>&lt;dbl&gt;</th><th scope=col>&lt;dbl&gt;</th><th scope=col>&lt;dbl&gt;</th><th scope=col>&lt;dbl&gt;</th><th scope=col>&lt;dttm&gt;</th></tr>\n",
       "</thead>\n",
       "<tbody>\n",
       "\t<tr><td>2013</td><td>1</td><td>1</td><td>5</td><td>EWR</td><td>IAH</td><td>N14228</td><td>UA</td><td>39.02</td><td>28.04</td><td>64.43</td><td>260</td><td>12.65858</td><td>      NA</td><td>0</td><td>1011.9</td><td>10</td><td>2013-01-01 05:00:00</td></tr>\n",
       "\t<tr><td>2013</td><td>1</td><td>1</td><td>5</td><td>LGA</td><td>IAH</td><td>N24211</td><td>UA</td><td>39.92</td><td>24.98</td><td>54.81</td><td>250</td><td>14.96014</td><td>21.86482</td><td>0</td><td>1011.4</td><td>10</td><td>2013-01-01 05:00:00</td></tr>\n",
       "\t<tr><td>2013</td><td>1</td><td>1</td><td>5</td><td>JFK</td><td>MIA</td><td>N619AA</td><td>AA</td><td>39.02</td><td>26.96</td><td>61.63</td><td>260</td><td>14.96014</td><td>      NA</td><td>0</td><td>1012.1</td><td>10</td><td>2013-01-01 05:00:00</td></tr>\n",
       "\t<tr><td>2013</td><td>1</td><td>1</td><td>5</td><td>JFK</td><td>BQN</td><td>N804JB</td><td>B6</td><td>39.02</td><td>26.96</td><td>61.63</td><td>260</td><td>14.96014</td><td>      NA</td><td>0</td><td>1012.1</td><td>10</td><td>2013-01-01 05:00:00</td></tr>\n",
       "\t<tr><td>2013</td><td>1</td><td>1</td><td>6</td><td>LGA</td><td>ATL</td><td>N668DN</td><td>DL</td><td>39.92</td><td>24.98</td><td>54.81</td><td>260</td><td>16.11092</td><td>23.01560</td><td>0</td><td>1011.7</td><td>10</td><td>2013-01-01 06:00:00</td></tr>\n",
       "\t<tr><td>2013</td><td>1</td><td>1</td><td>5</td><td>EWR</td><td>ORD</td><td>N39463</td><td>UA</td><td>39.02</td><td>28.04</td><td>64.43</td><td>260</td><td>12.65858</td><td>      NA</td><td>0</td><td>1011.9</td><td>10</td><td>2013-01-01 05:00:00</td></tr>\n",
       "</tbody>\n",
       "</table>\n"
      ],
      "text/latex": [
       "A tibble: 6 × 18\n",
       "\\begin{tabular}{llllllllllllllllll}\n",
       " year & month & day & hour & origin & dest & tailnum & carrier & temp & dewp & humid & wind\\_dir & wind\\_speed & wind\\_gust & precip & pressure & visib & time\\_hour\\\\\n",
       " <int> & <int> & <int> & <dbl> & <chr> & <chr> & <chr> & <chr> & <dbl> & <dbl> & <dbl> & <dbl> & <dbl> & <dbl> & <dbl> & <dbl> & <dbl> & <dttm>\\\\\n",
       "\\hline\n",
       "\t 2013 & 1 & 1 & 5 & EWR & IAH & N14228 & UA & 39.02 & 28.04 & 64.43 & 260 & 12.65858 &       NA & 0 & 1011.9 & 10 & 2013-01-01 05:00:00\\\\\n",
       "\t 2013 & 1 & 1 & 5 & LGA & IAH & N24211 & UA & 39.92 & 24.98 & 54.81 & 250 & 14.96014 & 21.86482 & 0 & 1011.4 & 10 & 2013-01-01 05:00:00\\\\\n",
       "\t 2013 & 1 & 1 & 5 & JFK & MIA & N619AA & AA & 39.02 & 26.96 & 61.63 & 260 & 14.96014 &       NA & 0 & 1012.1 & 10 & 2013-01-01 05:00:00\\\\\n",
       "\t 2013 & 1 & 1 & 5 & JFK & BQN & N804JB & B6 & 39.02 & 26.96 & 61.63 & 260 & 14.96014 &       NA & 0 & 1012.1 & 10 & 2013-01-01 05:00:00\\\\\n",
       "\t 2013 & 1 & 1 & 6 & LGA & ATL & N668DN & DL & 39.92 & 24.98 & 54.81 & 260 & 16.11092 & 23.01560 & 0 & 1011.7 & 10 & 2013-01-01 06:00:00\\\\\n",
       "\t 2013 & 1 & 1 & 5 & EWR & ORD & N39463 & UA & 39.02 & 28.04 & 64.43 & 260 & 12.65858 &       NA & 0 & 1011.9 & 10 & 2013-01-01 05:00:00\\\\\n",
       "\\end{tabular}\n"
      ],
      "text/markdown": [
       "\n",
       "A tibble: 6 × 18\n",
       "\n",
       "| year &lt;int&gt; | month &lt;int&gt; | day &lt;int&gt; | hour &lt;dbl&gt; | origin &lt;chr&gt; | dest &lt;chr&gt; | tailnum &lt;chr&gt; | carrier &lt;chr&gt; | temp &lt;dbl&gt; | dewp &lt;dbl&gt; | humid &lt;dbl&gt; | wind_dir &lt;dbl&gt; | wind_speed &lt;dbl&gt; | wind_gust &lt;dbl&gt; | precip &lt;dbl&gt; | pressure &lt;dbl&gt; | visib &lt;dbl&gt; | time_hour &lt;dttm&gt; |\n",
       "|---|---|---|---|---|---|---|---|---|---|---|---|---|---|---|---|---|---|\n",
       "| 2013 | 1 | 1 | 5 | EWR | IAH | N14228 | UA | 39.02 | 28.04 | 64.43 | 260 | 12.65858 |       NA | 0 | 1011.9 | 10 | 2013-01-01 05:00:00 |\n",
       "| 2013 | 1 | 1 | 5 | LGA | IAH | N24211 | UA | 39.92 | 24.98 | 54.81 | 250 | 14.96014 | 21.86482 | 0 | 1011.4 | 10 | 2013-01-01 05:00:00 |\n",
       "| 2013 | 1 | 1 | 5 | JFK | MIA | N619AA | AA | 39.02 | 26.96 | 61.63 | 260 | 14.96014 |       NA | 0 | 1012.1 | 10 | 2013-01-01 05:00:00 |\n",
       "| 2013 | 1 | 1 | 5 | JFK | BQN | N804JB | B6 | 39.02 | 26.96 | 61.63 | 260 | 14.96014 |       NA | 0 | 1012.1 | 10 | 2013-01-01 05:00:00 |\n",
       "| 2013 | 1 | 1 | 6 | LGA | ATL | N668DN | DL | 39.92 | 24.98 | 54.81 | 260 | 16.11092 | 23.01560 | 0 | 1011.7 | 10 | 2013-01-01 06:00:00 |\n",
       "| 2013 | 1 | 1 | 5 | EWR | ORD | N39463 | UA | 39.02 | 28.04 | 64.43 | 260 | 12.65858 |       NA | 0 | 1011.9 | 10 | 2013-01-01 05:00:00 |\n",
       "\n"
      ],
      "text/plain": [
       "  year month day hour origin dest tailnum carrier temp  dewp  humid wind_dir\n",
       "1 2013 1     1   5    EWR    IAH  N14228  UA      39.02 28.04 64.43 260     \n",
       "2 2013 1     1   5    LGA    IAH  N24211  UA      39.92 24.98 54.81 250     \n",
       "3 2013 1     1   5    JFK    MIA  N619AA  AA      39.02 26.96 61.63 260     \n",
       "4 2013 1     1   5    JFK    BQN  N804JB  B6      39.02 26.96 61.63 260     \n",
       "5 2013 1     1   6    LGA    ATL  N668DN  DL      39.92 24.98 54.81 260     \n",
       "6 2013 1     1   5    EWR    ORD  N39463  UA      39.02 28.04 64.43 260     \n",
       "  wind_speed wind_gust precip pressure visib time_hour          \n",
       "1 12.65858         NA  0      1011.9   10    2013-01-01 05:00:00\n",
       "2 14.96014   21.86482  0      1011.4   10    2013-01-01 05:00:00\n",
       "3 14.96014         NA  0      1012.1   10    2013-01-01 05:00:00\n",
       "4 14.96014         NA  0      1012.1   10    2013-01-01 05:00:00\n",
       "5 16.11092   23.01560  0      1011.7   10    2013-01-01 06:00:00\n",
       "6 12.65858         NA  0      1011.9   10    2013-01-01 05:00:00"
      ]
     },
     "metadata": {},
     "output_type": "display_data"
    }
   ],
   "source": [
    "flights2 %>%\n",
    "left_join(weather) %>% head"
   ]
  },
  {
   "cell_type": "markdown",
   "id": "c9a47008-15d4-47b1-80cf-4bfa846b5616",
   "metadata": {},
   "source": [
    "`union` : 합집합 함수"
   ]
  },
  {
   "cell_type": "code",
   "execution_count": 15,
   "id": "76fb6135-b885-44f0-8296-d60a12b78e35",
   "metadata": {},
   "outputs": [
    {
     "data": {
      "text/html": [
       "<style>\n",
       ".list-inline {list-style: none; margin:0; padding: 0}\n",
       ".list-inline>li {display: inline-block}\n",
       ".list-inline>li:not(:last-child)::after {content: \"\\00b7\"; padding: 0 .5ex}\n",
       "</style>\n",
       "<ol class=list-inline><li>'year'</li><li>'month'</li><li>'day'</li><li>'hour'</li><li>'origin'</li><li>'dest'</li><li>'tailnum'</li><li>'carrier'</li><li>'temp'</li><li>'dewp'</li><li>'humid'</li><li>'wind_dir'</li><li>'wind_speed'</li><li>'wind_gust'</li><li>'precip'</li><li>'pressure'</li><li>'visib'</li><li>'time_hour'</li></ol>\n"
      ],
      "text/latex": [
       "\\begin{enumerate*}\n",
       "\\item 'year'\n",
       "\\item 'month'\n",
       "\\item 'day'\n",
       "\\item 'hour'\n",
       "\\item 'origin'\n",
       "\\item 'dest'\n",
       "\\item 'tailnum'\n",
       "\\item 'carrier'\n",
       "\\item 'temp'\n",
       "\\item 'dewp'\n",
       "\\item 'humid'\n",
       "\\item 'wind\\_dir'\n",
       "\\item 'wind\\_speed'\n",
       "\\item 'wind\\_gust'\n",
       "\\item 'precip'\n",
       "\\item 'pressure'\n",
       "\\item 'visib'\n",
       "\\item 'time\\_hour'\n",
       "\\end{enumerate*}\n"
      ],
      "text/markdown": [
       "1. 'year'\n",
       "2. 'month'\n",
       "3. 'day'\n",
       "4. 'hour'\n",
       "5. 'origin'\n",
       "6. 'dest'\n",
       "7. 'tailnum'\n",
       "8. 'carrier'\n",
       "9. 'temp'\n",
       "10. 'dewp'\n",
       "11. 'humid'\n",
       "12. 'wind_dir'\n",
       "13. 'wind_speed'\n",
       "14. 'wind_gust'\n",
       "15. 'precip'\n",
       "16. 'pressure'\n",
       "17. 'visib'\n",
       "18. 'time_hour'\n",
       "\n",
       "\n"
      ],
      "text/plain": [
       " [1] \"year\"       \"month\"      \"day\"        \"hour\"       \"origin\"    \n",
       " [6] \"dest\"       \"tailnum\"    \"carrier\"    \"temp\"       \"dewp\"      \n",
       "[11] \"humid\"      \"wind_dir\"   \"wind_speed\" \"wind_gust\"  \"precip\"    \n",
       "[16] \"pressure\"   \"visib\"      \"time_hour\" "
      ]
     },
     "metadata": {},
     "output_type": "display_data"
    }
   ],
   "source": [
    "union(colnames(flights2),colnames(weather))"
   ]
  },
  {
   "cell_type": "markdown",
   "id": "bffca103-4414-4878-9d13-07c6c6cb1185",
   "metadata": {},
   "source": [
    "- 결론 : 공통된 모든 변수로 조인"
   ]
  },
  {
   "cell_type": "markdown",
   "id": "a3ca55db-2ea2-4e43-9d87-858b01efc859",
   "metadata": {},
   "source": [
    "`-` 원래 하던 것처럼 특정 변수로 조인"
   ]
  },
  {
   "cell_type": "code",
   "execution_count": 16,
   "id": "775c7b2e-9cbf-43de-a2b6-5ec8e702c081",
   "metadata": {},
   "outputs": [
    {
     "data": {
      "text/html": [
       "<table class=\"dataframe\">\n",
       "<caption>A tibble: 6 × 16</caption>\n",
       "<thead>\n",
       "\t<tr><th scope=col>year.x</th><th scope=col>month</th><th scope=col>day</th><th scope=col>hour</th><th scope=col>origin</th><th scope=col>dest</th><th scope=col>tailnum</th><th scope=col>carrier</th><th scope=col>year.y</th><th scope=col>type</th><th scope=col>manufacturer</th><th scope=col>model</th><th scope=col>engines</th><th scope=col>seats</th><th scope=col>speed</th><th scope=col>engine</th></tr>\n",
       "\t<tr><th scope=col>&lt;int&gt;</th><th scope=col>&lt;int&gt;</th><th scope=col>&lt;int&gt;</th><th scope=col>&lt;dbl&gt;</th><th scope=col>&lt;chr&gt;</th><th scope=col>&lt;chr&gt;</th><th scope=col>&lt;chr&gt;</th><th scope=col>&lt;chr&gt;</th><th scope=col>&lt;int&gt;</th><th scope=col>&lt;chr&gt;</th><th scope=col>&lt;chr&gt;</th><th scope=col>&lt;chr&gt;</th><th scope=col>&lt;int&gt;</th><th scope=col>&lt;int&gt;</th><th scope=col>&lt;int&gt;</th><th scope=col>&lt;chr&gt;</th></tr>\n",
       "</thead>\n",
       "<tbody>\n",
       "\t<tr><td>2013</td><td>1</td><td>1</td><td>5</td><td>EWR</td><td>IAH</td><td>N14228</td><td>UA</td><td>1999</td><td>Fixed wing multi engine</td><td>BOEING</td><td>737-824  </td><td>2</td><td>149</td><td>NA</td><td>Turbo-fan</td></tr>\n",
       "\t<tr><td>2013</td><td>1</td><td>1</td><td>5</td><td>LGA</td><td>IAH</td><td>N24211</td><td>UA</td><td>1998</td><td>Fixed wing multi engine</td><td>BOEING</td><td>737-824  </td><td>2</td><td>149</td><td>NA</td><td>Turbo-fan</td></tr>\n",
       "\t<tr><td>2013</td><td>1</td><td>1</td><td>5</td><td>JFK</td><td>MIA</td><td>N619AA</td><td>AA</td><td>1990</td><td>Fixed wing multi engine</td><td>BOEING</td><td>757-223  </td><td>2</td><td>178</td><td>NA</td><td>Turbo-fan</td></tr>\n",
       "\t<tr><td>2013</td><td>1</td><td>1</td><td>5</td><td>JFK</td><td>BQN</td><td>N804JB</td><td>B6</td><td>2012</td><td>Fixed wing multi engine</td><td>AIRBUS</td><td>A320-232 </td><td>2</td><td>200</td><td>NA</td><td>Turbo-fan</td></tr>\n",
       "\t<tr><td>2013</td><td>1</td><td>1</td><td>6</td><td>LGA</td><td>ATL</td><td>N668DN</td><td>DL</td><td>1991</td><td>Fixed wing multi engine</td><td>BOEING</td><td>757-232  </td><td>2</td><td>178</td><td>NA</td><td>Turbo-fan</td></tr>\n",
       "\t<tr><td>2013</td><td>1</td><td>1</td><td>5</td><td>EWR</td><td>ORD</td><td>N39463</td><td>UA</td><td>2012</td><td>Fixed wing multi engine</td><td>BOEING</td><td>737-924ER</td><td>2</td><td>191</td><td>NA</td><td>Turbo-fan</td></tr>\n",
       "</tbody>\n",
       "</table>\n"
      ],
      "text/latex": [
       "A tibble: 6 × 16\n",
       "\\begin{tabular}{llllllllllllllll}\n",
       " year.x & month & day & hour & origin & dest & tailnum & carrier & year.y & type & manufacturer & model & engines & seats & speed & engine\\\\\n",
       " <int> & <int> & <int> & <dbl> & <chr> & <chr> & <chr> & <chr> & <int> & <chr> & <chr> & <chr> & <int> & <int> & <int> & <chr>\\\\\n",
       "\\hline\n",
       "\t 2013 & 1 & 1 & 5 & EWR & IAH & N14228 & UA & 1999 & Fixed wing multi engine & BOEING & 737-824   & 2 & 149 & NA & Turbo-fan\\\\\n",
       "\t 2013 & 1 & 1 & 5 & LGA & IAH & N24211 & UA & 1998 & Fixed wing multi engine & BOEING & 737-824   & 2 & 149 & NA & Turbo-fan\\\\\n",
       "\t 2013 & 1 & 1 & 5 & JFK & MIA & N619AA & AA & 1990 & Fixed wing multi engine & BOEING & 757-223   & 2 & 178 & NA & Turbo-fan\\\\\n",
       "\t 2013 & 1 & 1 & 5 & JFK & BQN & N804JB & B6 & 2012 & Fixed wing multi engine & AIRBUS & A320-232  & 2 & 200 & NA & Turbo-fan\\\\\n",
       "\t 2013 & 1 & 1 & 6 & LGA & ATL & N668DN & DL & 1991 & Fixed wing multi engine & BOEING & 757-232   & 2 & 178 & NA & Turbo-fan\\\\\n",
       "\t 2013 & 1 & 1 & 5 & EWR & ORD & N39463 & UA & 2012 & Fixed wing multi engine & BOEING & 737-924ER & 2 & 191 & NA & Turbo-fan\\\\\n",
       "\\end{tabular}\n"
      ],
      "text/markdown": [
       "\n",
       "A tibble: 6 × 16\n",
       "\n",
       "| year.x &lt;int&gt; | month &lt;int&gt; | day &lt;int&gt; | hour &lt;dbl&gt; | origin &lt;chr&gt; | dest &lt;chr&gt; | tailnum &lt;chr&gt; | carrier &lt;chr&gt; | year.y &lt;int&gt; | type &lt;chr&gt; | manufacturer &lt;chr&gt; | model &lt;chr&gt; | engines &lt;int&gt; | seats &lt;int&gt; | speed &lt;int&gt; | engine &lt;chr&gt; |\n",
       "|---|---|---|---|---|---|---|---|---|---|---|---|---|---|---|---|\n",
       "| 2013 | 1 | 1 | 5 | EWR | IAH | N14228 | UA | 1999 | Fixed wing multi engine | BOEING | 737-824   | 2 | 149 | NA | Turbo-fan |\n",
       "| 2013 | 1 | 1 | 5 | LGA | IAH | N24211 | UA | 1998 | Fixed wing multi engine | BOEING | 737-824   | 2 | 149 | NA | Turbo-fan |\n",
       "| 2013 | 1 | 1 | 5 | JFK | MIA | N619AA | AA | 1990 | Fixed wing multi engine | BOEING | 757-223   | 2 | 178 | NA | Turbo-fan |\n",
       "| 2013 | 1 | 1 | 5 | JFK | BQN | N804JB | B6 | 2012 | Fixed wing multi engine | AIRBUS | A320-232  | 2 | 200 | NA | Turbo-fan |\n",
       "| 2013 | 1 | 1 | 6 | LGA | ATL | N668DN | DL | 1991 | Fixed wing multi engine | BOEING | 757-232   | 2 | 178 | NA | Turbo-fan |\n",
       "| 2013 | 1 | 1 | 5 | EWR | ORD | N39463 | UA | 2012 | Fixed wing multi engine | BOEING | 737-924ER | 2 | 191 | NA | Turbo-fan |\n",
       "\n"
      ],
      "text/plain": [
       "  year.x month day hour origin dest tailnum carrier year.y\n",
       "1 2013   1     1   5    EWR    IAH  N14228  UA      1999  \n",
       "2 2013   1     1   5    LGA    IAH  N24211  UA      1998  \n",
       "3 2013   1     1   5    JFK    MIA  N619AA  AA      1990  \n",
       "4 2013   1     1   5    JFK    BQN  N804JB  B6      2012  \n",
       "5 2013   1     1   6    LGA    ATL  N668DN  DL      1991  \n",
       "6 2013   1     1   5    EWR    ORD  N39463  UA      2012  \n",
       "  type                    manufacturer model     engines seats speed engine   \n",
       "1 Fixed wing multi engine BOEING       737-824   2       149   NA    Turbo-fan\n",
       "2 Fixed wing multi engine BOEING       737-824   2       149   NA    Turbo-fan\n",
       "3 Fixed wing multi engine BOEING       757-223   2       178   NA    Turbo-fan\n",
       "4 Fixed wing multi engine AIRBUS       A320-232  2       200   NA    Turbo-fan\n",
       "5 Fixed wing multi engine BOEING       757-232   2       178   NA    Turbo-fan\n",
       "6 Fixed wing multi engine BOEING       737-924ER 2       191   NA    Turbo-fan"
      ]
     },
     "metadata": {},
     "output_type": "display_data"
    }
   ],
   "source": [
    "flights2 %>%\n",
    "left_join(planes, by = \"tailnum\") %>% head"
   ]
  },
  {
   "cell_type": "markdown",
   "id": "3dffc7fa-580b-4e81-add2-31221055415d",
   "metadata": {},
   "source": [
    "- 아래는 각 테이블에서 다른 이름의 변수이지만 하나로 통합해서 조인하고자 하는 경우<br>\n",
    "조인후에는 첫 번째 변수의 이름으로 출력된다.<br>\n",
    "여기서는 dest로 통합"
   ]
  },
  {
   "cell_type": "code",
   "execution_count": 17,
   "id": "4450015d-5501-4c82-8290-2b3d5e4c853e",
   "metadata": {},
   "outputs": [
    {
     "data": {
      "text/html": [
       "<table class=\"dataframe\">\n",
       "<caption>A tibble: 6 × 15</caption>\n",
       "<thead>\n",
       "\t<tr><th scope=col>year</th><th scope=col>month</th><th scope=col>day</th><th scope=col>hour</th><th scope=col>origin</th><th scope=col>dest</th><th scope=col>tailnum</th><th scope=col>carrier</th><th scope=col>name</th><th scope=col>lat</th><th scope=col>lon</th><th scope=col>alt</th><th scope=col>tz</th><th scope=col>dst</th><th scope=col>tzone</th></tr>\n",
       "\t<tr><th scope=col>&lt;int&gt;</th><th scope=col>&lt;int&gt;</th><th scope=col>&lt;int&gt;</th><th scope=col>&lt;dbl&gt;</th><th scope=col>&lt;chr&gt;</th><th scope=col>&lt;chr&gt;</th><th scope=col>&lt;chr&gt;</th><th scope=col>&lt;chr&gt;</th><th scope=col>&lt;chr&gt;</th><th scope=col>&lt;dbl&gt;</th><th scope=col>&lt;dbl&gt;</th><th scope=col>&lt;dbl&gt;</th><th scope=col>&lt;dbl&gt;</th><th scope=col>&lt;chr&gt;</th><th scope=col>&lt;chr&gt;</th></tr>\n",
       "</thead>\n",
       "<tbody>\n",
       "\t<tr><td>2013</td><td>1</td><td>1</td><td>5</td><td>EWR</td><td>IAH</td><td>N14228</td><td>UA</td><td>George Bush Intercontinental   </td><td>29.98443</td><td>-95.34144</td><td>  97</td><td>-6</td><td>A </td><td>America/Chicago </td></tr>\n",
       "\t<tr><td>2013</td><td>1</td><td>1</td><td>5</td><td>LGA</td><td>IAH</td><td>N24211</td><td>UA</td><td>George Bush Intercontinental   </td><td>29.98443</td><td>-95.34144</td><td>  97</td><td>-6</td><td>A </td><td>America/Chicago </td></tr>\n",
       "\t<tr><td>2013</td><td>1</td><td>1</td><td>5</td><td>JFK</td><td>MIA</td><td>N619AA</td><td>AA</td><td>Miami Intl                     </td><td>25.79325</td><td>-80.29056</td><td>   8</td><td>-5</td><td>A </td><td>America/New_York</td></tr>\n",
       "\t<tr><td>2013</td><td>1</td><td>1</td><td>5</td><td>JFK</td><td>BQN</td><td>N804JB</td><td>B6</td><td>NA                             </td><td>      NA</td><td>       NA</td><td>  NA</td><td>NA</td><td>NA</td><td>NA              </td></tr>\n",
       "\t<tr><td>2013</td><td>1</td><td>1</td><td>6</td><td>LGA</td><td>ATL</td><td>N668DN</td><td>DL</td><td>Hartsfield Jackson Atlanta Intl</td><td>33.63672</td><td>-84.42807</td><td>1026</td><td>-5</td><td>A </td><td>America/New_York</td></tr>\n",
       "\t<tr><td>2013</td><td>1</td><td>1</td><td>5</td><td>EWR</td><td>ORD</td><td>N39463</td><td>UA</td><td>Chicago Ohare Intl             </td><td>41.97860</td><td>-87.90484</td><td> 668</td><td>-6</td><td>A </td><td>America/Chicago </td></tr>\n",
       "</tbody>\n",
       "</table>\n"
      ],
      "text/latex": [
       "A tibble: 6 × 15\n",
       "\\begin{tabular}{lllllllllllllll}\n",
       " year & month & day & hour & origin & dest & tailnum & carrier & name & lat & lon & alt & tz & dst & tzone\\\\\n",
       " <int> & <int> & <int> & <dbl> & <chr> & <chr> & <chr> & <chr> & <chr> & <dbl> & <dbl> & <dbl> & <dbl> & <chr> & <chr>\\\\\n",
       "\\hline\n",
       "\t 2013 & 1 & 1 & 5 & EWR & IAH & N14228 & UA & George Bush Intercontinental    & 29.98443 & -95.34144 &   97 & -6 & A  & America/Chicago \\\\\n",
       "\t 2013 & 1 & 1 & 5 & LGA & IAH & N24211 & UA & George Bush Intercontinental    & 29.98443 & -95.34144 &   97 & -6 & A  & America/Chicago \\\\\n",
       "\t 2013 & 1 & 1 & 5 & JFK & MIA & N619AA & AA & Miami Intl                      & 25.79325 & -80.29056 &    8 & -5 & A  & America/New\\_York\\\\\n",
       "\t 2013 & 1 & 1 & 5 & JFK & BQN & N804JB & B6 & NA                              &       NA &        NA &   NA & NA & NA & NA              \\\\\n",
       "\t 2013 & 1 & 1 & 6 & LGA & ATL & N668DN & DL & Hartsfield Jackson Atlanta Intl & 33.63672 & -84.42807 & 1026 & -5 & A  & America/New\\_York\\\\\n",
       "\t 2013 & 1 & 1 & 5 & EWR & ORD & N39463 & UA & Chicago Ohare Intl              & 41.97860 & -87.90484 &  668 & -6 & A  & America/Chicago \\\\\n",
       "\\end{tabular}\n"
      ],
      "text/markdown": [
       "\n",
       "A tibble: 6 × 15\n",
       "\n",
       "| year &lt;int&gt; | month &lt;int&gt; | day &lt;int&gt; | hour &lt;dbl&gt; | origin &lt;chr&gt; | dest &lt;chr&gt; | tailnum &lt;chr&gt; | carrier &lt;chr&gt; | name &lt;chr&gt; | lat &lt;dbl&gt; | lon &lt;dbl&gt; | alt &lt;dbl&gt; | tz &lt;dbl&gt; | dst &lt;chr&gt; | tzone &lt;chr&gt; |\n",
       "|---|---|---|---|---|---|---|---|---|---|---|---|---|---|---|\n",
       "| 2013 | 1 | 1 | 5 | EWR | IAH | N14228 | UA | George Bush Intercontinental    | 29.98443 | -95.34144 |   97 | -6 | A  | America/Chicago  |\n",
       "| 2013 | 1 | 1 | 5 | LGA | IAH | N24211 | UA | George Bush Intercontinental    | 29.98443 | -95.34144 |   97 | -6 | A  | America/Chicago  |\n",
       "| 2013 | 1 | 1 | 5 | JFK | MIA | N619AA | AA | Miami Intl                      | 25.79325 | -80.29056 |    8 | -5 | A  | America/New_York |\n",
       "| 2013 | 1 | 1 | 5 | JFK | BQN | N804JB | B6 | NA                              |       NA |        NA |   NA | NA | NA | NA               |\n",
       "| 2013 | 1 | 1 | 6 | LGA | ATL | N668DN | DL | Hartsfield Jackson Atlanta Intl | 33.63672 | -84.42807 | 1026 | -5 | A  | America/New_York |\n",
       "| 2013 | 1 | 1 | 5 | EWR | ORD | N39463 | UA | Chicago Ohare Intl              | 41.97860 | -87.90484 |  668 | -6 | A  | America/Chicago  |\n",
       "\n"
      ],
      "text/plain": [
       "  year month day hour origin dest tailnum carrier\n",
       "1 2013 1     1   5    EWR    IAH  N14228  UA     \n",
       "2 2013 1     1   5    LGA    IAH  N24211  UA     \n",
       "3 2013 1     1   5    JFK    MIA  N619AA  AA     \n",
       "4 2013 1     1   5    JFK    BQN  N804JB  B6     \n",
       "5 2013 1     1   6    LGA    ATL  N668DN  DL     \n",
       "6 2013 1     1   5    EWR    ORD  N39463  UA     \n",
       "  name                            lat      lon       alt  tz dst\n",
       "1 George Bush Intercontinental    29.98443 -95.34144   97 -6 A  \n",
       "2 George Bush Intercontinental    29.98443 -95.34144   97 -6 A  \n",
       "3 Miami Intl                      25.79325 -80.29056    8 -5 A  \n",
       "4 NA                                    NA        NA   NA NA NA \n",
       "5 Hartsfield Jackson Atlanta Intl 33.63672 -84.42807 1026 -5 A  \n",
       "6 Chicago Ohare Intl              41.97860 -87.90484  668 -6 A  \n",
       "  tzone           \n",
       "1 America/Chicago \n",
       "2 America/Chicago \n",
       "3 America/New_York\n",
       "4 NA              \n",
       "5 America/New_York\n",
       "6 America/Chicago "
      ]
     },
     "metadata": {},
     "output_type": "display_data"
    }
   ],
   "source": [
    "flights2 %>%\n",
    "left_join(airports, c(\"dest\" = \"faa\")) %>% head"
   ]
  },
  {
   "cell_type": "markdown",
   "id": "9bc629e3-f809-45c1-b38f-abeb8e6da044",
   "metadata": {},
   "source": [
    "### filter join"
   ]
  },
  {
   "cell_type": "code",
   "execution_count": 18,
   "id": "b04b714b-7ced-4e27-9346-7c21315de835",
   "metadata": {},
   "outputs": [
    {
     "data": {
      "text/html": [
       "<table class=\"dataframe\">\n",
       "<caption>A tibble: 10 × 2</caption>\n",
       "<thead>\n",
       "\t<tr><th scope=col>dest</th><th scope=col>n</th></tr>\n",
       "\t<tr><th scope=col>&lt;chr&gt;</th><th scope=col>&lt;int&gt;</th></tr>\n",
       "</thead>\n",
       "<tbody>\n",
       "\t<tr><td>ORD</td><td>17283</td></tr>\n",
       "\t<tr><td>ATL</td><td>17215</td></tr>\n",
       "\t<tr><td>LAX</td><td>16174</td></tr>\n",
       "\t<tr><td>BOS</td><td>15508</td></tr>\n",
       "\t<tr><td>MCO</td><td>14082</td></tr>\n",
       "\t<tr><td>CLT</td><td>14064</td></tr>\n",
       "\t<tr><td>SFO</td><td>13331</td></tr>\n",
       "\t<tr><td>FLL</td><td>12055</td></tr>\n",
       "\t<tr><td>MIA</td><td>11728</td></tr>\n",
       "\t<tr><td>DCA</td><td> 9705</td></tr>\n",
       "</tbody>\n",
       "</table>\n"
      ],
      "text/latex": [
       "A tibble: 10 × 2\n",
       "\\begin{tabular}{ll}\n",
       " dest & n\\\\\n",
       " <chr> & <int>\\\\\n",
       "\\hline\n",
       "\t ORD & 17283\\\\\n",
       "\t ATL & 17215\\\\\n",
       "\t LAX & 16174\\\\\n",
       "\t BOS & 15508\\\\\n",
       "\t MCO & 14082\\\\\n",
       "\t CLT & 14064\\\\\n",
       "\t SFO & 13331\\\\\n",
       "\t FLL & 12055\\\\\n",
       "\t MIA & 11728\\\\\n",
       "\t DCA &  9705\\\\\n",
       "\\end{tabular}\n"
      ],
      "text/markdown": [
       "\n",
       "A tibble: 10 × 2\n",
       "\n",
       "| dest &lt;chr&gt; | n &lt;int&gt; |\n",
       "|---|---|\n",
       "| ORD | 17283 |\n",
       "| ATL | 17215 |\n",
       "| LAX | 16174 |\n",
       "| BOS | 15508 |\n",
       "| MCO | 14082 |\n",
       "| CLT | 14064 |\n",
       "| SFO | 13331 |\n",
       "| FLL | 12055 |\n",
       "| MIA | 11728 |\n",
       "| DCA |  9705 |\n",
       "\n"
      ],
      "text/plain": [
       "   dest n    \n",
       "1  ORD  17283\n",
       "2  ATL  17215\n",
       "3  LAX  16174\n",
       "4  BOS  15508\n",
       "5  MCO  14082\n",
       "6  CLT  14064\n",
       "7  SFO  13331\n",
       "8  FLL  12055\n",
       "9  MIA  11728\n",
       "10 DCA   9705"
      ]
     },
     "metadata": {},
     "output_type": "display_data"
    }
   ],
   "source": [
    "top_dest <- flights %>%\n",
    "count(dest, sort = TRUE) %>%\n",
    "head(10)\n",
    "top_dest"
   ]
  },
  {
   "cell_type": "code",
   "execution_count": 19,
   "id": "88af7557-efc4-43df-914f-7a86a96812c6",
   "metadata": {},
   "outputs": [
    {
     "data": {
      "text/html": [
       "<table class=\"dataframe\">\n",
       "<caption>A tibble: 6 × 19</caption>\n",
       "<thead>\n",
       "\t<tr><th scope=col>year</th><th scope=col>month</th><th scope=col>day</th><th scope=col>dep_time</th><th scope=col>sched_dep_time</th><th scope=col>dep_delay</th><th scope=col>arr_time</th><th scope=col>sched_arr_time</th><th scope=col>arr_delay</th><th scope=col>carrier</th><th scope=col>flight</th><th scope=col>tailnum</th><th scope=col>origin</th><th scope=col>dest</th><th scope=col>air_time</th><th scope=col>distance</th><th scope=col>hour</th><th scope=col>minute</th><th scope=col>time_hour</th></tr>\n",
       "\t<tr><th scope=col>&lt;int&gt;</th><th scope=col>&lt;int&gt;</th><th scope=col>&lt;int&gt;</th><th scope=col>&lt;int&gt;</th><th scope=col>&lt;int&gt;</th><th scope=col>&lt;dbl&gt;</th><th scope=col>&lt;int&gt;</th><th scope=col>&lt;int&gt;</th><th scope=col>&lt;dbl&gt;</th><th scope=col>&lt;chr&gt;</th><th scope=col>&lt;int&gt;</th><th scope=col>&lt;chr&gt;</th><th scope=col>&lt;chr&gt;</th><th scope=col>&lt;chr&gt;</th><th scope=col>&lt;dbl&gt;</th><th scope=col>&lt;dbl&gt;</th><th scope=col>&lt;dbl&gt;</th><th scope=col>&lt;dbl&gt;</th><th scope=col>&lt;dttm&gt;</th></tr>\n",
       "</thead>\n",
       "<tbody>\n",
       "\t<tr><td>2013</td><td>1</td><td>1</td><td>542</td><td>540</td><td> 2</td><td>923</td><td>850</td><td> 33</td><td>AA</td><td>1141</td><td>N619AA</td><td>JFK</td><td>MIA</td><td>160</td><td>1089</td><td>5</td><td>40</td><td>2013-01-01 05:00:00</td></tr>\n",
       "\t<tr><td>2013</td><td>1</td><td>1</td><td>554</td><td>600</td><td>-6</td><td>812</td><td>837</td><td>-25</td><td>DL</td><td> 461</td><td>N668DN</td><td>LGA</td><td>ATL</td><td>116</td><td> 762</td><td>6</td><td> 0</td><td>2013-01-01 06:00:00</td></tr>\n",
       "\t<tr><td>2013</td><td>1</td><td>1</td><td>554</td><td>558</td><td>-4</td><td>740</td><td>728</td><td> 12</td><td>UA</td><td>1696</td><td>N39463</td><td>EWR</td><td>ORD</td><td>150</td><td> 719</td><td>5</td><td>58</td><td>2013-01-01 05:00:00</td></tr>\n",
       "\t<tr><td>2013</td><td>1</td><td>1</td><td>555</td><td>600</td><td>-5</td><td>913</td><td>854</td><td> 19</td><td>B6</td><td> 507</td><td>N516JB</td><td>EWR</td><td>FLL</td><td>158</td><td>1065</td><td>6</td><td> 0</td><td>2013-01-01 06:00:00</td></tr>\n",
       "\t<tr><td>2013</td><td>1</td><td>1</td><td>557</td><td>600</td><td>-3</td><td>838</td><td>846</td><td> -8</td><td>B6</td><td>  79</td><td>N593JB</td><td>JFK</td><td>MCO</td><td>140</td><td> 944</td><td>6</td><td> 0</td><td>2013-01-01 06:00:00</td></tr>\n",
       "\t<tr><td>2013</td><td>1</td><td>1</td><td>558</td><td>600</td><td>-2</td><td>753</td><td>745</td><td>  8</td><td>AA</td><td> 301</td><td>N3ALAA</td><td>LGA</td><td>ORD</td><td>138</td><td> 733</td><td>6</td><td> 0</td><td>2013-01-01 06:00:00</td></tr>\n",
       "</tbody>\n",
       "</table>\n"
      ],
      "text/latex": [
       "A tibble: 6 × 19\n",
       "\\begin{tabular}{lllllllllllllllllll}\n",
       " year & month & day & dep\\_time & sched\\_dep\\_time & dep\\_delay & arr\\_time & sched\\_arr\\_time & arr\\_delay & carrier & flight & tailnum & origin & dest & air\\_time & distance & hour & minute & time\\_hour\\\\\n",
       " <int> & <int> & <int> & <int> & <int> & <dbl> & <int> & <int> & <dbl> & <chr> & <int> & <chr> & <chr> & <chr> & <dbl> & <dbl> & <dbl> & <dbl> & <dttm>\\\\\n",
       "\\hline\n",
       "\t 2013 & 1 & 1 & 542 & 540 &  2 & 923 & 850 &  33 & AA & 1141 & N619AA & JFK & MIA & 160 & 1089 & 5 & 40 & 2013-01-01 05:00:00\\\\\n",
       "\t 2013 & 1 & 1 & 554 & 600 & -6 & 812 & 837 & -25 & DL &  461 & N668DN & LGA & ATL & 116 &  762 & 6 &  0 & 2013-01-01 06:00:00\\\\\n",
       "\t 2013 & 1 & 1 & 554 & 558 & -4 & 740 & 728 &  12 & UA & 1696 & N39463 & EWR & ORD & 150 &  719 & 5 & 58 & 2013-01-01 05:00:00\\\\\n",
       "\t 2013 & 1 & 1 & 555 & 600 & -5 & 913 & 854 &  19 & B6 &  507 & N516JB & EWR & FLL & 158 & 1065 & 6 &  0 & 2013-01-01 06:00:00\\\\\n",
       "\t 2013 & 1 & 1 & 557 & 600 & -3 & 838 & 846 &  -8 & B6 &   79 & N593JB & JFK & MCO & 140 &  944 & 6 &  0 & 2013-01-01 06:00:00\\\\\n",
       "\t 2013 & 1 & 1 & 558 & 600 & -2 & 753 & 745 &   8 & AA &  301 & N3ALAA & LGA & ORD & 138 &  733 & 6 &  0 & 2013-01-01 06:00:00\\\\\n",
       "\\end{tabular}\n"
      ],
      "text/markdown": [
       "\n",
       "A tibble: 6 × 19\n",
       "\n",
       "| year &lt;int&gt; | month &lt;int&gt; | day &lt;int&gt; | dep_time &lt;int&gt; | sched_dep_time &lt;int&gt; | dep_delay &lt;dbl&gt; | arr_time &lt;int&gt; | sched_arr_time &lt;int&gt; | arr_delay &lt;dbl&gt; | carrier &lt;chr&gt; | flight &lt;int&gt; | tailnum &lt;chr&gt; | origin &lt;chr&gt; | dest &lt;chr&gt; | air_time &lt;dbl&gt; | distance &lt;dbl&gt; | hour &lt;dbl&gt; | minute &lt;dbl&gt; | time_hour &lt;dttm&gt; |\n",
       "|---|---|---|---|---|---|---|---|---|---|---|---|---|---|---|---|---|---|---|\n",
       "| 2013 | 1 | 1 | 542 | 540 |  2 | 923 | 850 |  33 | AA | 1141 | N619AA | JFK | MIA | 160 | 1089 | 5 | 40 | 2013-01-01 05:00:00 |\n",
       "| 2013 | 1 | 1 | 554 | 600 | -6 | 812 | 837 | -25 | DL |  461 | N668DN | LGA | ATL | 116 |  762 | 6 |  0 | 2013-01-01 06:00:00 |\n",
       "| 2013 | 1 | 1 | 554 | 558 | -4 | 740 | 728 |  12 | UA | 1696 | N39463 | EWR | ORD | 150 |  719 | 5 | 58 | 2013-01-01 05:00:00 |\n",
       "| 2013 | 1 | 1 | 555 | 600 | -5 | 913 | 854 |  19 | B6 |  507 | N516JB | EWR | FLL | 158 | 1065 | 6 |  0 | 2013-01-01 06:00:00 |\n",
       "| 2013 | 1 | 1 | 557 | 600 | -3 | 838 | 846 |  -8 | B6 |   79 | N593JB | JFK | MCO | 140 |  944 | 6 |  0 | 2013-01-01 06:00:00 |\n",
       "| 2013 | 1 | 1 | 558 | 600 | -2 | 753 | 745 |   8 | AA |  301 | N3ALAA | LGA | ORD | 138 |  733 | 6 |  0 | 2013-01-01 06:00:00 |\n",
       "\n"
      ],
      "text/plain": [
       "  year month day dep_time sched_dep_time dep_delay arr_time sched_arr_time\n",
       "1 2013 1     1   542      540             2        923      850           \n",
       "2 2013 1     1   554      600            -6        812      837           \n",
       "3 2013 1     1   554      558            -4        740      728           \n",
       "4 2013 1     1   555      600            -5        913      854           \n",
       "5 2013 1     1   557      600            -3        838      846           \n",
       "6 2013 1     1   558      600            -2        753      745           \n",
       "  arr_delay carrier flight tailnum origin dest air_time distance hour minute\n",
       "1  33       AA      1141   N619AA  JFK    MIA  160      1089     5    40    \n",
       "2 -25       DL       461   N668DN  LGA    ATL  116       762     6     0    \n",
       "3  12       UA      1696   N39463  EWR    ORD  150       719     5    58    \n",
       "4  19       B6       507   N516JB  EWR    FLL  158      1065     6     0    \n",
       "5  -8       B6        79   N593JB  JFK    MCO  140       944     6     0    \n",
       "6   8       AA       301   N3ALAA  LGA    ORD  138       733     6     0    \n",
       "  time_hour          \n",
       "1 2013-01-01 05:00:00\n",
       "2 2013-01-01 06:00:00\n",
       "3 2013-01-01 05:00:00\n",
       "4 2013-01-01 06:00:00\n",
       "5 2013-01-01 06:00:00\n",
       "6 2013-01-01 06:00:00"
      ]
     },
     "metadata": {},
     "output_type": "display_data"
    }
   ],
   "source": [
    "flights %>%\n",
    "filter(dest %in% top_dest$dest) %>% head"
   ]
  },
  {
   "cell_type": "markdown",
   "id": "f86dfd41-f9d2-4a65-abc5-2ca339133d2c",
   "metadata": {},
   "source": [
    "위에서 뽑은 상위 10개의 dest에 해당하는 열만 filtering"
   ]
  },
  {
   "cell_type": "markdown",
   "id": "d89250a7-cbcd-45ed-88bc-23c55196371c",
   "metadata": {},
   "source": [
    "`semi_join` : 매칭에만 관심, 조건에 해당하는 항목을 매칭해준다.<br>\n",
    "`anti_join` : y와 매치되는 x의 모든 관측값을 삭제한다.<br>\n",
    "즉, 불일치 행만 모아준다.<br> 여기서는 매치되지 않는 항공편이 많은지 궁금할 때 사용"
   ]
  },
  {
   "cell_type": "code",
   "execution_count": 20,
   "id": "0fd5b930-2038-40da-b24c-2703657aaced",
   "metadata": {},
   "outputs": [
    {
     "name": "stderr",
     "output_type": "stream",
     "text": [
      "\u001b[1m\u001b[22mJoining, by = \"dest\"\n"
     ]
    },
    {
     "data": {
      "text/html": [
       "<table class=\"dataframe\">\n",
       "<caption>A tibble: 6 × 19</caption>\n",
       "<thead>\n",
       "\t<tr><th scope=col>year</th><th scope=col>month</th><th scope=col>day</th><th scope=col>dep_time</th><th scope=col>sched_dep_time</th><th scope=col>dep_delay</th><th scope=col>arr_time</th><th scope=col>sched_arr_time</th><th scope=col>arr_delay</th><th scope=col>carrier</th><th scope=col>flight</th><th scope=col>tailnum</th><th scope=col>origin</th><th scope=col>dest</th><th scope=col>air_time</th><th scope=col>distance</th><th scope=col>hour</th><th scope=col>minute</th><th scope=col>time_hour</th></tr>\n",
       "\t<tr><th scope=col>&lt;int&gt;</th><th scope=col>&lt;int&gt;</th><th scope=col>&lt;int&gt;</th><th scope=col>&lt;int&gt;</th><th scope=col>&lt;int&gt;</th><th scope=col>&lt;dbl&gt;</th><th scope=col>&lt;int&gt;</th><th scope=col>&lt;int&gt;</th><th scope=col>&lt;dbl&gt;</th><th scope=col>&lt;chr&gt;</th><th scope=col>&lt;int&gt;</th><th scope=col>&lt;chr&gt;</th><th scope=col>&lt;chr&gt;</th><th scope=col>&lt;chr&gt;</th><th scope=col>&lt;dbl&gt;</th><th scope=col>&lt;dbl&gt;</th><th scope=col>&lt;dbl&gt;</th><th scope=col>&lt;dbl&gt;</th><th scope=col>&lt;dttm&gt;</th></tr>\n",
       "</thead>\n",
       "<tbody>\n",
       "\t<tr><td>2013</td><td>1</td><td>1</td><td>542</td><td>540</td><td> 2</td><td>923</td><td>850</td><td> 33</td><td>AA</td><td>1141</td><td>N619AA</td><td>JFK</td><td>MIA</td><td>160</td><td>1089</td><td>5</td><td>40</td><td>2013-01-01 05:00:00</td></tr>\n",
       "\t<tr><td>2013</td><td>1</td><td>1</td><td>554</td><td>600</td><td>-6</td><td>812</td><td>837</td><td>-25</td><td>DL</td><td> 461</td><td>N668DN</td><td>LGA</td><td>ATL</td><td>116</td><td> 762</td><td>6</td><td> 0</td><td>2013-01-01 06:00:00</td></tr>\n",
       "\t<tr><td>2013</td><td>1</td><td>1</td><td>554</td><td>558</td><td>-4</td><td>740</td><td>728</td><td> 12</td><td>UA</td><td>1696</td><td>N39463</td><td>EWR</td><td>ORD</td><td>150</td><td> 719</td><td>5</td><td>58</td><td>2013-01-01 05:00:00</td></tr>\n",
       "\t<tr><td>2013</td><td>1</td><td>1</td><td>555</td><td>600</td><td>-5</td><td>913</td><td>854</td><td> 19</td><td>B6</td><td> 507</td><td>N516JB</td><td>EWR</td><td>FLL</td><td>158</td><td>1065</td><td>6</td><td> 0</td><td>2013-01-01 06:00:00</td></tr>\n",
       "\t<tr><td>2013</td><td>1</td><td>1</td><td>557</td><td>600</td><td>-3</td><td>838</td><td>846</td><td> -8</td><td>B6</td><td>  79</td><td>N593JB</td><td>JFK</td><td>MCO</td><td>140</td><td> 944</td><td>6</td><td> 0</td><td>2013-01-01 06:00:00</td></tr>\n",
       "\t<tr><td>2013</td><td>1</td><td>1</td><td>558</td><td>600</td><td>-2</td><td>753</td><td>745</td><td>  8</td><td>AA</td><td> 301</td><td>N3ALAA</td><td>LGA</td><td>ORD</td><td>138</td><td> 733</td><td>6</td><td> 0</td><td>2013-01-01 06:00:00</td></tr>\n",
       "</tbody>\n",
       "</table>\n"
      ],
      "text/latex": [
       "A tibble: 6 × 19\n",
       "\\begin{tabular}{lllllllllllllllllll}\n",
       " year & month & day & dep\\_time & sched\\_dep\\_time & dep\\_delay & arr\\_time & sched\\_arr\\_time & arr\\_delay & carrier & flight & tailnum & origin & dest & air\\_time & distance & hour & minute & time\\_hour\\\\\n",
       " <int> & <int> & <int> & <int> & <int> & <dbl> & <int> & <int> & <dbl> & <chr> & <int> & <chr> & <chr> & <chr> & <dbl> & <dbl> & <dbl> & <dbl> & <dttm>\\\\\n",
       "\\hline\n",
       "\t 2013 & 1 & 1 & 542 & 540 &  2 & 923 & 850 &  33 & AA & 1141 & N619AA & JFK & MIA & 160 & 1089 & 5 & 40 & 2013-01-01 05:00:00\\\\\n",
       "\t 2013 & 1 & 1 & 554 & 600 & -6 & 812 & 837 & -25 & DL &  461 & N668DN & LGA & ATL & 116 &  762 & 6 &  0 & 2013-01-01 06:00:00\\\\\n",
       "\t 2013 & 1 & 1 & 554 & 558 & -4 & 740 & 728 &  12 & UA & 1696 & N39463 & EWR & ORD & 150 &  719 & 5 & 58 & 2013-01-01 05:00:00\\\\\n",
       "\t 2013 & 1 & 1 & 555 & 600 & -5 & 913 & 854 &  19 & B6 &  507 & N516JB & EWR & FLL & 158 & 1065 & 6 &  0 & 2013-01-01 06:00:00\\\\\n",
       "\t 2013 & 1 & 1 & 557 & 600 & -3 & 838 & 846 &  -8 & B6 &   79 & N593JB & JFK & MCO & 140 &  944 & 6 &  0 & 2013-01-01 06:00:00\\\\\n",
       "\t 2013 & 1 & 1 & 558 & 600 & -2 & 753 & 745 &   8 & AA &  301 & N3ALAA & LGA & ORD & 138 &  733 & 6 &  0 & 2013-01-01 06:00:00\\\\\n",
       "\\end{tabular}\n"
      ],
      "text/markdown": [
       "\n",
       "A tibble: 6 × 19\n",
       "\n",
       "| year &lt;int&gt; | month &lt;int&gt; | day &lt;int&gt; | dep_time &lt;int&gt; | sched_dep_time &lt;int&gt; | dep_delay &lt;dbl&gt; | arr_time &lt;int&gt; | sched_arr_time &lt;int&gt; | arr_delay &lt;dbl&gt; | carrier &lt;chr&gt; | flight &lt;int&gt; | tailnum &lt;chr&gt; | origin &lt;chr&gt; | dest &lt;chr&gt; | air_time &lt;dbl&gt; | distance &lt;dbl&gt; | hour &lt;dbl&gt; | minute &lt;dbl&gt; | time_hour &lt;dttm&gt; |\n",
       "|---|---|---|---|---|---|---|---|---|---|---|---|---|---|---|---|---|---|---|\n",
       "| 2013 | 1 | 1 | 542 | 540 |  2 | 923 | 850 |  33 | AA | 1141 | N619AA | JFK | MIA | 160 | 1089 | 5 | 40 | 2013-01-01 05:00:00 |\n",
       "| 2013 | 1 | 1 | 554 | 600 | -6 | 812 | 837 | -25 | DL |  461 | N668DN | LGA | ATL | 116 |  762 | 6 |  0 | 2013-01-01 06:00:00 |\n",
       "| 2013 | 1 | 1 | 554 | 558 | -4 | 740 | 728 |  12 | UA | 1696 | N39463 | EWR | ORD | 150 |  719 | 5 | 58 | 2013-01-01 05:00:00 |\n",
       "| 2013 | 1 | 1 | 555 | 600 | -5 | 913 | 854 |  19 | B6 |  507 | N516JB | EWR | FLL | 158 | 1065 | 6 |  0 | 2013-01-01 06:00:00 |\n",
       "| 2013 | 1 | 1 | 557 | 600 | -3 | 838 | 846 |  -8 | B6 |   79 | N593JB | JFK | MCO | 140 |  944 | 6 |  0 | 2013-01-01 06:00:00 |\n",
       "| 2013 | 1 | 1 | 558 | 600 | -2 | 753 | 745 |   8 | AA |  301 | N3ALAA | LGA | ORD | 138 |  733 | 6 |  0 | 2013-01-01 06:00:00 |\n",
       "\n"
      ],
      "text/plain": [
       "  year month day dep_time sched_dep_time dep_delay arr_time sched_arr_time\n",
       "1 2013 1     1   542      540             2        923      850           \n",
       "2 2013 1     1   554      600            -6        812      837           \n",
       "3 2013 1     1   554      558            -4        740      728           \n",
       "4 2013 1     1   555      600            -5        913      854           \n",
       "5 2013 1     1   557      600            -3        838      846           \n",
       "6 2013 1     1   558      600            -2        753      745           \n",
       "  arr_delay carrier flight tailnum origin dest air_time distance hour minute\n",
       "1  33       AA      1141   N619AA  JFK    MIA  160      1089     5    40    \n",
       "2 -25       DL       461   N668DN  LGA    ATL  116       762     6     0    \n",
       "3  12       UA      1696   N39463  EWR    ORD  150       719     5    58    \n",
       "4  19       B6       507   N516JB  EWR    FLL  158      1065     6     0    \n",
       "5  -8       B6        79   N593JB  JFK    MCO  140       944     6     0    \n",
       "6   8       AA       301   N3ALAA  LGA    ORD  138       733     6     0    \n",
       "  time_hour          \n",
       "1 2013-01-01 05:00:00\n",
       "2 2013-01-01 06:00:00\n",
       "3 2013-01-01 05:00:00\n",
       "4 2013-01-01 06:00:00\n",
       "5 2013-01-01 06:00:00\n",
       "6 2013-01-01 06:00:00"
      ]
     },
     "metadata": {},
     "output_type": "display_data"
    }
   ],
   "source": [
    "flights %>%\n",
    "semi_join(top_dest) %>% head"
   ]
  },
  {
   "cell_type": "markdown",
   "id": "54a12c4c-ea1d-4e6a-86c1-5c07eaca1213",
   "metadata": {},
   "source": [
    "결과적으로 위의 `filter`와 같은 결과 나옴"
   ]
  },
  {
   "cell_type": "code",
   "execution_count": 21,
   "id": "5bbdeecb-1e76-4048-8373-fe9eea391db8",
   "metadata": {},
   "outputs": [
    {
     "data": {
      "text/html": [
       "<table class=\"dataframe\">\n",
       "<caption>A tibble: 6 × 2</caption>\n",
       "<thead>\n",
       "\t<tr><th scope=col>tailnum</th><th scope=col>n</th></tr>\n",
       "\t<tr><th scope=col>&lt;chr&gt;</th><th scope=col>&lt;int&gt;</th></tr>\n",
       "</thead>\n",
       "<tbody>\n",
       "\t<tr><td>NA    </td><td>2512</td></tr>\n",
       "\t<tr><td>N725MQ</td><td> 575</td></tr>\n",
       "\t<tr><td>N722MQ</td><td> 513</td></tr>\n",
       "\t<tr><td>N723MQ</td><td> 507</td></tr>\n",
       "\t<tr><td>N713MQ</td><td> 483</td></tr>\n",
       "\t<tr><td>N735MQ</td><td> 396</td></tr>\n",
       "</tbody>\n",
       "</table>\n"
      ],
      "text/latex": [
       "A tibble: 6 × 2\n",
       "\\begin{tabular}{ll}\n",
       " tailnum & n\\\\\n",
       " <chr> & <int>\\\\\n",
       "\\hline\n",
       "\t NA     & 2512\\\\\n",
       "\t N725MQ &  575\\\\\n",
       "\t N722MQ &  513\\\\\n",
       "\t N723MQ &  507\\\\\n",
       "\t N713MQ &  483\\\\\n",
       "\t N735MQ &  396\\\\\n",
       "\\end{tabular}\n"
      ],
      "text/markdown": [
       "\n",
       "A tibble: 6 × 2\n",
       "\n",
       "| tailnum &lt;chr&gt; | n &lt;int&gt; |\n",
       "|---|---|\n",
       "| NA     | 2512 |\n",
       "| N725MQ |  575 |\n",
       "| N722MQ |  513 |\n",
       "| N723MQ |  507 |\n",
       "| N713MQ |  483 |\n",
       "| N735MQ |  396 |\n",
       "\n"
      ],
      "text/plain": [
       "  tailnum n   \n",
       "1 NA      2512\n",
       "2 N725MQ   575\n",
       "3 N722MQ   513\n",
       "4 N723MQ   507\n",
       "5 N713MQ   483\n",
       "6 N735MQ   396"
      ]
     },
     "metadata": {},
     "output_type": "display_data"
    }
   ],
   "source": [
    "flights %>%\n",
    "anti_join(planes, by = \"tailnum\") %>%\n",
    "count(tailnum, sort = TRUE) %>% head"
   ]
  },
  {
   "cell_type": "markdown",
   "id": "42d6c6cb-2fcb-4bfa-bcfa-89f2f69d2dbd",
   "metadata": {},
   "source": [
    "### 집합 연산"
   ]
  },
  {
   "cell_type": "markdown",
   "id": "bdd274c0-0048-4b32-b932-81ae9b14c66b",
   "metadata": {},
   "source": [
    "> `intersect(x,y)` : 교집합  \n",
    "`union(x,y)` : 합집합  \n",
    "`set_diff(x,y)` : x에는 있지만, y에는 없는 관측값 반환  \n"
   ]
  }
 ],
 "metadata": {
  "kernelspec": {
   "display_name": "R",
   "language": "R",
   "name": "ir"
  },
  "language_info": {
   "codemirror_mode": "r",
   "file_extension": ".r",
   "mimetype": "text/x-r-source",
   "name": "R",
   "pygments_lexer": "r",
   "version": "4.1.3"
  }
 },
 "nbformat": 4,
 "nbformat_minor": 5
}
