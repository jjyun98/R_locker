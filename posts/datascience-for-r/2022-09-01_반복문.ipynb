{
 "cells": [
  {
   "cell_type": "raw",
   "id": "d324e2e2-04bf-4c63-931a-226c11472c42",
   "metadata": {},
   "source": [
    "---\n",
    "title: \"반복문\"\n",
    "format: \n",
    "  html:\n",
    "    code-fold: false\n",
    "    badges: true\n",
    "author: '조윤호'\n",
    "date: '8/17/2022'\n",
    "title-block-banner: true\n",
    "jupyter: R\n",
    "categories: [R]\n",
    "---"
   ]
  },
  {
   "cell_type": "markdown",
   "id": "cb794872-596a-49b2-b68d-ffabdf3543e7",
   "metadata": {
    "tags": []
   },
   "source": [
    "# 반복문\n",
    "\n",
    "apply(lapply, sapply), map(map2, pmap, invoke_map), reduce"
   ]
  },
  {
   "cell_type": "code",
   "execution_count": 57,
   "id": "8bf51d83-e36d-4477-b6ee-b2dad5c4080c",
   "metadata": {},
   "outputs": [],
   "source": [
    "library('tidyverse')\n",
    "library('data.table')"
   ]
  },
  {
   "cell_type": "code",
   "execution_count": 2,
   "id": "184e3681-b637-40dc-8f2e-1c3b18154479",
   "metadata": {},
   "outputs": [],
   "source": [
    "df <- tibble(\n",
    "    a = rnorm(10),\n",
    "    b = rnorm(10),\n",
    "    c = rnorm(10),\n",
    "    d = rnorm(10)\n",
    "    )"
   ]
  },
  {
   "cell_type": "code",
   "execution_count": 3,
   "id": "cdf36ee4-6501-4e85-993f-19c1057c3347",
   "metadata": {},
   "outputs": [
    {
     "data": {
      "text/html": [
       "0.362010450965252"
      ],
      "text/latex": [
       "0.362010450965252"
      ],
      "text/markdown": [
       "0.362010450965252"
      ],
      "text/plain": [
       "[1] 0.3620105"
      ]
     },
     "metadata": {},
     "output_type": "display_data"
    }
   ],
   "source": [
    "median(df$a)"
   ]
  },
  {
   "cell_type": "code",
   "execution_count": 4,
   "id": "833aebc1-b751-46fb-9d27-cc8137bd11c9",
   "metadata": {},
   "outputs": [
    {
     "data": {
      "text/html": [
       "<style>\n",
       ".list-inline {list-style: none; margin:0; padding: 0}\n",
       ".list-inline>li {display: inline-block}\n",
       ".list-inline>li:not(:last-child)::after {content: \"\\00b7\"; padding: 0 .5ex}\n",
       "</style>\n",
       "<ol class=list-inline><li>-0.113482282023113</li><li>0</li><li>0</li><li>0</li></ol>\n"
      ],
      "text/latex": [
       "\\begin{enumerate*}\n",
       "\\item -0.113482282023113\n",
       "\\item 0\n",
       "\\item 0\n",
       "\\item 0\n",
       "\\end{enumerate*}\n"
      ],
      "text/markdown": [
       "1. -0.113482282023113\n",
       "2. 0\n",
       "3. 0\n",
       "4. 0\n",
       "\n",
       "\n"
      ],
      "text/plain": [
       "[1] -0.1134823  0.0000000  0.0000000  0.0000000"
      ]
     },
     "metadata": {},
     "output_type": "display_data"
    }
   ],
   "source": [
    "output <- vector(\"double\", ncol(df))\n",
    "for(i in seq_along(df)){\n",
    "    output[[1]] <- median(df[[i]])\n",
    "    }\n",
    "output"
   ]
  },
  {
   "cell_type": "code",
   "execution_count": 5,
   "id": "0b3db2c4-9b06-48c6-9d28-6e5ad729c28d",
   "metadata": {},
   "outputs": [
    {
     "data": {
      "text/html": [],
      "text/latex": [],
      "text/markdown": [],
      "text/plain": [
       "integer(0)"
      ]
     },
     "metadata": {},
     "output_type": "display_data"
    }
   ],
   "source": [
    "y <- vector(\"double\", 0)\n",
    "seq_along(y)"
   ]
  },
  {
   "cell_type": "code",
   "execution_count": 6,
   "id": "1fb09382-8eba-4784-b1bb-e2de3a773ae6",
   "metadata": {},
   "outputs": [
    {
     "data": {
      "text/html": [
       "<style>\n",
       ".list-inline {list-style: none; margin:0; padding: 0}\n",
       ".list-inline>li {display: inline-block}\n",
       ".list-inline>li:not(:last-child)::after {content: \"\\00b7\"; padding: 0 .5ex}\n",
       "</style>\n",
       "<ol class=list-inline><li>1</li><li>0</li></ol>\n"
      ],
      "text/latex": [
       "\\begin{enumerate*}\n",
       "\\item 1\n",
       "\\item 0\n",
       "\\end{enumerate*}\n"
      ],
      "text/markdown": [
       "1. 1\n",
       "2. 0\n",
       "\n",
       "\n"
      ],
      "text/plain": [
       "[1] 1 0"
      ]
     },
     "metadata": {},
     "output_type": "display_data"
    }
   ],
   "source": [
    "1:length(y)"
   ]
  },
  {
   "cell_type": "markdown",
   "id": "ba1c3735-c44e-425e-b2cb-f3e958eedea1",
   "metadata": {},
   "source": [
    "`seq_along` : 간격 1로 고정된 `seq`<br>\n",
    "예를들어, seq_along(1:10) = 1,2,3....10으로 출력"
   ]
  },
  {
   "cell_type": "markdown",
   "id": "798861b7-2bf5-4db6-956c-5eb8231374ab",
   "metadata": {},
   "source": [
    "`range` : 입력값들 중에서 최소값과 최대값 출력"
   ]
  },
  {
   "cell_type": "markdown",
   "id": "4054a620-3132-4fa1-8554-f31ec6471252",
   "metadata": {},
   "source": [
    "`-` for문 사용해서 데이터프레임 변경 예시"
   ]
  },
  {
   "cell_type": "code",
   "execution_count": 7,
   "id": "2d7fadd1-d25b-4791-ada7-38d2e6cc6f16",
   "metadata": {},
   "outputs": [],
   "source": [
    "df <- tibble(\n",
    "    a = rnorm(10),\n",
    "    b = rnorm(10),\n",
    "    c = rnorm(10),\n",
    "    d = rnorm(10)\n",
    "    )\n",
    "df_ori <- copy(df)\n",
    "rescale01 <- function(x){\n",
    "    rng <- range(x, na.rm = TRUE)\n",
    "    (x - rng[1]) / (rng[2] - rng[1])\n",
    "    }"
   ]
  },
  {
   "cell_type": "code",
   "execution_count": 8,
   "id": "f540ae8e-1c4d-49f6-8ef1-39c58748bb55",
   "metadata": {},
   "outputs": [
    {
     "data": {
      "text/html": [
       "<table class=\"dataframe\">\n",
       "<caption>A tibble: 10 × 4</caption>\n",
       "<thead>\n",
       "\t<tr><th scope=col>a</th><th scope=col>b</th><th scope=col>c</th><th scope=col>d</th></tr>\n",
       "\t<tr><th scope=col>&lt;dbl&gt;</th><th scope=col>&lt;dbl&gt;</th><th scope=col>&lt;dbl&gt;</th><th scope=col>&lt;dbl&gt;</th></tr>\n",
       "</thead>\n",
       "<tbody>\n",
       "\t<tr><td> 0.101961343</td><td>-0.71086623</td><td>-0.25512630</td><td> 0.5539966</td></tr>\n",
       "\t<tr><td>-0.316890930</td><td>-1.53110514</td><td>-0.46776683</td><td> 0.4088169</td></tr>\n",
       "\t<tr><td> 0.475460867</td><td> 0.69184710</td><td>-0.52080481</td><td>-1.1331320</td></tr>\n",
       "\t<tr><td> 0.633766246</td><td>-0.34604681</td><td>-0.25575415</td><td> 0.2928074</td></tr>\n",
       "\t<tr><td>-0.001845828</td><td>-0.25148523</td><td> 0.91689638</td><td> 0.1911644</td></tr>\n",
       "\t<tr><td> 0.455532073</td><td>-1.04661644</td><td> 0.40009228</td><td> 0.6358231</td></tr>\n",
       "\t<tr><td> 0.043596138</td><td> 1.04180720</td><td> 1.33016238</td><td> 1.3531848</td></tr>\n",
       "\t<tr><td> 0.348391867</td><td> 0.97740881</td><td> 0.06871437</td><td>-2.3191413</td></tr>\n",
       "\t<tr><td> 0.582021699</td><td>-0.04129945</td><td> 0.54256432</td><td> 0.8905353</td></tr>\n",
       "\t<tr><td> 0.074872799</td><td> 0.48993701</td><td> 0.04458287</td><td> 0.9957713</td></tr>\n",
       "</tbody>\n",
       "</table>\n"
      ],
      "text/latex": [
       "A tibble: 10 × 4\n",
       "\\begin{tabular}{llll}\n",
       " a & b & c & d\\\\\n",
       " <dbl> & <dbl> & <dbl> & <dbl>\\\\\n",
       "\\hline\n",
       "\t  0.101961343 & -0.71086623 & -0.25512630 &  0.5539966\\\\\n",
       "\t -0.316890930 & -1.53110514 & -0.46776683 &  0.4088169\\\\\n",
       "\t  0.475460867 &  0.69184710 & -0.52080481 & -1.1331320\\\\\n",
       "\t  0.633766246 & -0.34604681 & -0.25575415 &  0.2928074\\\\\n",
       "\t -0.001845828 & -0.25148523 &  0.91689638 &  0.1911644\\\\\n",
       "\t  0.455532073 & -1.04661644 &  0.40009228 &  0.6358231\\\\\n",
       "\t  0.043596138 &  1.04180720 &  1.33016238 &  1.3531848\\\\\n",
       "\t  0.348391867 &  0.97740881 &  0.06871437 & -2.3191413\\\\\n",
       "\t  0.582021699 & -0.04129945 &  0.54256432 &  0.8905353\\\\\n",
       "\t  0.074872799 &  0.48993701 &  0.04458287 &  0.9957713\\\\\n",
       "\\end{tabular}\n"
      ],
      "text/markdown": [
       "\n",
       "A tibble: 10 × 4\n",
       "\n",
       "| a &lt;dbl&gt; | b &lt;dbl&gt; | c &lt;dbl&gt; | d &lt;dbl&gt; |\n",
       "|---|---|---|---|\n",
       "|  0.101961343 | -0.71086623 | -0.25512630 |  0.5539966 |\n",
       "| -0.316890930 | -1.53110514 | -0.46776683 |  0.4088169 |\n",
       "|  0.475460867 |  0.69184710 | -0.52080481 | -1.1331320 |\n",
       "|  0.633766246 | -0.34604681 | -0.25575415 |  0.2928074 |\n",
       "| -0.001845828 | -0.25148523 |  0.91689638 |  0.1911644 |\n",
       "|  0.455532073 | -1.04661644 |  0.40009228 |  0.6358231 |\n",
       "|  0.043596138 |  1.04180720 |  1.33016238 |  1.3531848 |\n",
       "|  0.348391867 |  0.97740881 |  0.06871437 | -2.3191413 |\n",
       "|  0.582021699 | -0.04129945 |  0.54256432 |  0.8905353 |\n",
       "|  0.074872799 |  0.48993701 |  0.04458287 |  0.9957713 |\n",
       "\n"
      ],
      "text/plain": [
       "   a            b           c           d         \n",
       "1   0.101961343 -0.71086623 -0.25512630  0.5539966\n",
       "2  -0.316890930 -1.53110514 -0.46776683  0.4088169\n",
       "3   0.475460867  0.69184710 -0.52080481 -1.1331320\n",
       "4   0.633766246 -0.34604681 -0.25575415  0.2928074\n",
       "5  -0.001845828 -0.25148523  0.91689638  0.1911644\n",
       "6   0.455532073 -1.04661644  0.40009228  0.6358231\n",
       "7   0.043596138  1.04180720  1.33016238  1.3531848\n",
       "8   0.348391867  0.97740881  0.06871437 -2.3191413\n",
       "9   0.582021699 -0.04129945  0.54256432  0.8905353\n",
       "10  0.074872799  0.48993701  0.04458287  0.9957713"
      ]
     },
     "metadata": {},
     "output_type": "display_data"
    }
   ],
   "source": [
    "df_ori"
   ]
  },
  {
   "cell_type": "code",
   "execution_count": 9,
   "id": "6d2b7e00-3d6f-42a5-8f98-a0e98cc5970e",
   "metadata": {},
   "outputs": [],
   "source": [
    "df$a <- rescale01(df$a)\n",
    "df$b <- rescale01(df$b)\n",
    "df$c <- rescale01(df$c)\n",
    "df$d <- rescale01(df$d)"
   ]
  },
  {
   "cell_type": "markdown",
   "id": "6065a8b4-b153-439a-a151-1103ff0087e6",
   "metadata": {},
   "source": [
    "- 변경해주는 것도 for문 사용해서 변경하기"
   ]
  },
  {
   "cell_type": "code",
   "execution_count": 10,
   "id": "64e8d346-f9be-46c9-ae3b-3be8a7057d68",
   "metadata": {},
   "outputs": [],
   "source": [
    "for (i in seq_along(4)){\n",
    "    df[[i]] <- rescale01(df[[i]])\n",
    "    }"
   ]
  },
  {
   "cell_type": "code",
   "execution_count": 11,
   "id": "af6cfd68-3f19-4165-86f3-8a0e7bb99de1",
   "metadata": {
    "tags": []
   },
   "outputs": [
    {
     "data": {
      "text/html": [
       "<table class=\"dataframe\">\n",
       "<caption>A tibble: 10 × 4</caption>\n",
       "<thead>\n",
       "\t<tr><th scope=col>a</th><th scope=col>b</th><th scope=col>c</th><th scope=col>d</th></tr>\n",
       "\t<tr><th scope=col>&lt;dbl&gt;</th><th scope=col>&lt;dbl&gt;</th><th scope=col>&lt;dbl&gt;</th><th scope=col>&lt;dbl&gt;</th></tr>\n",
       "</thead>\n",
       "<tbody>\n",
       "\t<tr><td>0.4405923</td><td>0.3187978</td><td>0.1435350</td><td>0.7823755</td></tr>\n",
       "\t<tr><td>0.0000000</td><td>0.0000000</td><td>0.0286542</td><td>0.7428420</td></tr>\n",
       "\t<tr><td>0.8334780</td><td>0.8639829</td><td>0.0000000</td><td>0.3229586</td></tr>\n",
       "\t<tr><td>1.0000000</td><td>0.4605902</td><td>0.1431958</td><td>0.7112518</td></tr>\n",
       "\t<tr><td>0.3313972</td><td>0.4973430</td><td>0.7767297</td><td>0.6835737</td></tr>\n",
       "\t<tr><td>0.8125148</td><td>0.1883036</td><td>0.4975221</td><td>0.8046574</td></tr>\n",
       "\t<tr><td>0.3791978</td><td>1.0000000</td><td>1.0000000</td><td>1.0000000</td></tr>\n",
       "\t<tr><td>0.6998136</td><td>0.9749706</td><td>0.3184925</td><td>0.0000000</td></tr>\n",
       "\t<tr><td>0.9455697</td><td>0.5790348</td><td>0.5744938</td><td>0.8740173</td></tr>\n",
       "\t<tr><td>0.4120978</td><td>0.7855076</td><td>0.3054553</td><td>0.9026738</td></tr>\n",
       "</tbody>\n",
       "</table>\n"
      ],
      "text/latex": [
       "A tibble: 10 × 4\n",
       "\\begin{tabular}{llll}\n",
       " a & b & c & d\\\\\n",
       " <dbl> & <dbl> & <dbl> & <dbl>\\\\\n",
       "\\hline\n",
       "\t 0.4405923 & 0.3187978 & 0.1435350 & 0.7823755\\\\\n",
       "\t 0.0000000 & 0.0000000 & 0.0286542 & 0.7428420\\\\\n",
       "\t 0.8334780 & 0.8639829 & 0.0000000 & 0.3229586\\\\\n",
       "\t 1.0000000 & 0.4605902 & 0.1431958 & 0.7112518\\\\\n",
       "\t 0.3313972 & 0.4973430 & 0.7767297 & 0.6835737\\\\\n",
       "\t 0.8125148 & 0.1883036 & 0.4975221 & 0.8046574\\\\\n",
       "\t 0.3791978 & 1.0000000 & 1.0000000 & 1.0000000\\\\\n",
       "\t 0.6998136 & 0.9749706 & 0.3184925 & 0.0000000\\\\\n",
       "\t 0.9455697 & 0.5790348 & 0.5744938 & 0.8740173\\\\\n",
       "\t 0.4120978 & 0.7855076 & 0.3054553 & 0.9026738\\\\\n",
       "\\end{tabular}\n"
      ],
      "text/markdown": [
       "\n",
       "A tibble: 10 × 4\n",
       "\n",
       "| a &lt;dbl&gt; | b &lt;dbl&gt; | c &lt;dbl&gt; | d &lt;dbl&gt; |\n",
       "|---|---|---|---|\n",
       "| 0.4405923 | 0.3187978 | 0.1435350 | 0.7823755 |\n",
       "| 0.0000000 | 0.0000000 | 0.0286542 | 0.7428420 |\n",
       "| 0.8334780 | 0.8639829 | 0.0000000 | 0.3229586 |\n",
       "| 1.0000000 | 0.4605902 | 0.1431958 | 0.7112518 |\n",
       "| 0.3313972 | 0.4973430 | 0.7767297 | 0.6835737 |\n",
       "| 0.8125148 | 0.1883036 | 0.4975221 | 0.8046574 |\n",
       "| 0.3791978 | 1.0000000 | 1.0000000 | 1.0000000 |\n",
       "| 0.6998136 | 0.9749706 | 0.3184925 | 0.0000000 |\n",
       "| 0.9455697 | 0.5790348 | 0.5744938 | 0.8740173 |\n",
       "| 0.4120978 | 0.7855076 | 0.3054553 | 0.9026738 |\n",
       "\n"
      ],
      "text/plain": [
       "   a         b         c         d        \n",
       "1  0.4405923 0.3187978 0.1435350 0.7823755\n",
       "2  0.0000000 0.0000000 0.0286542 0.7428420\n",
       "3  0.8334780 0.8639829 0.0000000 0.3229586\n",
       "4  1.0000000 0.4605902 0.1431958 0.7112518\n",
       "5  0.3313972 0.4973430 0.7767297 0.6835737\n",
       "6  0.8125148 0.1883036 0.4975221 0.8046574\n",
       "7  0.3791978 1.0000000 1.0000000 1.0000000\n",
       "8  0.6998136 0.9749706 0.3184925 0.0000000\n",
       "9  0.9455697 0.5790348 0.5744938 0.8740173\n",
       "10 0.4120978 0.7855076 0.3054553 0.9026738"
      ]
     },
     "metadata": {},
     "output_type": "display_data"
    }
   ],
   "source": [
    "df"
   ]
  },
  {
   "cell_type": "markdown",
   "id": "bf7753c3-f229-44f0-9b0f-a11d52481e89",
   "metadata": {},
   "source": [
    "#### 길이를 모르는 출력<br>\n",
    "- 벡터를 점진적으로 늘려가는 방법으로 해결한다면?"
   ]
  },
  {
   "cell_type": "markdown",
   "id": "95464629-df4b-4ea2-b064-e869b9988507",
   "metadata": {},
   "source": [
    "`rnorm(n, mean, sd)` : 정규분포 난수 만들기<br>\n",
    "`double` : 소수점 얼마얼마 숫자(정수도 가능)<br>\n",
    "`length` : vector 개수 세기"
   ]
  },
  {
   "cell_type": "code",
   "execution_count": 12,
   "id": "b79da7b6-ee75-4eed-a700-392a881e3ddc",
   "metadata": {},
   "outputs": [
    {
     "name": "stdout",
     "output_type": "stream",
     "text": [
      " num [1:110] -0.7369 0.0787 -2.256 -0.6757 0.1158 ...\n"
     ]
    }
   ],
   "source": [
    "means <- c(0, 1, 2)\n",
    "\n",
    "output <- double()\n",
    "for (i in seq_along(means)){\n",
    "    n <- sample(100, 1) # 1~100중 1개 선택\n",
    "    output <- c(output, rnorm(n, means[[i]]))\n",
    "    }\n",
    "str(output)"
   ]
  },
  {
   "cell_type": "code",
   "execution_count": 13,
   "id": "fd8b6b00-64e9-4627-af45-b5001c3fe056",
   "metadata": {},
   "outputs": [
    {
     "name": "stdout",
     "output_type": "stream",
     "text": [
      "List of 3\n",
      " $ : num [1:75] 0.4274 0.0549 -0.223 1.2001 0.123 ...\n",
      " $ : num [1:98] 1.6386 1.0974 1.1385 0.0381 -0.5397 ...\n",
      " $ : num [1:75] 2.529 3.133 0.915 2.794 1.578 ...\n"
     ]
    }
   ],
   "source": [
    "out <- vector(\"list\", length(means))\n",
    "for(i in seq_along(means)){\n",
    "    n <- sample(100,1)\n",
    "    out[[i]] <- rnorm(n, means[[i]])\n",
    "    }\n",
    "str(out)"
   ]
  },
  {
   "cell_type": "markdown",
   "id": "d33e427a-6d54-491f-9d9e-5f932ef3a4ac",
   "metadata": {},
   "source": [
    "`unlist` : 벡터의 리스트를 단일 벡터로 플랫하게 만들기"
   ]
  },
  {
   "cell_type": "code",
   "execution_count": 14,
   "id": "de58a099-a104-43dc-abf8-db32c52ec940",
   "metadata": {},
   "outputs": [
    {
     "name": "stdout",
     "output_type": "stream",
     "text": [
      " num [1:248] 0.4274 0.0549 -0.223 1.2001 0.123 ...\n"
     ]
    }
   ],
   "source": [
    "str(unlist(out))"
   ]
  },
  {
   "cell_type": "code",
   "execution_count": 15,
   "id": "09d06cb5-fd35-4618-8f47-ceafd77e43d0",
   "metadata": {},
   "outputs": [],
   "source": [
    "df <- tibble(\n",
    "    a = rnorm(10),\n",
    "    b = rnorm(10),\n",
    "    c = rnorm(10),\n",
    "    d = rnorm(10)\n",
    "    )"
   ]
  },
  {
   "cell_type": "code",
   "execution_count": 16,
   "id": "6424da5e-3da9-4c98-bf56-fc92ff5272c0",
   "metadata": {},
   "outputs": [
    {
     "data": {
      "text/html": [
       "<style>\n",
       ".dl-inline {width: auto; margin:0; padding: 0}\n",
       ".dl-inline>dt, .dl-inline>dd {float: none; width: auto; display: inline-block}\n",
       ".dl-inline>dt::after {content: \":\\0020\"; padding-right: .5ex}\n",
       ".dl-inline>dt:not(:first-of-type) {padding-left: .5ex}\n",
       "</style><dl class=dl-inline><dt>a</dt><dd>-0.362048185177478</dd><dt>b</dt><dd>-0.716840170078306</dd><dt>c</dt><dd>0.639352852031247</dd><dt>d</dt><dd>0.0124627667485991</dd></dl>\n"
      ],
      "text/latex": [
       "\\begin{description*}\n",
       "\\item[a] -0.362048185177478\n",
       "\\item[b] -0.716840170078306\n",
       "\\item[c] 0.639352852031247\n",
       "\\item[d] 0.0124627667485991\n",
       "\\end{description*}\n"
      ],
      "text/markdown": [
       "a\n",
       ":   -0.362048185177478b\n",
       ":   -0.716840170078306c\n",
       ":   0.639352852031247d\n",
       ":   0.0124627667485991\n",
       "\n"
      ],
      "text/plain": [
       "          a           b           c           d \n",
       "-0.36204819 -0.71684017  0.63935285  0.01246277 "
      ]
     },
     "metadata": {},
     "output_type": "display_data"
    }
   ],
   "source": [
    "map_dbl(df, mean)"
   ]
  },
  {
   "cell_type": "markdown",
   "id": "f93e97bd-841d-4759-bafe-abb5597a6001",
   "metadata": {},
   "source": [
    "`map` : 함수를 적용시켜 리스트로 출력해주는 함수<br>\n",
    "`map(x,f)` 형태"
   ]
  },
  {
   "cell_type": "markdown",
   "id": "903df2c0-7e1a-43ce-9df3-b3bf12b4a2bc",
   "metadata": {},
   "source": [
    "> - 리스트로 출력해준다고 했는데 뒤에 접미사 다른 거 붙이면 다른 형태로도 출력가능<br>\n",
    "map() : 리스트<br>\n",
    "map_lgl() : 논리형 벡터<br>\n",
    "map_int() : 정수형 벡터<br>\n",
    "map_dbl() : 더블형 벡터<br>\n",
    "map_chr() : 문자형 벡터"
   ]
  },
  {
   "cell_type": "markdown",
   "id": "842335d0-57bb-4b79-856e-8a9624d56ef6",
   "metadata": {},
   "source": [
    "`-` 예시"
   ]
  },
  {
   "cell_type": "code",
   "execution_count": 17,
   "id": "55709a9c-b83b-4045-8d51-5e982815890b",
   "metadata": {},
   "outputs": [
    {
     "data": {
      "text/html": [
       "<style>\n",
       ".dl-inline {width: auto; margin:0; padding: 0}\n",
       ".dl-inline>dt, .dl-inline>dd {float: none; width: auto; display: inline-block}\n",
       ".dl-inline>dt::after {content: \":\\0020\"; padding-right: .5ex}\n",
       ".dl-inline>dt:not(:first-of-type) {padding-left: .5ex}\n",
       "</style><dl class=dl-inline><dt>a</dt><dd>-0.362048185177478</dd><dt>b</dt><dd>-0.716840170078306</dd><dt>c</dt><dd>0.639352852031247</dd><dt>d</dt><dd>0.0124627667485991</dd></dl>\n"
      ],
      "text/latex": [
       "\\begin{description*}\n",
       "\\item[a] -0.362048185177478\n",
       "\\item[b] -0.716840170078306\n",
       "\\item[c] 0.639352852031247\n",
       "\\item[d] 0.0124627667485991\n",
       "\\end{description*}\n"
      ],
      "text/markdown": [
       "a\n",
       ":   -0.362048185177478b\n",
       ":   -0.716840170078306c\n",
       ":   0.639352852031247d\n",
       ":   0.0124627667485991\n",
       "\n"
      ],
      "text/plain": [
       "          a           b           c           d \n",
       "-0.36204819 -0.71684017  0.63935285  0.01246277 "
      ]
     },
     "metadata": {},
     "output_type": "display_data"
    }
   ],
   "source": [
    "map_dbl(df, mean)"
   ]
  },
  {
   "cell_type": "code",
   "execution_count": 18,
   "id": "56e1d77f-f13e-440c-9454-6ce667d8bb7e",
   "metadata": {},
   "outputs": [
    {
     "data": {
      "text/html": [
       "<style>\n",
       ".dl-inline {width: auto; margin:0; padding: 0}\n",
       ".dl-inline>dt, .dl-inline>dd {float: none; width: auto; display: inline-block}\n",
       ".dl-inline>dt::after {content: \":\\0020\"; padding-right: .5ex}\n",
       ".dl-inline>dt:not(:first-of-type) {padding-left: .5ex}\n",
       "</style><dl class=dl-inline><dt>a</dt><dd>-0.542239777185805</dd><dt>b</dt><dd>-0.855557504853792</dd><dt>c</dt><dd>0.838733172985942</dd><dt>d</dt><dd>-0.323875457122516</dd></dl>\n"
      ],
      "text/latex": [
       "\\begin{description*}\n",
       "\\item[a] -0.542239777185805\n",
       "\\item[b] -0.855557504853792\n",
       "\\item[c] 0.838733172985942\n",
       "\\item[d] -0.323875457122516\n",
       "\\end{description*}\n"
      ],
      "text/markdown": [
       "a\n",
       ":   -0.542239777185805b\n",
       ":   -0.855557504853792c\n",
       ":   0.838733172985942d\n",
       ":   -0.323875457122516\n",
       "\n"
      ],
      "text/plain": [
       "         a          b          c          d \n",
       "-0.5422398 -0.8555575  0.8387332 -0.3238755 "
      ]
     },
     "metadata": {},
     "output_type": "display_data"
    }
   ],
   "source": [
    "map_dbl(df, median)"
   ]
  },
  {
   "cell_type": "code",
   "execution_count": 19,
   "id": "ad5ec45c-d8dd-478e-bcc7-9541a6355df9",
   "metadata": {},
   "outputs": [
    {
     "data": {
      "text/html": [
       "<style>\n",
       ".dl-inline {width: auto; margin:0; padding: 0}\n",
       ".dl-inline>dt, .dl-inline>dd {float: none; width: auto; display: inline-block}\n",
       ".dl-inline>dt::after {content: \":\\0020\"; padding-right: .5ex}\n",
       ".dl-inline>dt:not(:first-of-type) {padding-left: .5ex}\n",
       "</style><dl class=dl-inline><dt>a</dt><dd>1.07926902284635</dd><dt>b</dt><dd>1.22672862747107</dd><dt>c</dt><dd>0.615238020380514</dd><dt>d</dt><dd>1.23052848204296</dd></dl>\n"
      ],
      "text/latex": [
       "\\begin{description*}\n",
       "\\item[a] 1.07926902284635\n",
       "\\item[b] 1.22672862747107\n",
       "\\item[c] 0.615238020380514\n",
       "\\item[d] 1.23052848204296\n",
       "\\end{description*}\n"
      ],
      "text/markdown": [
       "a\n",
       ":   1.07926902284635b\n",
       ":   1.22672862747107c\n",
       ":   0.615238020380514d\n",
       ":   1.23052848204296\n",
       "\n"
      ],
      "text/plain": [
       "       a        b        c        d \n",
       "1.079269 1.226729 0.615238 1.230528 "
      ]
     },
     "metadata": {},
     "output_type": "display_data"
    }
   ],
   "source": [
    "map_dbl(df, sd)"
   ]
  },
  {
   "cell_type": "markdown",
   "id": "e85b3874-5786-4ead-ac20-9255cf60f66a",
   "metadata": {},
   "source": [
    "- 파이프 연산자 역시 사용가능"
   ]
  },
  {
   "cell_type": "code",
   "execution_count": 20,
   "id": "b8a1fa8f-8379-4d2a-ad37-7db70b656510",
   "metadata": {},
   "outputs": [
    {
     "data": {
      "text/html": [
       "<style>\n",
       ".dl-inline {width: auto; margin:0; padding: 0}\n",
       ".dl-inline>dt, .dl-inline>dd {float: none; width: auto; display: inline-block}\n",
       ".dl-inline>dt::after {content: \":\\0020\"; padding-right: .5ex}\n",
       ".dl-inline>dt:not(:first-of-type) {padding-left: .5ex}\n",
       "</style><dl class=dl-inline><dt>a</dt><dd>-0.362048185177478</dd><dt>b</dt><dd>-0.716840170078306</dd><dt>c</dt><dd>0.639352852031247</dd><dt>d</dt><dd>0.0124627667485991</dd></dl>\n"
      ],
      "text/latex": [
       "\\begin{description*}\n",
       "\\item[a] -0.362048185177478\n",
       "\\item[b] -0.716840170078306\n",
       "\\item[c] 0.639352852031247\n",
       "\\item[d] 0.0124627667485991\n",
       "\\end{description*}\n"
      ],
      "text/markdown": [
       "a\n",
       ":   -0.362048185177478b\n",
       ":   -0.716840170078306c\n",
       ":   0.639352852031247d\n",
       ":   0.0124627667485991\n",
       "\n"
      ],
      "text/plain": [
       "          a           b           c           d \n",
       "-0.36204819 -0.71684017  0.63935285  0.01246277 "
      ]
     },
     "metadata": {},
     "output_type": "display_data"
    }
   ],
   "source": [
    "df %>% map_dbl(mean)"
   ]
  },
  {
   "cell_type": "markdown",
   "id": "23be5418-4eea-4180-8a52-0b192fbab6e0",
   "metadata": {},
   "source": [
    "- 맵 함수는 또한 이름을 유지한다."
   ]
  },
  {
   "cell_type": "code",
   "execution_count": 21,
   "id": "e10c659b-4890-4837-b276-02ef445195e0",
   "metadata": {},
   "outputs": [
    {
     "data": {
      "text/html": [
       "<style>\n",
       ".dl-inline {width: auto; margin:0; padding: 0}\n",
       ".dl-inline>dt, .dl-inline>dd {float: none; width: auto; display: inline-block}\n",
       ".dl-inline>dt::after {content: \":\\0020\"; padding-right: .5ex}\n",
       ".dl-inline>dt:not(:first-of-type) {padding-left: .5ex}\n",
       "</style><dl class=dl-inline><dt>x</dt><dd>3</dd><dt>y</dt><dd>2</dd></dl>\n"
      ],
      "text/latex": [
       "\\begin{description*}\n",
       "\\item[x] 3\n",
       "\\item[y] 2\n",
       "\\end{description*}\n"
      ],
      "text/markdown": [
       "x\n",
       ":   3y\n",
       ":   2\n",
       "\n"
      ],
      "text/plain": [
       "x y \n",
       "3 2 "
      ]
     },
     "metadata": {},
     "output_type": "display_data"
    }
   ],
   "source": [
    "z <- list(x = 1:3, y = 4:5)\n",
    "map_int(z, length)"
   ]
  },
  {
   "cell_type": "markdown",
   "id": "9ae1013b-fa22-436b-aca0-f42e2f0e73fc",
   "metadata": {},
   "source": [
    "`-` 데이터 셋 각 그룹에 선형 모형을 적합하기<br>\n",
    "- 여기에서 `.`은 현재 리스트 요소를 가르키는 역할이다."
   ]
  },
  {
   "cell_type": "code",
   "execution_count": 22,
   "id": "13596c6f-3515-4f53-b083-5e3daf233bb3",
   "metadata": {},
   "outputs": [],
   "source": [
    "models <- mtcars %>% \n",
    "split(.$cyl) %>%\n",
    "map(~lm(mpg ~ wt, data = .))"
   ]
  },
  {
   "cell_type": "code",
   "execution_count": 23,
   "id": "e5e3d3c8-db53-466d-b43e-cf02b0e3df1f",
   "metadata": {},
   "outputs": [
    {
     "data": {
      "text/plain": [
       "$`4`\n",
       "\n",
       "Call:\n",
       "lm(formula = mpg ~ wt, data = .)\n",
       "\n",
       "Coefficients:\n",
       "(Intercept)           wt  \n",
       "     39.571       -5.647  \n",
       "\n",
       "\n",
       "$`6`\n",
       "\n",
       "Call:\n",
       "lm(formula = mpg ~ wt, data = .)\n",
       "\n",
       "Coefficients:\n",
       "(Intercept)           wt  \n",
       "      28.41        -2.78  \n",
       "\n",
       "\n",
       "$`8`\n",
       "\n",
       "Call:\n",
       "lm(formula = mpg ~ wt, data = .)\n",
       "\n",
       "Coefficients:\n",
       "(Intercept)           wt  \n",
       "     23.868       -2.192  \n",
       "\n"
      ]
     },
     "metadata": {},
     "output_type": "display_data"
    }
   ],
   "source": [
    "models"
   ]
  },
  {
   "cell_type": "markdown",
   "id": "c7b278de-8fd4-48eb-ac84-4fcecfe33a10",
   "metadata": {},
   "source": [
    "`-` 같은 방식으로 `.`을 사용하여 $R^2$ 출력"
   ]
  },
  {
   "cell_type": "code",
   "execution_count": 24,
   "id": "9e41128a-df12-479f-b2bd-a4a996459335",
   "metadata": {},
   "outputs": [
    {
     "data": {
      "text/html": [
       "<style>\n",
       ".dl-inline {width: auto; margin:0; padding: 0}\n",
       ".dl-inline>dt, .dl-inline>dd {float: none; width: auto; display: inline-block}\n",
       ".dl-inline>dt::after {content: \":\\0020\"; padding-right: .5ex}\n",
       ".dl-inline>dt:not(:first-of-type) {padding-left: .5ex}\n",
       "</style><dl class=dl-inline><dt>4</dt><dd>0.50863259632314</dd><dt>6</dt><dd>0.464510150550548</dd><dt>8</dt><dd>0.422965536496111</dd></dl>\n"
      ],
      "text/latex": [
       "\\begin{description*}\n",
       "\\item[4] 0.50863259632314\n",
       "\\item[6] 0.464510150550548\n",
       "\\item[8] 0.422965536496111\n",
       "\\end{description*}\n"
      ],
      "text/markdown": [
       "4\n",
       ":   0.508632596323146\n",
       ":   0.4645101505505488\n",
       ":   0.422965536496111\n",
       "\n"
      ],
      "text/plain": [
       "        4         6         8 \n",
       "0.5086326 0.4645102 0.4229655 "
      ]
     },
     "metadata": {},
     "output_type": "display_data"
    }
   ],
   "source": [
    "models %>%\n",
    "map(summary) %>%\n",
    "map_dbl(~.$r.squared)"
   ]
  },
  {
   "cell_type": "markdown",
   "id": "3bdd8f42-2c40-4d75-94cf-d5380a3e9dc2",
   "metadata": {},
   "source": [
    "- 아예 이름을 불러 호출하여 추출하는 방법"
   ]
  },
  {
   "cell_type": "code",
   "execution_count": 25,
   "id": "e630b658-69d8-43b4-9d8e-cf617133ed1c",
   "metadata": {},
   "outputs": [
    {
     "data": {
      "text/html": [
       "<style>\n",
       ".dl-inline {width: auto; margin:0; padding: 0}\n",
       ".dl-inline>dt, .dl-inline>dd {float: none; width: auto; display: inline-block}\n",
       ".dl-inline>dt::after {content: \":\\0020\"; padding-right: .5ex}\n",
       ".dl-inline>dt:not(:first-of-type) {padding-left: .5ex}\n",
       "</style><dl class=dl-inline><dt>4</dt><dd>0.50863259632314</dd><dt>6</dt><dd>0.464510150550548</dd><dt>8</dt><dd>0.422965536496111</dd></dl>\n"
      ],
      "text/latex": [
       "\\begin{description*}\n",
       "\\item[4] 0.50863259632314\n",
       "\\item[6] 0.464510150550548\n",
       "\\item[8] 0.422965536496111\n",
       "\\end{description*}\n"
      ],
      "text/markdown": [
       "4\n",
       ":   0.508632596323146\n",
       ":   0.4645101505505488\n",
       ":   0.422965536496111\n",
       "\n"
      ],
      "text/plain": [
       "        4         6         8 \n",
       "0.5086326 0.4645102 0.4229655 "
      ]
     },
     "metadata": {},
     "output_type": "display_data"
    }
   ],
   "source": [
    "models %>%\n",
    "map(summary) %>%\n",
    "map_dbl(\"r.squared\")"
   ]
  },
  {
   "cell_type": "markdown",
   "id": "96cd1b99-4a04-44a1-8d4b-b1d08ac70afb",
   "metadata": {},
   "source": [
    "- 정수형을 사용하여 위치로 요소를 선택할 수도 있다."
   ]
  },
  {
   "cell_type": "code",
   "execution_count": 26,
   "id": "22ac0aba-7db3-414f-aab3-a8dd34e0f6de",
   "metadata": {},
   "outputs": [
    {
     "data": {
      "text/html": [
       "<style>\n",
       ".list-inline {list-style: none; margin:0; padding: 0}\n",
       ".list-inline>li {display: inline-block}\n",
       ".list-inline>li:not(:last-child)::after {content: \"\\00b7\"; padding: 0 .5ex}\n",
       "</style>\n",
       "<ol class=list-inline><li>2</li><li>5</li><li>8</li></ol>\n"
      ],
      "text/latex": [
       "\\begin{enumerate*}\n",
       "\\item 2\n",
       "\\item 5\n",
       "\\item 8\n",
       "\\end{enumerate*}\n"
      ],
      "text/markdown": [
       "1. 2\n",
       "2. 5\n",
       "3. 8\n",
       "\n",
       "\n"
      ],
      "text/plain": [
       "[1] 2 5 8"
      ]
     },
     "metadata": {},
     "output_type": "display_data"
    }
   ],
   "source": [
    "x <- list(list(1,2,3), list(4,5,6), list(7,8,9))\n",
    "x %>%\n",
    "map_dbl(2)"
   ]
  },
  {
   "cell_type": "markdown",
   "id": "cbfed1fa-bf5e-46f2-ba1d-ee828e1ecba1",
   "metadata": {},
   "source": [
    "## apply함수들(정리)"
   ]
  },
  {
   "cell_type": "markdown",
   "id": "f107691d-3262-4b8e-a172-3ec15fefc299",
   "metadata": {},
   "source": [
    "> `apply` : 행렬의 행 또는 열 방향으로 특정 함수를 적용한다.<br>\n",
    "ex) `apply(array, 방향, 함수)` 이때, 방향은 1=행, 2=열<br>\n",
    "대신 위에 나온 것처럼 `apply`는 `array`밖에 입력 안된다.<br>\n",
    "<br>\n",
    "> `lapply` : 똑같은데 입력으로 `vector` 또는 `list`를 받아 `list`를 반환한다.<br>\n",
    "데이터 프레임도 적용가능하다.(데이터 프레임은 `list` 기반이기에)<br>\n",
    "<br>\n",
    "> `sapply` : `lapply`에서 `list` 대신 `행렬 or 벡터`로 반환한다.<br>\n",
    "등등"
   ]
  },
  {
   "cell_type": "markdown",
   "id": "41d6dec1-ef34-4b7d-9ee0-63f0796405b3",
   "metadata": {},
   "source": [
    "`-` 예시"
   ]
  },
  {
   "cell_type": "code",
   "execution_count": 27,
   "id": "8e350aa3-4f74-4bcf-8831-7de150ce537a",
   "metadata": {},
   "outputs": [],
   "source": [
    "x1 <- list(\n",
    "    c(0.27, 0.37, 0.57, 0.91, 0.20),\n",
    "    c(0.90, 0.94, 0.66, 0.63, 0.06),\n",
    "    c(0.21, 0.18, 0.69, 0.38, 0.77)\n",
    "    )\n",
    "x2 <- list(\n",
    "    c(0.50, 0.72, 0.99, 0.38, 0.78),\n",
    "    c(0.93, 0.21, 0.65, 0.13, 0.27),\n",
    "    c(0.39, 0.01, 0.38, 0.87, 0.34)\n",
    "    )"
   ]
  },
  {
   "cell_type": "code",
   "execution_count": 28,
   "id": "1ce7f15a-2ac1-4537-9e61-d0d566854fef",
   "metadata": {},
   "outputs": [
    {
     "name": "stdout",
     "output_type": "stream",
     "text": [
      "List of 3\n",
      " $ : num 0.91\n",
      " $ : num 0.94\n",
      " $ : num(0) \n"
     ]
    }
   ],
   "source": [
    "threshold <- function(x, cutoff = 0.9) x[x > cutoff] # 여기서 cutoff는 그냥 명명한 거. 뜻 없음\n",
    "x1 %>% sapply(threshold) %>% str()"
   ]
  },
  {
   "cell_type": "code",
   "execution_count": 29,
   "id": "02b08a2c-cfbe-4779-8e3a-9b70a40edb34",
   "metadata": {},
   "outputs": [
    {
     "name": "stdout",
     "output_type": "stream",
     "text": [
      "List of 3\n",
      " $ : num 0.99\n",
      " $ : num 0.93\n",
      " $ : num(0) \n"
     ]
    }
   ],
   "source": [
    "x2 %>% sapply(threshold) %>% str()"
   ]
  },
  {
   "cell_type": "markdown",
   "id": "30ae5c12-1f37-4f7a-aae4-19a45b77c5fc",
   "metadata": {},
   "source": [
    "## 실패 다루기"
   ]
  },
  {
   "cell_type": "markdown",
   "id": "cc2e2889-5f22-4657-8f84-5065152c3daa",
   "metadata": {},
   "source": [
    "`safely` : 계산상에 오류가 있는지 확인해준다. 오류가 없으면 error에 NULL로 표기"
   ]
  },
  {
   "cell_type": "code",
   "execution_count": 30,
   "id": "02e695df-6501-4b0f-9d73-68a7f1882ed5",
   "metadata": {},
   "outputs": [
    {
     "name": "stdout",
     "output_type": "stream",
     "text": [
      "List of 2\n",
      " $ result: num 2.3\n",
      " $ error : NULL\n"
     ]
    }
   ],
   "source": [
    "safe_log <- safely(log)\n",
    "str(safe_log(10))"
   ]
  },
  {
   "cell_type": "code",
   "execution_count": 31,
   "id": "5a6af370-18b9-464f-870f-5146aa4edf40",
   "metadata": {},
   "outputs": [
    {
     "name": "stdout",
     "output_type": "stream",
     "text": [
      "List of 2\n",
      " $ result: NULL\n",
      " $ error :List of 2\n",
      "  ..$ message: chr \"수학함수에 숫자가 아닌 인자가 전달되었습니다\"\n",
      "  ..$ call   : language .Primitive(\"log\")(x, base)\n",
      "  ..- attr(*, \"class\")= chr [1:3] \"simpleError\" \"error\" \"condition\"\n"
     ]
    }
   ],
   "source": [
    "str(safe_log(\"a\"))"
   ]
  },
  {
   "cell_type": "markdown",
   "id": "c421c6a0-323f-494c-bc6f-6bbd0d32b666",
   "metadata": {},
   "source": [
    "## 여러가지 map"
   ]
  },
  {
   "cell_type": "markdown",
   "id": "1bfc0464-346c-40ba-8a15-6e953e8d9a41",
   "metadata": {},
   "source": [
    "### map2"
   ]
  },
  {
   "cell_type": "code",
   "execution_count": 32,
   "id": "00c86697-9287-4414-9804-2ed482a6a129",
   "metadata": {},
   "outputs": [
    {
     "name": "stdout",
     "output_type": "stream",
     "text": [
      "List of 3\n",
      " $ : num [1:5] 5 4.84 5.25 4.08 3.68\n",
      " $ : num [1:5] 10.25 9.78 10.39 10.78 12.78\n",
      " $ : num [1:5] -1.15 -2.11 -2.37 -2.99 -2.69\n"
     ]
    }
   ],
   "source": [
    "mu <- list(5, 10, -3)\n",
    "sigma <- list(1, 5, 10)\n",
    "mu %>%\n",
    "map(rnorm, n = 5) %>%\n",
    "str()"
   ]
  },
  {
   "cell_type": "markdown",
   "id": "05a2b696-f117-44db-a00c-a0609538d621",
   "metadata": {},
   "source": [
    "- 아래는 다음의 과정을 거쳐 작동된다."
   ]
  },
  {
   "cell_type": "markdown",
   "id": "cd3b4193-a4f4-4d3f-abd1-654249b4eb31",
   "metadata": {},
   "source": [
    "|mu |sigma|map2(mu, sigma, rnorm, n = 10)|\n",
    "|:---:|:---: |:---:                         |\n",
    "|5  |  1  |           rnorm(5, 1, n = 10)|\n",
    "|10 |5    |rnorm(10, 5, n = 10)          |\n",
    "|-3 |10   |rnorm(-3, 10, n = 10)         |"
   ]
  },
  {
   "cell_type": "code",
   "execution_count": 33,
   "id": "db27559b-0b3d-48f7-9e9c-da76d1e473d9",
   "metadata": {},
   "outputs": [
    {
     "data": {
      "text/html": [
       "<ol>\n",
       "\t<li><style>\n",
       ".list-inline {list-style: none; margin:0; padding: 0}\n",
       ".list-inline>li {display: inline-block}\n",
       ".list-inline>li:not(:last-child)::after {content: \"\\00b7\"; padding: 0 .5ex}\n",
       "</style>\n",
       "<ol class=list-inline><li>4.34946788770747</li><li>4.82473955654002</li><li>5.11607009380605</li><li>4.43842417365661</li><li>4.31180624593213</li><li>5.00169114838544</li><li>6.02576445716311</li><li>5.00623699783564</li><li>3.41532528062659</li><li>4.56435385331102</li></ol>\n",
       "</li>\n",
       "\t<li><style>\n",
       ".list-inline {list-style: none; margin:0; padding: 0}\n",
       ".list-inline>li {display: inline-block}\n",
       ".list-inline>li:not(:last-child)::after {content: \"\\00b7\"; padding: 0 .5ex}\n",
       "</style>\n",
       "<ol class=list-inline><li>9.3897062178535</li><li>12.4294707797343</li><li>10.7793775780466</li><li>14.1752899558275</li><li>7.61763670573423</li><li>18.0576919771418</li><li>12.6688127275592</li><li>5.51971281455203</li><li>7.04220192154293</li><li>12.8668843514661</li></ol>\n",
       "</li>\n",
       "\t<li><style>\n",
       ".list-inline {list-style: none; margin:0; padding: 0}\n",
       ".list-inline>li {display: inline-block}\n",
       ".list-inline>li:not(:last-child)::after {content: \"\\00b7\"; padding: 0 .5ex}\n",
       "</style>\n",
       "<ol class=list-inline><li>-12.1263285068101</li><li>8.10375813436303</li><li>-2.77099269255498</li><li>-8.01782132458463</li><li>9.23333321085482</li><li>-2.76297700643537</li><li>2.10853033340745</li><li>-16.3415111650991</li><li>-8.0945480461034</li><li>-6.86634956802985</li></ol>\n",
       "</li>\n",
       "</ol>\n"
      ],
      "text/latex": [
       "\\begin{enumerate}\n",
       "\\item \\begin{enumerate*}\n",
       "\\item 4.34946788770747\n",
       "\\item 4.82473955654002\n",
       "\\item 5.11607009380605\n",
       "\\item 4.43842417365661\n",
       "\\item 4.31180624593213\n",
       "\\item 5.00169114838544\n",
       "\\item 6.02576445716311\n",
       "\\item 5.00623699783564\n",
       "\\item 3.41532528062659\n",
       "\\item 4.56435385331102\n",
       "\\end{enumerate*}\n",
       "\n",
       "\\item \\begin{enumerate*}\n",
       "\\item 9.3897062178535\n",
       "\\item 12.4294707797343\n",
       "\\item 10.7793775780466\n",
       "\\item 14.1752899558275\n",
       "\\item 7.61763670573423\n",
       "\\item 18.0576919771418\n",
       "\\item 12.6688127275592\n",
       "\\item 5.51971281455203\n",
       "\\item 7.04220192154293\n",
       "\\item 12.8668843514661\n",
       "\\end{enumerate*}\n",
       "\n",
       "\\item \\begin{enumerate*}\n",
       "\\item -12.1263285068101\n",
       "\\item 8.10375813436303\n",
       "\\item -2.77099269255498\n",
       "\\item -8.01782132458463\n",
       "\\item 9.23333321085482\n",
       "\\item -2.76297700643537\n",
       "\\item 2.10853033340745\n",
       "\\item -16.3415111650991\n",
       "\\item -8.0945480461034\n",
       "\\item -6.86634956802985\n",
       "\\end{enumerate*}\n",
       "\n",
       "\\end{enumerate}\n"
      ],
      "text/markdown": [
       "1. 1. 4.34946788770747\n",
       "2. 4.82473955654002\n",
       "3. 5.11607009380605\n",
       "4. 4.43842417365661\n",
       "5. 4.31180624593213\n",
       "6. 5.00169114838544\n",
       "7. 6.02576445716311\n",
       "8. 5.00623699783564\n",
       "9. 3.41532528062659\n",
       "10. 4.56435385331102\n",
       "\n",
       "\n",
       "\n",
       "2. 1. 9.3897062178535\n",
       "2. 12.4294707797343\n",
       "3. 10.7793775780466\n",
       "4. 14.1752899558275\n",
       "5. 7.61763670573423\n",
       "6. 18.0576919771418\n",
       "7. 12.6688127275592\n",
       "8. 5.51971281455203\n",
       "9. 7.04220192154293\n",
       "10. 12.8668843514661\n",
       "\n",
       "\n",
       "\n",
       "3. 1. -12.1263285068101\n",
       "2. 8.10375813436303\n",
       "3. -2.77099269255498\n",
       "4. -8.01782132458463\n",
       "5. 9.23333321085482\n",
       "6. -2.76297700643537\n",
       "7. 2.10853033340745\n",
       "8. -16.3415111650991\n",
       "9. -8.0945480461034\n",
       "10. -6.86634956802985\n",
       "\n",
       "\n",
       "\n",
       "\n",
       "\n"
      ],
      "text/plain": [
       "[[1]]\n",
       " [1] 4.349468 4.824740 5.116070 4.438424 4.311806 5.001691 6.025764 5.006237\n",
       " [9] 3.415325 4.564354\n",
       "\n",
       "[[2]]\n",
       " [1]  9.389706 12.429471 10.779378 14.175290  7.617637 18.057692 12.668813\n",
       " [8]  5.519713  7.042202 12.866884\n",
       "\n",
       "[[3]]\n",
       " [1] -12.126329   8.103758  -2.770993  -8.017821   9.233333  -2.762977\n",
       " [7]   2.108530 -16.341511  -8.094548  -6.866350\n"
      ]
     },
     "metadata": {},
     "output_type": "display_data"
    }
   ],
   "source": [
    "map2(mu, sigma, rnorm, n = 10)"
   ]
  },
  {
   "cell_type": "markdown",
   "id": "e267b78d-c78c-4ad7-806c-4124f5d05ab2",
   "metadata": {},
   "source": [
    "### pmap"
   ]
  },
  {
   "cell_type": "markdown",
   "id": "7bade7b7-b7ad-469f-a0a1-bf774d362989",
   "metadata": {},
   "source": [
    "- map3, map4등등 계속 숫자를 올릴 수 없으므로 그 이상은 `pmap`을 사용한다.<br>\n",
    "`pmap` : map인데 인수를 리스트로 받을 수 있음."
   ]
  },
  {
   "cell_type": "markdown",
   "id": "dce08744-c147-44ee-a560-d6a7c8f6f5b6",
   "metadata": {},
   "source": [
    "`-` 예시"
   ]
  },
  {
   "cell_type": "code",
   "execution_count": 34,
   "id": "07c569c9-12e1-4b96-a0a5-ef3d90db3899",
   "metadata": {},
   "outputs": [
    {
     "name": "stdout",
     "output_type": "stream",
     "text": [
      "List of 3\n",
      " $ : num 4.53\n",
      " $ : num [1:3] 1.13 9.61 3.6\n",
      " $ : num [1:5] -9.5 -9.63 -29.9 -11.2 -7.71\n"
     ]
    }
   ],
   "source": [
    "n <- list(1, 3, 5)\n",
    "args1 <- list(n, mu, sigma)\n",
    "args1 %>%\n",
    "pmap(rnorm) %>%\n",
    "str()"
   ]
  },
  {
   "cell_type": "markdown",
   "id": "28633a3b-e1da-4ec6-b997-7737d944c927",
   "metadata": {},
   "source": [
    "`pmap`의 작동 구조는 다음과 같다."
   ]
  },
  {
   "cell_type": "markdown",
   "id": "331006d5-47c4-4086-821a-a6c1280397a0",
   "metadata": {},
   "source": [
    "||args1||pmap(args1)|\n",
    "|:---:|:---:|:---:|:---:|\n",
    "|1|5|1|rnorm(1, 5, 1)|\n",
    "|3|10|5|rnorm(3, 10, 5)|\n",
    "|5|-3|10|rnorm(5, -3, 10)|"
   ]
  },
  {
   "cell_type": "markdown",
   "id": "78da0d42-6f01-4de1-85bb-5289414b7fda",
   "metadata": {},
   "source": [
    "- 아예 명령시킬 것을 명명시켜 리스트형태로 넣어서 사용도 가능하다.<br>\n",
    "위의 방법이 위치에 맞는 함수나 인수들을 받아들이는 거라면 이거는 이름 붙인 것을 꺼내는 방식이라 오류가 더 적다."
   ]
  },
  {
   "cell_type": "code",
   "execution_count": 35,
   "id": "602649de-56ae-4ad2-81ad-e85a88b368cf",
   "metadata": {},
   "outputs": [
    {
     "name": "stdout",
     "output_type": "stream",
     "text": [
      "List of 3\n",
      " $ : num 4.31\n",
      " $ : num [1:3] 4.01 15.02 20.1\n",
      " $ : num [1:5] -2.02 -14.74 17.28 -7.93 -4.06\n"
     ]
    }
   ],
   "source": [
    "args2 <- list(mean = mu, sd = sigma, n = n)\n",
    "args2 %>%\n",
    "pmap(rnorm) %>%\n",
    "str()"
   ]
  },
  {
   "cell_type": "markdown",
   "id": "60e45ac7-8db2-4015-b353-7e1014b5508d",
   "metadata": {},
   "source": [
    "- mu, sigma, n 모두 인수의 길이가 같기 때문에 데이터프레임으로 저장하고 사용하는 것도 가능하다.<br>\n",
    "코드가 복잡하다면 이 방법이 더 유용하다."
   ]
  },
  {
   "cell_type": "code",
   "execution_count": 36,
   "id": "d0d6a282-1958-4ba4-92b0-c7ea0c3bfba4",
   "metadata": {},
   "outputs": [
    {
     "data": {
      "text/html": [
       "<table class=\"dataframe\">\n",
       "<caption>A tibble: 3 × 3</caption>\n",
       "<thead>\n",
       "\t<tr><th scope=col>mean</th><th scope=col>sd</th><th scope=col>n</th></tr>\n",
       "\t<tr><th scope=col>&lt;dbl&gt;</th><th scope=col>&lt;dbl&gt;</th><th scope=col>&lt;dbl&gt;</th></tr>\n",
       "</thead>\n",
       "<tbody>\n",
       "\t<tr><td> 5</td><td> 1</td><td>1</td></tr>\n",
       "\t<tr><td>10</td><td> 5</td><td>3</td></tr>\n",
       "\t<tr><td>-3</td><td>10</td><td>5</td></tr>\n",
       "</tbody>\n",
       "</table>\n"
      ],
      "text/latex": [
       "A tibble: 3 × 3\n",
       "\\begin{tabular}{lll}\n",
       " mean & sd & n\\\\\n",
       " <dbl> & <dbl> & <dbl>\\\\\n",
       "\\hline\n",
       "\t  5 &  1 & 1\\\\\n",
       "\t 10 &  5 & 3\\\\\n",
       "\t -3 & 10 & 5\\\\\n",
       "\\end{tabular}\n"
      ],
      "text/markdown": [
       "\n",
       "A tibble: 3 × 3\n",
       "\n",
       "| mean &lt;dbl&gt; | sd &lt;dbl&gt; | n &lt;dbl&gt; |\n",
       "|---|---|---|\n",
       "|  5 |  1 | 1 |\n",
       "| 10 |  5 | 3 |\n",
       "| -3 | 10 | 5 |\n",
       "\n"
      ],
      "text/plain": [
       "  mean sd n\n",
       "1  5    1 1\n",
       "2 10    5 3\n",
       "3 -3   10 5"
      ]
     },
     "metadata": {},
     "output_type": "display_data"
    }
   ],
   "source": [
    "params <- tribble(\n",
    "    ~mean, ~sd, ~n,\n",
    "    5 ,  1, 1,\n",
    "    10,  5, 3,\n",
    "    -3, 10, 5\n",
    "    )\n",
    "params"
   ]
  },
  {
   "cell_type": "code",
   "execution_count": 37,
   "id": "c14b4b4c-0543-4e98-bcb4-1870ea9a3bb5",
   "metadata": {},
   "outputs": [
    {
     "data": {
      "text/html": [
       "<ol>\n",
       "\t<li>6.15037626545721</li>\n",
       "\t<li><style>\n",
       ".list-inline {list-style: none; margin:0; padding: 0}\n",
       ".list-inline>li {display: inline-block}\n",
       ".list-inline>li:not(:last-child)::after {content: \"\\00b7\"; padding: 0 .5ex}\n",
       "</style>\n",
       "<ol class=list-inline><li>9.89227976048285</li><li>19.6310194701541</li><li>10.6521306803585</li></ol>\n",
       "</li>\n",
       "\t<li><style>\n",
       ".list-inline {list-style: none; margin:0; padding: 0}\n",
       ".list-inline>li {display: inline-block}\n",
       ".list-inline>li:not(:last-child)::after {content: \"\\00b7\"; padding: 0 .5ex}\n",
       "</style>\n",
       "<ol class=list-inline><li>-16.774842106684</li><li>5.89682521421044</li><li>-3.89736505198936</li><li>12.9090332777723</li><li>-2.7446162856276</li></ol>\n",
       "</li>\n",
       "</ol>\n"
      ],
      "text/latex": [
       "\\begin{enumerate}\n",
       "\\item 6.15037626545721\n",
       "\\item \\begin{enumerate*}\n",
       "\\item 9.89227976048285\n",
       "\\item 19.6310194701541\n",
       "\\item 10.6521306803585\n",
       "\\end{enumerate*}\n",
       "\n",
       "\\item \\begin{enumerate*}\n",
       "\\item -16.774842106684\n",
       "\\item 5.89682521421044\n",
       "\\item -3.89736505198936\n",
       "\\item 12.9090332777723\n",
       "\\item -2.7446162856276\n",
       "\\end{enumerate*}\n",
       "\n",
       "\\end{enumerate}\n"
      ],
      "text/markdown": [
       "1. 6.15037626545721\n",
       "2. 1. 9.89227976048285\n",
       "2. 19.6310194701541\n",
       "3. 10.6521306803585\n",
       "\n",
       "\n",
       "\n",
       "3. 1. -16.774842106684\n",
       "2. 5.89682521421044\n",
       "3. -3.89736505198936\n",
       "4. 12.9090332777723\n",
       "5. -2.7446162856276\n",
       "\n",
       "\n",
       "\n",
       "\n",
       "\n"
      ],
      "text/plain": [
       "[[1]]\n",
       "[1] 6.150376\n",
       "\n",
       "[[2]]\n",
       "[1]  9.89228 19.63102 10.65213\n",
       "\n",
       "[[3]]\n",
       "[1] -16.774842   5.896825  -3.897365  12.909033  -2.744616\n"
      ]
     },
     "metadata": {},
     "output_type": "display_data"
    }
   ],
   "source": [
    "params %>%\n",
    "pmap(rnorm)"
   ]
  },
  {
   "cell_type": "code",
   "execution_count": 38,
   "id": "2349967e-1810-414b-b23a-0c15ec6f3556",
   "metadata": {},
   "outputs": [],
   "source": [
    "f <- c(\"runif\", \"rnorm\", \"rpois\")\n",
    "param <- list(\n",
    "    list(min = -1, max = 1),\n",
    "    list(sd = 5),\n",
    "    list(lambda = 10)\n",
    "    )"
   ]
  },
  {
   "cell_type": "code",
   "execution_count": 39,
   "id": "9b65eea4-2733-4f62-b593-1e44bcac1091",
   "metadata": {},
   "outputs": [
    {
     "data": {
      "text/html": [
       "<style>\n",
       ".list-inline {list-style: none; margin:0; padding: 0}\n",
       ".list-inline>li {display: inline-block}\n",
       ".list-inline>li:not(:last-child)::after {content: \"\\00b7\"; padding: 0 .5ex}\n",
       "</style>\n",
       "<ol class=list-inline><li>'runif'</li><li>'rnorm'</li><li>'rpois'</li></ol>\n"
      ],
      "text/latex": [
       "\\begin{enumerate*}\n",
       "\\item 'runif'\n",
       "\\item 'rnorm'\n",
       "\\item 'rpois'\n",
       "\\end{enumerate*}\n"
      ],
      "text/markdown": [
       "1. 'runif'\n",
       "2. 'rnorm'\n",
       "3. 'rpois'\n",
       "\n",
       "\n"
      ],
      "text/plain": [
       "[1] \"runif\" \"rnorm\" \"rpois\""
      ]
     },
     "metadata": {},
     "output_type": "display_data"
    }
   ],
   "source": [
    "f"
   ]
  },
  {
   "cell_type": "code",
   "execution_count": 40,
   "id": "b7b2d6ff-2080-46af-93de-b82dc94a3239",
   "metadata": {},
   "outputs": [
    {
     "data": {
      "text/html": [
       "<ol>\n",
       "\t<li><dl>\n",
       "\t<dt>$min</dt>\n",
       "\t\t<dd>-1</dd>\n",
       "\t<dt>$max</dt>\n",
       "\t\t<dd>1</dd>\n",
       "</dl>\n",
       "</li>\n",
       "\t<li><strong>$sd</strong> = 5</li>\n",
       "\t<li><strong>$lambda</strong> = 10</li>\n",
       "</ol>\n"
      ],
      "text/latex": [
       "\\begin{enumerate}\n",
       "\\item \\begin{description}\n",
       "\\item[\\$min] -1\n",
       "\\item[\\$max] 1\n",
       "\\end{description}\n",
       "\n",
       "\\item \\textbf{\\$sd} = 5\n",
       "\\item \\textbf{\\$lambda} = 10\n",
       "\\end{enumerate}\n"
      ],
      "text/markdown": [
       "1. $min\n",
       ":   -1\n",
       "$max\n",
       ":   1\n",
       "\n",
       "\n",
       "\n",
       "2. **$sd** = 5\n",
       "3. **$lambda** = 10\n",
       "\n",
       "\n"
      ],
      "text/plain": [
       "[[1]]\n",
       "[[1]]$min\n",
       "[1] -1\n",
       "\n",
       "[[1]]$max\n",
       "[1] 1\n",
       "\n",
       "\n",
       "[[2]]\n",
       "[[2]]$sd\n",
       "[1] 5\n",
       "\n",
       "\n",
       "[[3]]\n",
       "[[3]]$lambda\n",
       "[1] 10\n",
       "\n"
      ]
     },
     "metadata": {},
     "output_type": "display_data"
    }
   ],
   "source": [
    "param"
   ]
  },
  {
   "cell_type": "code",
   "execution_count": 41,
   "id": "2e9ff344-7aca-4258-82c8-5689cd79f0ea",
   "metadata": {},
   "outputs": [
    {
     "name": "stdout",
     "output_type": "stream",
     "text": [
      "List of 3\n",
      " $ : num [1:5] -0.408 0.918 0.437 0.206 0.574\n",
      " $ : num [1:5] -1.99 -3.46 -1.99 -4.26 -2.59\n",
      " $ : int [1:5] 5 7 6 8 14\n"
     ]
    }
   ],
   "source": [
    "invoke_map(f, param, n = 5) %>% str()"
   ]
  },
  {
   "cell_type": "markdown",
   "id": "3abc7ed0-19cd-4a87-a70c-3c4dd8f75ba4",
   "metadata": {},
   "source": [
    "### invoke_map"
   ]
  },
  {
   "cell_type": "markdown",
   "id": "37a5ee05-a7cd-4aef-86b4-3125091b4f0a",
   "metadata": {},
   "source": [
    "- `pmap`에서 한 술 더 떠서 이름이 지정된 리스트를 불러서 그 이름에 해당하는 함수 적용까지 가능하다."
   ]
  },
  {
   "cell_type": "markdown",
   "id": "0dcb975d-0fbf-4375-9a81-edf7e070e5a8",
   "metadata": {},
   "source": [
    "`invoke_map`의 작동구조는 다음과 같다."
   ]
  },
  {
   "cell_type": "markdown",
   "id": "16bafbf6-ebbc-4575-8551-b6def6c4e643",
   "metadata": {},
   "source": [
    "|f|params|invoke_map(f, params, n = 5)|\n",
    "|:---:|:---:|:---:|\n",
    "|\"runif\"|-1,1|runif(min = -1, max = 1, n = 1)|\n",
    "|\"rnorm\"|5|rnorm(sd = 5, n = 5)|\n",
    "|\"rpois\"|10|rpois(lambda = 10, n = 5)|"
   ]
  },
  {
   "cell_type": "markdown",
   "id": "f67f1df0-42e7-4588-84aa-85fb3a8ca1ad",
   "metadata": {},
   "source": [
    "`-` 자료를 tribble에 빠르게 넣고 빠르게 적용하기"
   ]
  },
  {
   "cell_type": "code",
   "execution_count": 42,
   "id": "11467e03-6255-4e4b-b0b6-44c20fb14fb1",
   "metadata": {},
   "outputs": [
    {
     "data": {
      "text/html": [
       "<table class=\"dataframe\">\n",
       "<caption>A tibble: 3 × 2</caption>\n",
       "<thead>\n",
       "\t<tr><th scope=col>f</th><th scope=col>params</th></tr>\n",
       "\t<tr><th scope=col>&lt;chr&gt;</th><th scope=col>&lt;list&gt;</th></tr>\n",
       "</thead>\n",
       "<tbody>\n",
       "\t<tr><td>runif</td><td>-1, 1</td></tr>\n",
       "\t<tr><td>rnorm</td><td>5</td></tr>\n",
       "\t<tr><td>rpois</td><td>10</td></tr>\n",
       "</tbody>\n",
       "</table>\n"
      ],
      "text/latex": [
       "A tibble: 3 × 2\n",
       "\\begin{tabular}{ll}\n",
       " f & params\\\\\n",
       " <chr> & <list>\\\\\n",
       "\\hline\n",
       "\t runif & -1, 1\\\\\n",
       "\t rnorm & 5\\\\\n",
       "\t rpois & 10\\\\\n",
       "\\end{tabular}\n"
      ],
      "text/markdown": [
       "\n",
       "A tibble: 3 × 2\n",
       "\n",
       "| f &lt;chr&gt; | params &lt;list&gt; |\n",
       "|---|---|\n",
       "| runif | -1, 1 |\n",
       "| rnorm | 5 |\n",
       "| rpois | 10 |\n",
       "\n"
      ],
      "text/plain": [
       "  f     params\n",
       "1 runif -1, 1 \n",
       "2 rnorm 5     \n",
       "3 rpois 10    "
      ]
     },
     "metadata": {},
     "output_type": "display_data"
    }
   ],
   "source": [
    "sim <- tribble(\n",
    "    ~f, ~params,\n",
    "    \"runif\", list(min = -1, max = 1),\n",
    "    \"rnorm\", list(sd = 5),\n",
    "    \"rpois\", list(lambda = 10)\n",
    "    )\n",
    "sim"
   ]
  },
  {
   "cell_type": "code",
   "execution_count": 43,
   "id": "f1d30c59-33fb-40b1-acdc-660b22f899e6",
   "metadata": {},
   "outputs": [
    {
     "data": {
      "text/html": [
       "<table class=\"dataframe\">\n",
       "<caption>A tibble: 3 × 3</caption>\n",
       "<thead>\n",
       "\t<tr><th scope=col>f</th><th scope=col>params</th><th scope=col>sim</th></tr>\n",
       "\t<tr><th scope=col>&lt;chr&gt;</th><th scope=col>&lt;list&gt;</th><th scope=col>&lt;list&gt;</th></tr>\n",
       "</thead>\n",
       "<tbody>\n",
       "\t<tr><td>runif</td><td>-1, 1</td><td>0.07894134, -0.86898545, -0.15951936, 0.78716288, -0.83887923, 0.91604573, -0.71653860, -0.20937246, 0.73207933, -0.55086865</td></tr>\n",
       "\t<tr><td>rnorm</td><td>5</td><td>4.6303684, 1.4773254, -6.1243872, -0.3974409, -0.3804220, -1.6938584, 4.8958890, 5.0882558, -8.4444484, 7.0620562</td></tr>\n",
       "\t<tr><td>rpois</td><td>10</td><td>16, 13, 14, 13, 13, 7, 11, 6, 7, 10</td></tr>\n",
       "</tbody>\n",
       "</table>\n"
      ],
      "text/latex": [
       "A tibble: 3 × 3\n",
       "\\begin{tabular}{lll}\n",
       " f & params & sim\\\\\n",
       " <chr> & <list> & <list>\\\\\n",
       "\\hline\n",
       "\t runif & -1, 1 & 0.07894134, -0.86898545, -0.15951936, 0.78716288, -0.83887923, 0.91604573, -0.71653860, -0.20937246, 0.73207933, -0.55086865\\\\\n",
       "\t rnorm & 5 & 4.6303684, 1.4773254, -6.1243872, -0.3974409, -0.3804220, -1.6938584, 4.8958890, 5.0882558, -8.4444484, 7.0620562\\\\\n",
       "\t rpois & 10 & 16, 13, 14, 13, 13, 7, 11, 6, 7, 10\\\\\n",
       "\\end{tabular}\n"
      ],
      "text/markdown": [
       "\n",
       "A tibble: 3 × 3\n",
       "\n",
       "| f &lt;chr&gt; | params &lt;list&gt; | sim &lt;list&gt; |\n",
       "|---|---|---|\n",
       "| runif | -1, 1 | 0.07894134, -0.86898545, -0.15951936, 0.78716288, -0.83887923, 0.91604573, -0.71653860, -0.20937246, 0.73207933, -0.55086865 |\n",
       "| rnorm | 5 | 4.6303684, 1.4773254, -6.1243872, -0.3974409, -0.3804220, -1.6938584, 4.8958890, 5.0882558, -8.4444484, 7.0620562 |\n",
       "| rpois | 10 | 16, 13, 14, 13, 13, 7, 11, 6, 7, 10 |\n",
       "\n"
      ],
      "text/plain": [
       "  f     params\n",
       "1 runif -1, 1 \n",
       "2 rnorm 5     \n",
       "3 rpois 10    \n",
       "  sim                                                                                                                         \n",
       "1 0.07894134, -0.86898545, -0.15951936, 0.78716288, -0.83887923, 0.91604573, -0.71653860, -0.20937246, 0.73207933, -0.55086865\n",
       "2 4.6303684, 1.4773254, -6.1243872, -0.3974409, -0.3804220, -1.6938584, 4.8958890, 5.0882558, -8.4444484, 7.0620562           \n",
       "3 16, 13, 14, 13, 13, 7, 11, 6, 7, 10                                                                                         "
      ]
     },
     "metadata": {},
     "output_type": "display_data"
    }
   ],
   "source": [
    "sim %>%\n",
    "mutate(sim = invoke_map(f, params, n = 10))"
   ]
  },
  {
   "cell_type": "markdown",
   "id": "4440b245-e0c7-4f9b-b4ed-43a3f76f8af6",
   "metadata": {},
   "source": [
    "`some` : 일부 요소가 참인지 알려줌.<br>\n",
    "`every` : 모든 요소가 참인지 알려줌."
   ]
  },
  {
   "cell_type": "code",
   "execution_count": 44,
   "id": "870983ab-b7e2-497c-b36b-ec4d254d5f1e",
   "metadata": {},
   "outputs": [
    {
     "data": {
      "text/html": [
       "<ol>\n",
       "\t<li><style>\n",
       ".list-inline {list-style: none; margin:0; padding: 0}\n",
       ".list-inline>li {display: inline-block}\n",
       ".list-inline>li:not(:last-child)::after {content: \"\\00b7\"; padding: 0 .5ex}\n",
       "</style>\n",
       "<ol class=list-inline><li>1</li><li>2</li><li>3</li><li>4</li><li>5</li></ol>\n",
       "</li>\n",
       "\t<li><style>\n",
       ".list-inline {list-style: none; margin:0; padding: 0}\n",
       ".list-inline>li {display: inline-block}\n",
       ".list-inline>li:not(:last-child)::after {content: \"\\00b7\"; padding: 0 .5ex}\n",
       "</style>\n",
       "<ol class=list-inline><li>'a'</li><li>'b'</li><li>'c'</li><li>'d'</li><li>'e'</li><li>'f'</li><li>'g'</li><li>'h'</li><li>'i'</li><li>'j'</li><li>'k'</li><li>'l'</li><li>'m'</li><li>'n'</li><li>'o'</li><li>'p'</li><li>'q'</li><li>'r'</li><li>'s'</li><li>'t'</li><li>'u'</li><li>'v'</li><li>'w'</li><li>'x'</li><li>'y'</li><li>'z'</li></ol>\n",
       "</li>\n",
       "\t<li><ol>\n",
       "\t<li>10</li>\n",
       "</ol>\n",
       "</li>\n",
       "</ol>\n"
      ],
      "text/latex": [
       "\\begin{enumerate}\n",
       "\\item \\begin{enumerate*}\n",
       "\\item 1\n",
       "\\item 2\n",
       "\\item 3\n",
       "\\item 4\n",
       "\\item 5\n",
       "\\end{enumerate*}\n",
       "\n",
       "\\item \\begin{enumerate*}\n",
       "\\item 'a'\n",
       "\\item 'b'\n",
       "\\item 'c'\n",
       "\\item 'd'\n",
       "\\item 'e'\n",
       "\\item 'f'\n",
       "\\item 'g'\n",
       "\\item 'h'\n",
       "\\item 'i'\n",
       "\\item 'j'\n",
       "\\item 'k'\n",
       "\\item 'l'\n",
       "\\item 'm'\n",
       "\\item 'n'\n",
       "\\item 'o'\n",
       "\\item 'p'\n",
       "\\item 'q'\n",
       "\\item 'r'\n",
       "\\item 's'\n",
       "\\item 't'\n",
       "\\item 'u'\n",
       "\\item 'v'\n",
       "\\item 'w'\n",
       "\\item 'x'\n",
       "\\item 'y'\n",
       "\\item 'z'\n",
       "\\end{enumerate*}\n",
       "\n",
       "\\item \\begin{enumerate}\n",
       "\\item 10\n",
       "\\end{enumerate}\n",
       "\n",
       "\\end{enumerate}\n"
      ],
      "text/markdown": [
       "1. 1. 1\n",
       "2. 2\n",
       "3. 3\n",
       "4. 4\n",
       "5. 5\n",
       "\n",
       "\n",
       "\n",
       "2. 1. 'a'\n",
       "2. 'b'\n",
       "3. 'c'\n",
       "4. 'd'\n",
       "5. 'e'\n",
       "6. 'f'\n",
       "7. 'g'\n",
       "8. 'h'\n",
       "9. 'i'\n",
       "10. 'j'\n",
       "11. 'k'\n",
       "12. 'l'\n",
       "13. 'm'\n",
       "14. 'n'\n",
       "15. 'o'\n",
       "16. 'p'\n",
       "17. 'q'\n",
       "18. 'r'\n",
       "19. 's'\n",
       "20. 't'\n",
       "21. 'u'\n",
       "22. 'v'\n",
       "23. 'w'\n",
       "24. 'x'\n",
       "25. 'y'\n",
       "26. 'z'\n",
       "\n",
       "\n",
       "\n",
       "3. 1. 10\n",
       "\n",
       "\n",
       "\n",
       "\n",
       "\n"
      ],
      "text/plain": [
       "[[1]]\n",
       "[1] 1 2 3 4 5\n",
       "\n",
       "[[2]]\n",
       " [1] \"a\" \"b\" \"c\" \"d\" \"e\" \"f\" \"g\" \"h\" \"i\" \"j\" \"k\" \"l\" \"m\" \"n\" \"o\" \"p\" \"q\" \"r\" \"s\"\n",
       "[20] \"t\" \"u\" \"v\" \"w\" \"x\" \"y\" \"z\"\n",
       "\n",
       "[[3]]\n",
       "[[3]][[1]]\n",
       "[1] 10\n",
       "\n"
      ]
     },
     "metadata": {},
     "output_type": "display_data"
    }
   ],
   "source": [
    "x <- list(1:5, letters, list(10))\n",
    "x"
   ]
  },
  {
   "cell_type": "code",
   "execution_count": 45,
   "id": "4f6812c5-cadd-4099-931a-26c9d08f6f37",
   "metadata": {},
   "outputs": [
    {
     "data": {
      "text/html": [
       "TRUE"
      ],
      "text/latex": [
       "TRUE"
      ],
      "text/markdown": [
       "TRUE"
      ],
      "text/plain": [
       "[1] TRUE"
      ]
     },
     "metadata": {},
     "output_type": "display_data"
    }
   ],
   "source": [
    "x %>%\n",
    "some(is.character)"
   ]
  },
  {
   "cell_type": "code",
   "execution_count": 46,
   "id": "f24d8130-f162-40bf-a80b-37a91068d032",
   "metadata": {},
   "outputs": [
    {
     "data": {
      "text/html": [
       "TRUE"
      ],
      "text/latex": [
       "TRUE"
      ],
      "text/markdown": [
       "TRUE"
      ],
      "text/plain": [
       "[1] TRUE"
      ]
     },
     "metadata": {},
     "output_type": "display_data"
    }
   ],
   "source": [
    "x %>% \n",
    "every(is_vector)"
   ]
  },
  {
   "cell_type": "markdown",
   "id": "d3263c77-7d3a-405e-bc86-4d556108c2ed",
   "metadata": {},
   "source": [
    "`detect` : 논리서술이 참인 첫 번째 요소를 찾아준다.<br>\n",
    "`detect_index` : 논리서술이 참인 첫 번째 요소의 해당 위치를 반환하다.<br>\n",
    "`head_while` : 벡터의 시작에서부터 논리서술자가 참인 요소들을 반환한다.<br>\n",
    "`tail_while` : 벡터의 끝에서부터 논리서술자가 참인 요소들을 반환한다."
   ]
  },
  {
   "cell_type": "code",
   "execution_count": 47,
   "id": "d77a5caa-3690-4bdd-8134-8c3ced64ce0a",
   "metadata": {},
   "outputs": [
    {
     "data": {
      "text/html": [
       "<style>\n",
       ".list-inline {list-style: none; margin:0; padding: 0}\n",
       ".list-inline>li {display: inline-block}\n",
       ".list-inline>li:not(:last-child)::after {content: \"\\00b7\"; padding: 0 .5ex}\n",
       "</style>\n",
       "<ol class=list-inline><li>9</li><li>10</li><li>4</li><li>5</li><li>7</li><li>6</li><li>1</li><li>2</li><li>8</li><li>3</li></ol>\n"
      ],
      "text/latex": [
       "\\begin{enumerate*}\n",
       "\\item 9\n",
       "\\item 10\n",
       "\\item 4\n",
       "\\item 5\n",
       "\\item 7\n",
       "\\item 6\n",
       "\\item 1\n",
       "\\item 2\n",
       "\\item 8\n",
       "\\item 3\n",
       "\\end{enumerate*}\n"
      ],
      "text/markdown": [
       "1. 9\n",
       "2. 10\n",
       "3. 4\n",
       "4. 5\n",
       "5. 7\n",
       "6. 6\n",
       "7. 1\n",
       "8. 2\n",
       "9. 8\n",
       "10. 3\n",
       "\n",
       "\n"
      ],
      "text/plain": [
       " [1]  9 10  4  5  7  6  1  2  8  3"
      ]
     },
     "metadata": {},
     "output_type": "display_data"
    }
   ],
   "source": [
    "x <- sample(10)\n",
    "x"
   ]
  },
  {
   "cell_type": "code",
   "execution_count": 48,
   "id": "e53682e7-a44e-45b3-aba1-4b0e00d909d9",
   "metadata": {},
   "outputs": [
    {
     "data": {
      "text/html": [
       "9"
      ],
      "text/latex": [
       "9"
      ],
      "text/markdown": [
       "9"
      ],
      "text/plain": [
       "[1] 9"
      ]
     },
     "metadata": {},
     "output_type": "display_data"
    }
   ],
   "source": [
    "x %>%\n",
    "detect(~ . > 5)"
   ]
  },
  {
   "cell_type": "code",
   "execution_count": 49,
   "id": "204ae0e1-665e-48c9-b85b-1ba4a587b165",
   "metadata": {},
   "outputs": [
    {
     "data": {
      "text/html": [
       "1"
      ],
      "text/latex": [
       "1"
      ],
      "text/markdown": [
       "1"
      ],
      "text/plain": [
       "[1] 1"
      ]
     },
     "metadata": {},
     "output_type": "display_data"
    }
   ],
   "source": [
    "x %>%\n",
    "detect_index(~ . > 5) "
   ]
  },
  {
   "cell_type": "code",
   "execution_count": 50,
   "id": "26d2bfd4-1a55-4487-b9e7-f8457eca2688",
   "metadata": {},
   "outputs": [
    {
     "data": {
      "text/html": [
       "<style>\n",
       ".list-inline {list-style: none; margin:0; padding: 0}\n",
       ".list-inline>li {display: inline-block}\n",
       ".list-inline>li:not(:last-child)::after {content: \"\\00b7\"; padding: 0 .5ex}\n",
       "</style>\n",
       "<ol class=list-inline><li>9</li><li>10</li></ol>\n"
      ],
      "text/latex": [
       "\\begin{enumerate*}\n",
       "\\item 9\n",
       "\\item 10\n",
       "\\end{enumerate*}\n"
      ],
      "text/markdown": [
       "1. 9\n",
       "2. 10\n",
       "\n",
       "\n"
      ],
      "text/plain": [
       "[1]  9 10"
      ]
     },
     "metadata": {},
     "output_type": "display_data"
    }
   ],
   "source": [
    "x %>%\n",
    "head_while(~ . > 5)"
   ]
  },
  {
   "cell_type": "code",
   "execution_count": 51,
   "id": "9c105703-75bc-4fab-a8b2-7b9f2f49fca2",
   "metadata": {},
   "outputs": [
    {
     "data": {
      "text/html": [],
      "text/latex": [],
      "text/markdown": [],
      "text/plain": [
       "integer(0)"
      ]
     },
     "metadata": {},
     "output_type": "display_data"
    }
   ],
   "source": [
    "x %>%\n",
    "tail_while(~ . > 5)"
   ]
  },
  {
   "cell_type": "markdown",
   "id": "be822840-b936-4464-9496-71539048dd27",
   "metadata": {},
   "source": [
    "## reduce"
   ]
  },
  {
   "cell_type": "markdown",
   "id": "4c098a7f-ccd1-457a-b248-3d34cfd63190",
   "metadata": {},
   "source": [
    "- 데이터프레임 리스트가 있을 때, 리스트의 요소를 \"조인\"해서 하나의 데이터프레임으로 만들어준다."
   ]
  },
  {
   "cell_type": "code",
   "execution_count": 52,
   "id": "988ab10d-52d4-4f77-856e-7de8e41693a1",
   "metadata": {},
   "outputs": [],
   "source": [
    "dfs <- list(\n",
    "    age = tibble(name = \"John\", age = 30),\n",
    "    sex = tibble(name = c(\"John\", \"Mary\"), sex = c(\"M\", \"F\")),\n",
    "    trt = tibble(name = \"Mary\", treatment = \"A\")\n",
    "    )"
   ]
  },
  {
   "cell_type": "code",
   "execution_count": 53,
   "id": "479ce107-f216-4961-80a4-89590febf4d2",
   "metadata": {},
   "outputs": [
    {
     "data": {
      "text/html": [
       "<dl>\n",
       "\t<dt>$age</dt>\n",
       "\t\t<dd><table class=\"dataframe\">\n",
       "<caption>A tibble: 1 × 2</caption>\n",
       "<thead>\n",
       "\t<tr><th scope=col>name</th><th scope=col>age</th></tr>\n",
       "\t<tr><th scope=col>&lt;chr&gt;</th><th scope=col>&lt;dbl&gt;</th></tr>\n",
       "</thead>\n",
       "<tbody>\n",
       "\t<tr><td>John</td><td>30</td></tr>\n",
       "</tbody>\n",
       "</table>\n",
       "</dd>\n",
       "\t<dt>$sex</dt>\n",
       "\t\t<dd><table class=\"dataframe\">\n",
       "<caption>A tibble: 2 × 2</caption>\n",
       "<thead>\n",
       "\t<tr><th scope=col>name</th><th scope=col>sex</th></tr>\n",
       "\t<tr><th scope=col>&lt;chr&gt;</th><th scope=col>&lt;chr&gt;</th></tr>\n",
       "</thead>\n",
       "<tbody>\n",
       "\t<tr><td>John</td><td>M</td></tr>\n",
       "\t<tr><td>Mary</td><td>F</td></tr>\n",
       "</tbody>\n",
       "</table>\n",
       "</dd>\n",
       "\t<dt>$trt</dt>\n",
       "\t\t<dd><table class=\"dataframe\">\n",
       "<caption>A tibble: 1 × 2</caption>\n",
       "<thead>\n",
       "\t<tr><th scope=col>name</th><th scope=col>treatment</th></tr>\n",
       "\t<tr><th scope=col>&lt;chr&gt;</th><th scope=col>&lt;chr&gt;</th></tr>\n",
       "</thead>\n",
       "<tbody>\n",
       "\t<tr><td>Mary</td><td>A</td></tr>\n",
       "</tbody>\n",
       "</table>\n",
       "</dd>\n",
       "</dl>\n"
      ],
      "text/latex": [
       "\\begin{description}\n",
       "\\item[\\$age] A tibble: 1 × 2\n",
       "\\begin{tabular}{ll}\n",
       " name & age\\\\\n",
       " <chr> & <dbl>\\\\\n",
       "\\hline\n",
       "\t John & 30\\\\\n",
       "\\end{tabular}\n",
       "\n",
       "\\item[\\$sex] A tibble: 2 × 2\n",
       "\\begin{tabular}{ll}\n",
       " name & sex\\\\\n",
       " <chr> & <chr>\\\\\n",
       "\\hline\n",
       "\t John & M\\\\\n",
       "\t Mary & F\\\\\n",
       "\\end{tabular}\n",
       "\n",
       "\\item[\\$trt] A tibble: 1 × 2\n",
       "\\begin{tabular}{ll}\n",
       " name & treatment\\\\\n",
       " <chr> & <chr>\\\\\n",
       "\\hline\n",
       "\t Mary & A\\\\\n",
       "\\end{tabular}\n",
       "\n",
       "\\end{description}\n"
      ],
      "text/markdown": [
       "$age\n",
       ":   \n",
       "A tibble: 1 × 2\n",
       "\n",
       "| name &lt;chr&gt; | age &lt;dbl&gt; |\n",
       "|---|---|\n",
       "| John | 30 |\n",
       "\n",
       "\n",
       "$sex\n",
       ":   \n",
       "A tibble: 2 × 2\n",
       "\n",
       "| name &lt;chr&gt; | sex &lt;chr&gt; |\n",
       "|---|---|\n",
       "| John | M |\n",
       "| Mary | F |\n",
       "\n",
       "\n",
       "$trt\n",
       ":   \n",
       "A tibble: 1 × 2\n",
       "\n",
       "| name &lt;chr&gt; | treatment &lt;chr&gt; |\n",
       "|---|---|\n",
       "| Mary | A |\n",
       "\n",
       "\n",
       "\n",
       "\n"
      ],
      "text/plain": [
       "$age\n",
       "\u001b[90m# A tibble: 1 × 2\u001b[39m\n",
       "  name    age\n",
       "  \u001b[3m\u001b[90m<chr>\u001b[39m\u001b[23m \u001b[3m\u001b[90m<dbl>\u001b[39m\u001b[23m\n",
       "\u001b[90m1\u001b[39m John     30\n",
       "\n",
       "$sex\n",
       "\u001b[90m# A tibble: 2 × 2\u001b[39m\n",
       "  name  sex  \n",
       "  \u001b[3m\u001b[90m<chr>\u001b[39m\u001b[23m \u001b[3m\u001b[90m<chr>\u001b[39m\u001b[23m\n",
       "\u001b[90m1\u001b[39m John  M    \n",
       "\u001b[90m2\u001b[39m Mary  F    \n",
       "\n",
       "$trt\n",
       "\u001b[90m# A tibble: 1 × 2\u001b[39m\n",
       "  name  treatment\n",
       "  \u001b[3m\u001b[90m<chr>\u001b[39m\u001b[23m \u001b[3m\u001b[90m<chr>\u001b[39m\u001b[23m    \n",
       "\u001b[90m1\u001b[39m Mary  A        \n"
      ]
     },
     "metadata": {},
     "output_type": "display_data"
    }
   ],
   "source": [
    "dfs"
   ]
  },
  {
   "cell_type": "code",
   "execution_count": 54,
   "id": "b07f7ab7-5f72-4840-96b7-3e8f5f256f5a",
   "metadata": {},
   "outputs": [
    {
     "name": "stderr",
     "output_type": "stream",
     "text": [
      "\u001b[1m\u001b[22mJoining, by = \"name\"\n",
      "\u001b[1m\u001b[22mJoining, by = \"name\"\n"
     ]
    },
    {
     "data": {
      "text/html": [
       "<table class=\"dataframe\">\n",
       "<caption>A tibble: 2 × 4</caption>\n",
       "<thead>\n",
       "\t<tr><th scope=col>name</th><th scope=col>age</th><th scope=col>sex</th><th scope=col>treatment</th></tr>\n",
       "\t<tr><th scope=col>&lt;chr&gt;</th><th scope=col>&lt;dbl&gt;</th><th scope=col>&lt;chr&gt;</th><th scope=col>&lt;chr&gt;</th></tr>\n",
       "</thead>\n",
       "<tbody>\n",
       "\t<tr><td>John</td><td>30</td><td>M</td><td>NA</td></tr>\n",
       "\t<tr><td>Mary</td><td>NA</td><td>F</td><td>A </td></tr>\n",
       "</tbody>\n",
       "</table>\n"
      ],
      "text/latex": [
       "A tibble: 2 × 4\n",
       "\\begin{tabular}{llll}\n",
       " name & age & sex & treatment\\\\\n",
       " <chr> & <dbl> & <chr> & <chr>\\\\\n",
       "\\hline\n",
       "\t John & 30 & M & NA\\\\\n",
       "\t Mary & NA & F & A \\\\\n",
       "\\end{tabular}\n"
      ],
      "text/markdown": [
       "\n",
       "A tibble: 2 × 4\n",
       "\n",
       "| name &lt;chr&gt; | age &lt;dbl&gt; | sex &lt;chr&gt; | treatment &lt;chr&gt; |\n",
       "|---|---|---|---|\n",
       "| John | 30 | M | NA |\n",
       "| Mary | NA | F | A  |\n",
       "\n"
      ],
      "text/plain": [
       "  name age sex treatment\n",
       "1 John 30  M   NA       \n",
       "2 Mary NA  F   A        "
      ]
     },
     "metadata": {},
     "output_type": "display_data"
    }
   ],
   "source": [
    "dfs %>% reduce(full_join)"
   ]
  },
  {
   "cell_type": "markdown",
   "id": "f766ecfd-8c49-41aa-bc35-e83e06e17d22",
   "metadata": {},
   "source": [
    "- 벡터의 리스트가 있을 때, 교집합을 구하는 방법"
   ]
  },
  {
   "cell_type": "code",
   "execution_count": 55,
   "id": "994b817d-0435-4947-a426-1a34723d0092",
   "metadata": {},
   "outputs": [
    {
     "data": {
      "text/html": [
       "<ol>\n",
       "\t<li><style>\n",
       ".list-inline {list-style: none; margin:0; padding: 0}\n",
       ".list-inline>li {display: inline-block}\n",
       ".list-inline>li:not(:last-child)::after {content: \"\\00b7\"; padding: 0 .5ex}\n",
       "</style>\n",
       "<ol class=list-inline><li>1</li><li>3</li><li>5</li><li>6</li><li>10</li></ol>\n",
       "</li>\n",
       "\t<li><style>\n",
       ".list-inline {list-style: none; margin:0; padding: 0}\n",
       ".list-inline>li {display: inline-block}\n",
       ".list-inline>li:not(:last-child)::after {content: \"\\00b7\"; padding: 0 .5ex}\n",
       "</style>\n",
       "<ol class=list-inline><li>1</li><li>2</li><li>3</li><li>7</li><li>8</li><li>10</li></ol>\n",
       "</li>\n",
       "\t<li><style>\n",
       ".list-inline {list-style: none; margin:0; padding: 0}\n",
       ".list-inline>li {display: inline-block}\n",
       ".list-inline>li:not(:last-child)::after {content: \"\\00b7\"; padding: 0 .5ex}\n",
       "</style>\n",
       "<ol class=list-inline><li>1</li><li>2</li><li>3</li><li>4</li><li>8</li><li>9</li><li>10</li></ol>\n",
       "</li>\n",
       "</ol>\n"
      ],
      "text/latex": [
       "\\begin{enumerate}\n",
       "\\item \\begin{enumerate*}\n",
       "\\item 1\n",
       "\\item 3\n",
       "\\item 5\n",
       "\\item 6\n",
       "\\item 10\n",
       "\\end{enumerate*}\n",
       "\n",
       "\\item \\begin{enumerate*}\n",
       "\\item 1\n",
       "\\item 2\n",
       "\\item 3\n",
       "\\item 7\n",
       "\\item 8\n",
       "\\item 10\n",
       "\\end{enumerate*}\n",
       "\n",
       "\\item \\begin{enumerate*}\n",
       "\\item 1\n",
       "\\item 2\n",
       "\\item 3\n",
       "\\item 4\n",
       "\\item 8\n",
       "\\item 9\n",
       "\\item 10\n",
       "\\end{enumerate*}\n",
       "\n",
       "\\end{enumerate}\n"
      ],
      "text/markdown": [
       "1. 1. 1\n",
       "2. 3\n",
       "3. 5\n",
       "4. 6\n",
       "5. 10\n",
       "\n",
       "\n",
       "\n",
       "2. 1. 1\n",
       "2. 2\n",
       "3. 3\n",
       "4. 7\n",
       "5. 8\n",
       "6. 10\n",
       "\n",
       "\n",
       "\n",
       "3. 1. 1\n",
       "2. 2\n",
       "3. 3\n",
       "4. 4\n",
       "5. 8\n",
       "6. 9\n",
       "7. 10\n",
       "\n",
       "\n",
       "\n",
       "\n",
       "\n"
      ],
      "text/plain": [
       "[[1]]\n",
       "[1]  1  3  5  6 10\n",
       "\n",
       "[[2]]\n",
       "[1]  1  2  3  7  8 10\n",
       "\n",
       "[[3]]\n",
       "[1]  1  2  3  4  8  9 10\n"
      ]
     },
     "metadata": {},
     "output_type": "display_data"
    }
   ],
   "source": [
    "vs <- list(\n",
    "    c(1, 3, 5, 6, 10),\n",
    "    c(1, 2, 3, 7, 8, 10),\n",
    "    c(1, 2, 3, 4, 8, 9, 10)\n",
    "    )\n",
    "vs"
   ]
  },
  {
   "cell_type": "code",
   "execution_count": 56,
   "id": "556bec34-4891-45d6-b975-0734b579613e",
   "metadata": {},
   "outputs": [
    {
     "data": {
      "text/html": [
       "<style>\n",
       ".list-inline {list-style: none; margin:0; padding: 0}\n",
       ".list-inline>li {display: inline-block}\n",
       ".list-inline>li:not(:last-child)::after {content: \"\\00b7\"; padding: 0 .5ex}\n",
       "</style>\n",
       "<ol class=list-inline><li>1</li><li>3</li><li>10</li></ol>\n"
      ],
      "text/latex": [
       "\\begin{enumerate*}\n",
       "\\item 1\n",
       "\\item 3\n",
       "\\item 10\n",
       "\\end{enumerate*}\n"
      ],
      "text/markdown": [
       "1. 1\n",
       "2. 3\n",
       "3. 10\n",
       "\n",
       "\n"
      ],
      "text/plain": [
       "[1]  1  3 10"
      ]
     },
     "metadata": {},
     "output_type": "display_data"
    }
   ],
   "source": [
    "vs %>% reduce(intersect)"
   ]
  }
 ],
 "metadata": {
  "kernelspec": {
   "display_name": "R",
   "language": "R",
   "name": "ir"
  },
  "language_info": {
   "codemirror_mode": "r",
   "file_extension": ".r",
   "mimetype": "text/x-r-source",
   "name": "R",
   "pygments_lexer": "r",
   "version": "4.1.3"
  }
 },
 "nbformat": 4,
 "nbformat_minor": 5
}
