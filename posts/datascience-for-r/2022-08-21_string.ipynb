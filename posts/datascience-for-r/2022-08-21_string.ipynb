{
 "cells": [
  {
   "cell_type": "raw",
   "id": "e3c2f493-182d-4f0a-8765-8b826e9215d3",
   "metadata": {},
   "source": [
    "---\n",
    "title: \"string\"\n",
    "format: \n",
    "  html:\n",
    "    code-fold: false\n",
    "    badges: true\n",
    "author: '조윤호'\n",
    "date: '8/21/2022'\n",
    "title-block-banner: true\n",
    "jupyter: R\n",
    "categories: [R]\n",
    "---"
   ]
  },
  {
   "cell_type": "markdown",
   "id": "568a460a-243e-4b71-afa2-a1f4f1041c08",
   "metadata": {},
   "source": [
    "# string\n",
    "\n",
    "string_length, str_c, sep ..., 문자열 서브셋(추출), 매칭(검색 및 설정)"
   ]
  },
  {
   "cell_type": "code",
   "execution_count": 16,
   "id": "fda76cf1-7d6c-4f89-97f9-7505630e4498",
   "metadata": {},
   "outputs": [],
   "source": [
    "library('tidyverse')"
   ]
  },
  {
   "cell_type": "markdown",
   "id": "11de4beb-f6df-4a6b-8cec-8b1c0e904eca",
   "metadata": {},
   "source": [
    "## string 다루기"
   ]
  },
  {
   "cell_type": "markdown",
   "id": "a02c558b-d9b4-405a-9927-98efc78255f4",
   "metadata": {},
   "source": [
    "`str_length` : 문자열의 문자 개수 알려준다.<br>\n",
    "공백도 개수로 침"
   ]
  },
  {
   "cell_type": "code",
   "execution_count": 3,
   "id": "79fdad18-34a2-445c-80ed-de149c0bbdda",
   "metadata": {},
   "outputs": [
    {
     "data": {
      "text/html": [
       "<style>\n",
       ".list-inline {list-style: none; margin:0; padding: 0}\n",
       ".list-inline>li {display: inline-block}\n",
       ".list-inline>li:not(:last-child)::after {content: \"\\00b7\"; padding: 0 .5ex}\n",
       "</style>\n",
       "<ol class=list-inline><li>1</li><li>18</li><li>&lt;NA&gt;</li></ol>\n"
      ],
      "text/latex": [
       "\\begin{enumerate*}\n",
       "\\item 1\n",
       "\\item 18\n",
       "\\item <NA>\n",
       "\\end{enumerate*}\n"
      ],
      "text/markdown": [
       "1. 1\n",
       "2. 18\n",
       "3. &lt;NA&gt;\n",
       "\n",
       "\n"
      ],
      "text/plain": [
       "[1]  1 18 NA"
      ]
     },
     "metadata": {},
     "output_type": "display_data"
    }
   ],
   "source": [
    "str_length(c(\"a\", \"R for data science\", NA))"
   ]
  },
  {
   "cell_type": "markdown",
   "id": "edb6c0f2-8f32-40f2-bfab-8b90f4806c97",
   "metadata": {},
   "source": [
    "`str_c` : 둘 이상의 문자열 결합할 때 사용"
   ]
  },
  {
   "cell_type": "code",
   "execution_count": 4,
   "id": "f536ecdc-7ed0-4391-b8ec-94b7509cbea5",
   "metadata": {},
   "outputs": [
    {
     "data": {
      "text/html": [
       "'xy'"
      ],
      "text/latex": [
       "'xy'"
      ],
      "text/markdown": [
       "'xy'"
      ],
      "text/plain": [
       "[1] \"xy\""
      ]
     },
     "metadata": {},
     "output_type": "display_data"
    }
   ],
   "source": [
    "str_c(\"x\", \"y\")"
   ]
  },
  {
   "cell_type": "markdown",
   "id": "a43c0f15-8c7a-47cd-8b8b-25b6980ca135",
   "metadata": {},
   "source": [
    "`sep` : 구분 방식 조정하는 옵션"
   ]
  },
  {
   "cell_type": "code",
   "execution_count": 5,
   "id": "9d7a796f-cce1-4dac-9f2f-d65f0400ca3e",
   "metadata": {},
   "outputs": [
    {
     "data": {
      "text/html": [
       "'x, y'"
      ],
      "text/latex": [
       "'x, y'"
      ],
      "text/markdown": [
       "'x, y'"
      ],
      "text/plain": [
       "[1] \"x, y\""
      ]
     },
     "metadata": {},
     "output_type": "display_data"
    }
   ],
   "source": [
    "str_c(\"x\", \"y\", sep = \", \")"
   ]
  },
  {
   "cell_type": "code",
   "execution_count": 6,
   "id": "5a0b12ba-79e9-44c3-8dcb-43d1c343d230",
   "metadata": {},
   "outputs": [
    {
     "data": {
      "text/html": [
       "<style>\n",
       ".list-inline {list-style: none; margin:0; padding: 0}\n",
       ".list-inline>li {display: inline-block}\n",
       ".list-inline>li:not(:last-child)::after {content: \"\\00b7\"; padding: 0 .5ex}\n",
       "</style>\n",
       "<ol class=list-inline><li>'|-abc-|'</li><li>NA</li></ol>\n"
      ],
      "text/latex": [
       "\\begin{enumerate*}\n",
       "\\item '\\textbar{}-abc-\\textbar{}'\n",
       "\\item NA\n",
       "\\end{enumerate*}\n"
      ],
      "text/markdown": [
       "1. '|-abc-|'\n",
       "2. NA\n",
       "\n",
       "\n"
      ],
      "text/plain": [
       "[1] \"|-abc-|\" NA       "
      ]
     },
     "metadata": {},
     "output_type": "display_data"
    }
   ],
   "source": [
    "x <- c(\"abc\", NA)\n",
    "str_c(\"|-\", x, \"-|\")"
   ]
  },
  {
   "cell_type": "markdown",
   "id": "870aad26-0461-42d7-8f23-1a1a7fba556c",
   "metadata": {},
   "source": [
    "`str_replace_na` : 결측값을 NA로 출력하게 하기"
   ]
  },
  {
   "cell_type": "code",
   "execution_count": 7,
   "id": "67651326-4497-4a5e-be8d-bae14c346744",
   "metadata": {},
   "outputs": [
    {
     "data": {
      "text/html": [
       "<style>\n",
       ".list-inline {list-style: none; margin:0; padding: 0}\n",
       ".list-inline>li {display: inline-block}\n",
       ".list-inline>li:not(:last-child)::after {content: \"\\00b7\"; padding: 0 .5ex}\n",
       "</style>\n",
       "<ol class=list-inline><li>'|-abc-|'</li><li>'|-NA-|'</li></ol>\n"
      ],
      "text/latex": [
       "\\begin{enumerate*}\n",
       "\\item '\\textbar{}-abc-\\textbar{}'\n",
       "\\item '\\textbar{}-NA-\\textbar{}'\n",
       "\\end{enumerate*}\n"
      ],
      "text/markdown": [
       "1. '|-abc-|'\n",
       "2. '|-NA-|'\n",
       "\n",
       "\n"
      ],
      "text/plain": [
       "[1] \"|-abc-|\" \"|-NA-|\" "
      ]
     },
     "metadata": {},
     "output_type": "display_data"
    }
   ],
   "source": [
    "str_c(\"|-\", str_replace_na(x), \"-|\")"
   ]
  },
  {
   "cell_type": "markdown",
   "id": "c8f5b94f-b750-4a7f-9819-421a88573708",
   "metadata": {},
   "source": [
    "- `str_c`는 벡터화되고 짧은 벡터가 긴 벡터와 길이가 같도록 자동으로 재사용한다."
   ]
  },
  {
   "cell_type": "code",
   "execution_count": 8,
   "id": "7b3821df-8be3-4021-a1fd-4f44b7bb55f3",
   "metadata": {},
   "outputs": [
    {
     "data": {
      "text/html": [
       "<style>\n",
       ".list-inline {list-style: none; margin:0; padding: 0}\n",
       ".list-inline>li {display: inline-block}\n",
       ".list-inline>li:not(:last-child)::after {content: \"\\00b7\"; padding: 0 .5ex}\n",
       "</style>\n",
       "<ol class=list-inline><li>'prefix-a-suffix'</li><li>'prefix-b-suffix'</li><li>'prefix-c-suffix'</li></ol>\n"
      ],
      "text/latex": [
       "\\begin{enumerate*}\n",
       "\\item 'prefix-a-suffix'\n",
       "\\item 'prefix-b-suffix'\n",
       "\\item 'prefix-c-suffix'\n",
       "\\end{enumerate*}\n"
      ],
      "text/markdown": [
       "1. 'prefix-a-suffix'\n",
       "2. 'prefix-b-suffix'\n",
       "3. 'prefix-c-suffix'\n",
       "\n",
       "\n"
      ],
      "text/plain": [
       "[1] \"prefix-a-suffix\" \"prefix-b-suffix\" \"prefix-c-suffix\""
      ]
     },
     "metadata": {},
     "output_type": "display_data"
    }
   ],
   "source": [
    "str_c(\"prefix-\", c(\"a\", \"b\", \"c\"), \"-suffix\")"
   ]
  },
  {
   "cell_type": "markdown",
   "id": "f692720e-4de1-4f78-96ab-a1d1785e6a2a",
   "metadata": {},
   "source": [
    "`collapse` : 문자열 벡터를 하나의 문자열로 합쳐준다."
   ]
  },
  {
   "cell_type": "code",
   "execution_count": 9,
   "id": "fcca73be-33da-470a-986d-9ec75e2c5a91",
   "metadata": {},
   "outputs": [
    {
     "data": {
      "text/html": [
       "'x, y, z'"
      ],
      "text/latex": [
       "'x, y, z'"
      ],
      "text/markdown": [
       "'x, y, z'"
      ],
      "text/plain": [
       "[1] \"x, y, z\""
      ]
     },
     "metadata": {},
     "output_type": "display_data"
    }
   ],
   "source": [
    "str_c(c(\"x\", \"y\", \"z\"), collapse = \", \")"
   ]
  },
  {
   "cell_type": "markdown",
   "id": "a7579ce4-6dac-48a3-a416-44302043a709",
   "metadata": {},
   "source": [
    "## 문자열 서브셋"
   ]
  },
  {
   "cell_type": "markdown",
   "id": "9e07a2cc-052a-410f-a846-26d7615bb773",
   "metadata": {},
   "source": [
    "`str_sub` : 문자열을 추출한다<br>\n",
    "옵션 : 앞에서부터 추출할 문자, 추출 시작 위치, 추출 끝 위치<br>\n",
    "`-`붙이면 뒤에서부터 추출"
   ]
  },
  {
   "cell_type": "code",
   "execution_count": 10,
   "id": "d3382ca1-7eaf-4eae-855a-6192b9dc78ce",
   "metadata": {},
   "outputs": [
    {
     "data": {
      "text/html": [
       "<style>\n",
       ".list-inline {list-style: none; margin:0; padding: 0}\n",
       ".list-inline>li {display: inline-block}\n",
       ".list-inline>li:not(:last-child)::after {content: \"\\00b7\"; padding: 0 .5ex}\n",
       "</style>\n",
       "<ol class=list-inline><li>'pp'</li><li>'an'</li><li>'ea'</li></ol>\n"
      ],
      "text/latex": [
       "\\begin{enumerate*}\n",
       "\\item 'pp'\n",
       "\\item 'an'\n",
       "\\item 'ea'\n",
       "\\end{enumerate*}\n"
      ],
      "text/markdown": [
       "1. 'pp'\n",
       "2. 'an'\n",
       "3. 'ea'\n",
       "\n",
       "\n"
      ],
      "text/plain": [
       "[1] \"pp\" \"an\" \"ea\""
      ]
     },
     "metadata": {},
     "output_type": "display_data"
    }
   ],
   "source": [
    "x <- c(\"Apple\", \"Banana\", \"Pear\")\n",
    "str_sub(x, 2, 3)"
   ]
  },
  {
   "cell_type": "code",
   "execution_count": 11,
   "id": "b5983659-677f-4fdf-a3ca-55de670fe3d3",
   "metadata": {},
   "outputs": [
    {
     "data": {
      "text/html": [
       "<style>\n",
       ".list-inline {list-style: none; margin:0; padding: 0}\n",
       ".list-inline>li {display: inline-block}\n",
       ".list-inline>li:not(:last-child)::after {content: \"\\00b7\"; padding: 0 .5ex}\n",
       "</style>\n",
       "<ol class=list-inline><li>'pl'</li><li>'an'</li><li>'ea'</li></ol>\n"
      ],
      "text/latex": [
       "\\begin{enumerate*}\n",
       "\\item 'pl'\n",
       "\\item 'an'\n",
       "\\item 'ea'\n",
       "\\end{enumerate*}\n"
      ],
      "text/markdown": [
       "1. 'pl'\n",
       "2. 'an'\n",
       "3. 'ea'\n",
       "\n",
       "\n"
      ],
      "text/plain": [
       "[1] \"pl\" \"an\" \"ea\""
      ]
     },
     "metadata": {},
     "output_type": "display_data"
    }
   ],
   "source": [
    "str_sub(x, -3, -2)"
   ]
  },
  {
   "cell_type": "markdown",
   "id": "42830f39-3736-4b7d-af94-98020260ef39",
   "metadata": {},
   "source": [
    "`-` 너무 짧아도 오류 안뜨고 가능한 만큼 처리해줌"
   ]
  },
  {
   "cell_type": "code",
   "execution_count": 12,
   "id": "3cc9c899-0ec6-42ca-bf0a-658953b6699d",
   "metadata": {},
   "outputs": [
    {
     "data": {
      "text/html": [
       "'a'"
      ],
      "text/latex": [
       "'a'"
      ],
      "text/markdown": [
       "'a'"
      ],
      "text/plain": [
       "[1] \"a\""
      ]
     },
     "metadata": {},
     "output_type": "display_data"
    }
   ],
   "source": [
    "str_sub(\"a\", 1, 5)"
   ]
  },
  {
   "cell_type": "markdown",
   "id": "e6ee65e7-8475-4c28-b420-7e6f6301e686",
   "metadata": {},
   "source": [
    "`str_to_uppper` : 대문자로 변경"
   ]
  },
  {
   "cell_type": "code",
   "execution_count": 13,
   "id": "e9b14900-36ea-4807-b37e-bdd1616e590f",
   "metadata": {},
   "outputs": [
    {
     "data": {
      "text/html": [
       "<style>\n",
       ".list-inline {list-style: none; margin:0; padding: 0}\n",
       ".list-inline>li {display: inline-block}\n",
       ".list-inline>li:not(:last-child)::after {content: \"\\00b7\"; padding: 0 .5ex}\n",
       "</style>\n",
       "<ol class=list-inline><li>'I'</li><li>'I'</li></ol>\n"
      ],
      "text/latex": [
       "\\begin{enumerate*}\n",
       "\\item 'I'\n",
       "\\item 'I'\n",
       "\\end{enumerate*}\n"
      ],
      "text/markdown": [
       "1. 'I'\n",
       "2. 'I'\n",
       "\n",
       "\n"
      ],
      "text/plain": [
       "[1] \"I\" \"I\""
      ]
     },
     "metadata": {},
     "output_type": "display_data"
    }
   ],
   "source": [
    "str_to_upper(c(\"i\", \"I\"))"
   ]
  },
  {
   "cell_type": "markdown",
   "id": "405a82a7-ad86-49ae-a1d6-094d7063a545",
   "metadata": {},
   "source": [
    "## 매칭(=검색 및 설정)"
   ]
  },
  {
   "cell_type": "code",
   "execution_count": 14,
   "id": "c6ef00d9-f4bc-443d-94ff-af90d974e4e3",
   "metadata": {},
   "outputs": [],
   "source": [
    "x <- c(\"apple\", \"banana\", \"pear\")"
   ]
  },
  {
   "cell_type": "code",
   "execution_count": 20,
   "id": "a53c578e-d59b-4daa-b3b2-11e7fb3813e5",
   "metadata": {},
   "outputs": [
    {
     "ename": "ERROR",
     "evalue": "Error: htmlwidgets package required for str_view(). \nPlease install.packages(\"htmlwidgets\") to use this functionality.\n",
     "output_type": "error",
     "traceback": [
      "Error: htmlwidgets package required for str_view(). \nPlease install.packages(\"htmlwidgets\") to use this functionality.\nTraceback:\n",
      "1. str_view(x, \"an\")",
      "2. str_view_widget(string)",
      "3. stop(\"htmlwidgets package required for str_view(). \\nPlease install.packages(\\\"htmlwidgets\\\") to use this functionality.\", \n .     call. = FALSE)"
     ]
    }
   ],
   "source": [
    "str_view(x, \"an\")"
   ]
  },
  {
   "cell_type": "markdown",
   "id": "24c748f3-9650-4836-b63c-c4437a9af4a2",
   "metadata": {},
   "source": [
    "- 임의의 문자와 매칭하는 `.` "
   ]
  },
  {
   "cell_type": "code",
   "execution_count": 21,
   "id": "dc387255-c2d3-413e-b23b-f9900927207e",
   "metadata": {},
   "outputs": [
    {
     "ename": "ERROR",
     "evalue": "Error: htmlwidgets package required for str_view(). \nPlease install.packages(\"htmlwidgets\") to use this functionality.\n",
     "output_type": "error",
     "traceback": [
      "Error: htmlwidgets package required for str_view(). \nPlease install.packages(\"htmlwidgets\") to use this functionality.\nTraceback:\n",
      "1. str_view(x, \".a.\")",
      "2. str_view_widget(string)",
      "3. stop(\"htmlwidgets package required for str_view(). \\nPlease install.packages(\\\"htmlwidgets\\\") to use this functionality.\", \n .     call. = FALSE)"
     ]
    }
   ],
   "source": [
    "str_view(x, \".a.\")"
   ]
  },
  {
   "cell_type": "markdown",
   "id": "a3bd6797-3acf-464f-a628-f76a33542df1",
   "metadata": {},
   "source": [
    " 만약, `.`자체를 찾고 싶은거면<br>\n",
    "`.`대신 `\\\\.`으로 입력 "
   ]
  },
  {
   "cell_type": "markdown",
   "id": "b66cf338-d424-4656-ba14-193ae77e152f",
   "metadata": {},
   "source": [
    "또, 만약에 `\\`자체를 찾고자하면<br>\n",
    "`\\\\\\\\`로 입력(4개)"
   ]
  },
  {
   "cell_type": "markdown",
   "id": "bb91396c-6793-469e-848b-03c18fa47a28",
   "metadata": {},
   "source": [
    "`^` : 문자열의 시작부분 매칭<br>\n",
    "`$` : 문자열의 끝부분 매칭"
   ]
  },
  {
   "cell_type": "code",
   "execution_count": null,
   "id": "a9770578-e90e-4253-b187-bd59a7f7c58f",
   "metadata": {},
   "outputs": [],
   "source": [
    "x <- c(\"apple\", \"banana\", \"pear\")\n",
    "str_view(x, \"^a\")"
   ]
  },
  {
   "cell_type": "code",
   "execution_count": null,
   "id": "837a0bf7-b4e8-45da-b32e-f51070cd8e12",
   "metadata": {},
   "outputs": [],
   "source": [
    "str_view(x, \"a$\")"
   ]
  },
  {
   "cell_type": "markdown",
   "id": "0000263e-c1b6-4bc4-864e-0a33aac6dac6",
   "metadata": {},
   "source": [
    "딱 저 문자 자체만 찾고자 한다면<br>\n",
    "`^문자$`사용"
   ]
  },
  {
   "cell_type": "code",
   "execution_count": null,
   "id": "c7e0ed57-868f-4389-b391-5d968387bb1a",
   "metadata": {},
   "outputs": [],
   "source": [
    "x <- c(\"apple pie\", \"apple\", \"apple cake\")\n",
    "str_view(x, \"apple\")"
   ]
  },
  {
   "cell_type": "code",
   "execution_count": null,
   "id": "7b716b9e-bf9b-4fe5-8120-7df56c8d552b",
   "metadata": {},
   "outputs": [],
   "source": [
    "str_view(x, \"^apple$\")"
   ]
  },
  {
   "cell_type": "markdown",
   "id": "084b351e-f07e-49f3-8536-ead33c101ba1",
   "metadata": {},
   "source": [
    "> 문자열 매칭 옵션(예를 들어 a나 b까지 허용)<br>\n",
    "`\\d` : 임의의 숫자와 매치<br>\n",
    "`\\s` : 임의의 여백 문자(공백, 탭, 줄바꿈)와 매치<br>\n",
    "`[abc]` : a,b 또는 c와 매치<br>\n",
    "`[^abc]` : a,b 또는 c를 제외한 임의의 문자와 매치<br>\n",
    "`|` : a or b(둘 다 인정)<br>\n",
    "명확성을 위해 괄호() 사용 가능하다."
   ]
  },
  {
   "cell_type": "code",
   "execution_count": null,
   "id": "9d655703-27e8-42ca-978e-6413c7218c31",
   "metadata": {},
   "outputs": [],
   "source": [
    "str_view(c(\"grey\", \"gray\"), \"gr(e|a)y\")"
   ]
  },
  {
   "cell_type": "markdown",
   "id": "ca9747e7-2f44-41e6-9ce9-3e3be979e955",
   "metadata": {},
   "source": [
    "### 반복"
   ]
  },
  {
   "cell_type": "markdown",
   "id": "7f818790-d70c-41ca-bd5f-33bde69da5ff",
   "metadata": {},
   "source": [
    "- 다음은 패턴이 몇 회 이상 매칭하는지 조정하는 것이다."
   ]
  },
  {
   "cell_type": "markdown",
   "id": "ad5fd330-e0cc-48da-869a-899b0d009507",
   "metadata": {},
   "source": [
    "> `?` : 0 or 1회<br>\n",
    "`+` : 1회 이상<br>\n",
    "`*` : 0회 이상"
   ]
  },
  {
   "cell_type": "code",
   "execution_count": null,
   "id": "3286588e-9121-434a-8442-a1380490c9d0",
   "metadata": {},
   "outputs": [],
   "source": [
    "x <- \"1888 is the longest year in Roman numerals: MNCCCLXXXVIII\""
   ]
  },
  {
   "cell_type": "code",
   "execution_count": null,
   "id": "a1a1f702-cb3a-4526-b68f-2c3ae13d4169",
   "metadata": {},
   "outputs": [],
   "source": [
    "str_view(x, \"CC?\")"
   ]
  },
  {
   "cell_type": "code",
   "execution_count": null,
   "id": "62ec88e0-b870-49c7-9c24-597fb4ec0ff3",
   "metadata": {},
   "outputs": [],
   "source": [
    "str_view(x, \"CC+\")"
   ]
  },
  {
   "cell_type": "code",
   "execution_count": null,
   "id": "1faa792b-495f-4461-88af-384e307baf83",
   "metadata": {},
   "outputs": [],
   "source": [
    "str_view(x, 'c[LX]+')"
   ]
  },
  {
   "cell_type": "markdown",
   "id": "d64dbfc6-468e-4e2b-adac-b731cd198edf",
   "metadata": {},
   "source": [
    "> `{n}` : 정확히 n회<br>\n",
    "`{n,}` : n회 이상<br>\n",
    "`{,m}` : 최대 m회<br>\n",
    "`{n,m}` : n과 m회 사이"
   ]
  },
  {
   "cell_type": "code",
   "execution_count": null,
   "id": "ab0e05f6-f7bb-44db-97d0-02457e3f9414",
   "metadata": {},
   "outputs": [],
   "source": [
    "str_view(x, \"C{2}\")"
   ]
  },
  {
   "cell_type": "code",
   "execution_count": null,
   "id": "ec6e6eb2-fa68-461f-8101-d9983b69fdba",
   "metadata": {},
   "outputs": [],
   "source": [
    "str_view(x, \"C{2,}\")"
   ]
  },
  {
   "cell_type": "code",
   "execution_count": null,
   "id": "1f3b3fe9-5ec9-4c63-81e4-a0692524a8e9",
   "metadata": {},
   "outputs": [],
   "source": [
    "str_view(x, \"C{2,3}\")"
   ]
  },
  {
   "cell_type": "markdown",
   "id": "3e3cd42f-4f2c-4dd9-b0b6-caa04ab2acdd",
   "metadata": {},
   "source": [
    "- 뒤에 `?`넣으면 가능한 조합 중 가장 짧은 문자열과 매칭"
   ]
  },
  {
   "cell_type": "code",
   "execution_count": null,
   "id": "945b99e0-aabf-43e2-9599-481b1fbfa634",
   "metadata": {},
   "outputs": [],
   "source": [
    "str_view(x, 'C{2,3}?')"
   ]
  },
  {
   "cell_type": "code",
   "execution_count": null,
   "id": "56fa5e31-72d4-435f-b408-250fff59a39c",
   "metadata": {},
   "outputs": [],
   "source": [
    "str_view(x, 'C[LX]+?')"
   ]
  },
  {
   "cell_type": "code",
   "execution_count": null,
   "id": "be5d3c2c-7b51-4f7b-8f92-bf38c2263589",
   "metadata": {},
   "outputs": [],
   "source": [
    "str_view(fruit, \"(..)\\\\1\", match = TRUE)"
   ]
  },
  {
   "cell_type": "markdown",
   "id": "24df9617-f3a2-46fa-bdb8-55fd93a76a56",
   "metadata": {},
   "source": [
    "### 탐지"
   ]
  },
  {
   "cell_type": "markdown",
   "id": "dd66ee9d-d261-4e98-bdf2-148223534edb",
   "metadata": {},
   "source": [
    "`str_detect` : 문자열 벡터 탐지"
   ]
  },
  {
   "cell_type": "code",
   "execution_count": null,
   "id": "6fc123d4-3f44-406a-a1b6-a89835d86ebf",
   "metadata": {},
   "outputs": [],
   "source": [
    "x <- c(\"apple\", \"banana\", \"pear\")\n",
    "str_detect(x, \"e\")"
   ]
  },
  {
   "cell_type": "markdown",
   "id": "96576653-227e-46f4-824b-a1df5a51d9a9",
   "metadata": {},
   "source": [
    "`-` t로 시작하는 단어의 개수?"
   ]
  },
  {
   "cell_type": "code",
   "execution_count": null,
   "id": "b284ba5e-c60a-4373-8de7-75fcdbd09d73",
   "metadata": {},
   "outputs": [],
   "source": [
    "sum(str_detect(words, \"^t\"))"
   ]
  },
  {
   "cell_type": "markdown",
   "id": "b06c8e4c-d337-468b-98fb-4c0c60b10c31",
   "metadata": {},
   "source": [
    "`-` 모음으로 끝나는 단어의 비율?"
   ]
  },
  {
   "cell_type": "code",
   "execution_count": null,
   "id": "6887b2b4-6cb6-4c72-9b6e-a647f8bb3af6",
   "metadata": {},
   "outputs": [],
   "source": [
    "mean(str_detect(words, \"[aeiou]$\"))"
   ]
  },
  {
   "cell_type": "markdown",
   "id": "396620b8-4df0-4374-a3be-5d5aa062ef4b",
   "metadata": {},
   "source": [
    "- 복잡한 구조에서는 역을 조건으로 설정하고 그 반대를 구하는 게 쉬울수도 있음"
   ]
  },
  {
   "cell_type": "markdown",
   "id": "1fca426c-5036-456f-98bd-1b95abbdaddb",
   "metadata": {},
   "source": [
    "`-` 모음이 최소 하나가 있는 단어 모두를 찾은 뒤, 그 역을 취함"
   ]
  },
  {
   "cell_type": "code",
   "execution_count": null,
   "id": "e21aca45-ce42-419a-8bd4-5c626f5f8de1",
   "metadata": {},
   "outputs": [],
   "source": [
    "no_vowels_1 <- !str_detect(words, \"[aeiou]\")"
   ]
  },
  {
   "cell_type": "markdown",
   "id": "a8cd1576-5df5-4cd1-82a1-af36fc624ae0",
   "metadata": {},
   "source": [
    "`-` 자음으로만 이루어진 단어를 모두 찾음"
   ]
  },
  {
   "cell_type": "code",
   "execution_count": null,
   "id": "cc0fe96a-8455-403e-9f8b-0cd3cb21e91d",
   "metadata": {},
   "outputs": [],
   "source": [
    "no_vowels_2 <- str_detect(words, \"^[^aeiou]+$\")"
   ]
  },
  {
   "cell_type": "markdown",
   "id": "be0dfcad-5f76-43e3-973d-0ab499264fbf",
   "metadata": {},
   "source": [
    "`identical` : 두 개가 정확히 같은지 알려줌"
   ]
  },
  {
   "cell_type": "code",
   "execution_count": null,
   "id": "930a83b6-85c1-4018-93bc-ca0b44a08ec3",
   "metadata": {},
   "outputs": [],
   "source": [
    "identical(no_vowels_1, no_vowels_2)"
   ]
  },
  {
   "cell_type": "markdown",
   "id": "d9c57a1c-9411-4cf6-9d91-0fbffac41351",
   "metadata": {},
   "source": [
    "- 결과적으로 같지만 첫 번째 방법이 훨씬 쉽기에 저러한 방식을 사용"
   ]
  },
  {
   "cell_type": "markdown",
   "id": "c6ea52d4-914d-43d5-982a-226abdeaf0d6",
   "metadata": {},
   "source": [
    "`-` `str_detect`결과가 TRUE, FALSE로 나오기에 추출을 위해 이런식으로 사용"
   ]
  },
  {
   "cell_type": "code",
   "execution_count": null,
   "id": "07bc873e-6e85-4739-a614-a102250c9276",
   "metadata": {},
   "outputs": [],
   "source": [
    "words[str_detect(words, \"x$\")]"
   ]
  },
  {
   "cell_type": "markdown",
   "id": "2b24a22f-9c7f-4d3b-9c3d-2ece10764f2d",
   "metadata": {},
   "source": [
    "`str_subset` : 해당하는 내용 추출"
   ]
  },
  {
   "cell_type": "code",
   "execution_count": null,
   "id": "fa267115-bd07-4ea1-9ff3-dd387f64768f",
   "metadata": {},
   "outputs": [],
   "source": [
    "str_subset(words, \"x$\")"
   ]
  },
  {
   "cell_type": "markdown",
   "id": "b5212c5e-dc34-4cb5-b3f0-f87a741142a2",
   "metadata": {},
   "source": [
    "> `seq` : 시퀀스를 만들어주는 함수(번호 붙여줌 1,2,3 .... 이런식)<br>\n",
    "`seq_along` : 시작을 1로 만들어주는데 사실상 비슷함"
   ]
  },
  {
   "cell_type": "markdown",
   "id": "9a464a4f-2677-4995-a349-0fa2791bd1f3",
   "metadata": {},
   "source": [
    "- 하지만, 일반적으로 작업하는 것은 `data.frame`이기에 보통 `filter`를 사용함"
   ]
  },
  {
   "cell_type": "code",
   "execution_count": null,
   "id": "9f278961-510c-4a83-8a3a-253bff2afcd2",
   "metadata": {},
   "outputs": [],
   "source": [
    "df <- tibble(\n",
    "    word = words,\n",
    "    i = seq_along(word)\n",
    "    )\n",
    "df %>%\n",
    "filter(str_detect(words, \"x$\"))"
   ]
  },
  {
   "cell_type": "markdown",
   "id": "ae0d60a3-5ece-4f5e-af46-192a1130b5ff",
   "metadata": {},
   "source": [
    "`str_count` : 하나의 문자열에 몇 번 매칭되는지 수를 알려준다."
   ]
  },
  {
   "cell_type": "code",
   "execution_count": null,
   "id": "a0f44215-d906-45e4-ab50-8dbd31ab0f8b",
   "metadata": {},
   "outputs": [],
   "source": [
    "x <- c(\"apple\", \"banana\", \"pear\")\n",
    "str_count(x, \"a\")"
   ]
  },
  {
   "cell_type": "markdown",
   "id": "2ea08620-530e-4e18-a533-bc7419077ccd",
   "metadata": {},
   "source": [
    "`-` 단어당 모음 평균 개수?"
   ]
  },
  {
   "cell_type": "code",
   "execution_count": null,
   "id": "24868f58-5733-4f48-b7c5-0a9930b0b9aa",
   "metadata": {},
   "outputs": [],
   "source": [
    "mean(str_count(words, \"[aeiou]\"))"
   ]
  },
  {
   "cell_type": "code",
   "execution_count": null,
   "id": "2ee030e2-572c-492f-9a30-98ddf532a2fb",
   "metadata": {},
   "outputs": [],
   "source": [
    "df %>%\n",
    "mutate(\n",
    "    vowels = str_count(word, \"[aeoiu]\"),\n",
    "    consonants = str_count(word, \"[^aeoiu]\")\n",
    "    ) %>% head"
   ]
  },
  {
   "cell_type": "markdown",
   "id": "054ae979-0483-4240-adee-12ba3c51ea98",
   "metadata": {},
   "source": [
    "참고로 consonant뜻은 자음이다"
   ]
  },
  {
   "cell_type": "code",
   "execution_count": null,
   "id": "6713d616-b452-4fe5-83f0-ea9edb334bbb",
   "metadata": {},
   "outputs": [],
   "source": [
    "str_count(\"abababa\", \"aba\")"
   ]
  },
  {
   "cell_type": "markdown",
   "id": "dcc2bf72-b4c4-4f3e-b5c3-349fa71a96e7",
   "metadata": {},
   "source": [
    "`_all` : 모든 매칭에 동작하는 접미사 함수"
   ]
  },
  {
   "cell_type": "code",
   "execution_count": null,
   "id": "a5116f50-a8af-4c7e-8b0b-64b56f69acfa",
   "metadata": {},
   "outputs": [],
   "source": [
    "str_view_all(\"abababa\", \"aba\")"
   ]
  },
  {
   "cell_type": "code",
   "execution_count": null,
   "id": "1d4a0a11-e21c-4b8e-bd93-9246fdbf5193",
   "metadata": {},
   "outputs": [],
   "source": [
    "length(sentences) # sentences는 패키지안에 있는 자료임"
   ]
  },
  {
   "cell_type": "code",
   "execution_count": null,
   "id": "7e56cada-0be1-4bb9-ab99-b45789713668",
   "metadata": {},
   "outputs": [],
   "source": [
    "sentences %>% head"
   ]
  },
  {
   "cell_type": "markdown",
   "id": "f72667c9-4bf1-4e04-b8fa-e0c632bc2e75",
   "metadata": {},
   "source": [
    "`-` 색상을 포함하는 문장을 선택하고 싶다.<br>\n",
    "그리고 매칭된 색상이 무엇인지도 알고 싶다"
   ]
  },
  {
   "cell_type": "code",
   "execution_count": null,
   "id": "f871e611-ec28-4831-b5dc-fa7bb7b47ab9",
   "metadata": {},
   "outputs": [],
   "source": [
    "color <- c(\"red\", \"orange\", \"yellow\", \"green\", \"blue\", \"purple\")\n",
    "color_match <- str_c(color, collapse = \"|\")\n",
    "color_match"
   ]
  },
  {
   "cell_type": "code",
   "execution_count": null,
   "id": "d2e3b29b-f147-48f2-9daa-0271449c6528",
   "metadata": {},
   "outputs": [],
   "source": [
    "has_color <- str_subset(sentences, color_match)\n",
    "has_color %>% head"
   ]
  },
  {
   "cell_type": "code",
   "execution_count": null,
   "id": "74b88bba-cfeb-4306-8d6e-3e2ed6efa15b",
   "metadata": {},
   "outputs": [],
   "source": [
    "matches <- str_extract(has_color, color_match)\n",
    "matches %>% head"
   ]
  },
  {
   "cell_type": "markdown",
   "id": "884b3f93-69cd-40ff-8716-aa71820c708c",
   "metadata": {},
   "source": [
    "`-` 색상이 여러번 나온 문장만 추출"
   ]
  },
  {
   "cell_type": "code",
   "execution_count": null,
   "id": "63a4147b-4112-4908-9b43-4093d0f6bac5",
   "metadata": {},
   "outputs": [],
   "source": [
    "more <- sentences[str_count(sentences, color_match) > 1]\n",
    "str_view_all(more, color_match)"
   ]
  },
  {
   "cell_type": "markdown",
   "id": "ecde5c08-f245-4a53-a4e3-a82c872c0eeb",
   "metadata": {},
   "source": [
    "`-` 해당 문장에서 색상 추출(여러 개인 경우 앞에 것만)"
   ]
  },
  {
   "cell_type": "code",
   "execution_count": null,
   "id": "2a086c20-8f5f-434e-9d46-15355baded2e",
   "metadata": {},
   "outputs": [],
   "source": [
    "str_extract(more, color_match)"
   ]
  },
  {
   "cell_type": "markdown",
   "id": "dff31abe-3ce4-4abf-952b-c6c26807248a",
   "metadata": {},
   "source": [
    "`-` 모두 나열(`simplify = FALSE`하면 덜 예쁘게 나옴)"
   ]
  },
  {
   "cell_type": "code",
   "execution_count": null,
   "id": "1fdf5334-2d6d-4284-ab3e-f1bb7635c7ff",
   "metadata": {},
   "outputs": [],
   "source": [
    "str_extract_all(more, color_match, simplify = TRUE)"
   ]
  },
  {
   "cell_type": "code",
   "execution_count": null,
   "id": "3d7353dc-062e-47a7-910d-5aaad4dd9775",
   "metadata": {},
   "outputs": [],
   "source": [
    "x <- c(\"a\", \"a b\", \"a b c\")"
   ]
  },
  {
   "cell_type": "code",
   "execution_count": null,
   "id": "b9ff011e-8785-43a9-8f31-eb2e3822ccc0",
   "metadata": {},
   "outputs": [],
   "source": [
    "str_extract_all(x, \"[a-z]\", simplify = FALSE)"
   ]
  },
  {
   "cell_type": "markdown",
   "id": "b34e2ec1-a2d8-42a1-9798-d69c57b0f5c8",
   "metadata": {},
   "source": [
    "> a 또는 the 다음에 오는 단어 찾기<br>\n",
    "정규 표현식에서 '단어'를 정의하는 것은 약간 까다롭기에 '최소 하나 이상의 문자(공백 제외) 시퀀스'를 이용한다."
   ]
  },
  {
   "cell_type": "code",
   "execution_count": null,
   "id": "b769e0f1-f8f6-4aad-8a56-91d33f6cbc35",
   "metadata": {},
   "outputs": [],
   "source": [
    "noun <- \"(a|the) ([^ ]+)\""
   ]
  },
  {
   "cell_type": "code",
   "execution_count": null,
   "id": "dc66f111-9a26-4aa1-b04d-cd9fb3461530",
   "metadata": {},
   "outputs": [],
   "source": [
    "has_noun <- sentences %>%\n",
    "str_subset(noun) %>%\n",
    "head(10)\n",
    "has_noun %>%\n",
    "str_extract(noun)"
   ]
  },
  {
   "cell_type": "markdown",
   "id": "9c41a61d-609e-4b4b-aaed-623affcef520",
   "metadata": {},
   "source": [
    "`str_extract` : 완전한 매치 제공<br>\n",
    "`str_match` : 각각의 개별  요소 제공"
   ]
  },
  {
   "cell_type": "code",
   "execution_count": null,
   "id": "fc7916c8-0f90-4f53-b930-77fc9c9c1c56",
   "metadata": {},
   "outputs": [],
   "source": [
    "has_noun %>%\n",
    "str_match(noun)"
   ]
  },
  {
   "cell_type": "markdown",
   "id": "a1e9e381-2a52-424d-a250-bdd2ea438f3d",
   "metadata": {},
   "source": [
    "단점은 형용사들도 포함되어서 나온다."
   ]
  },
  {
   "cell_type": "markdown",
   "id": "051bf37b-f597-4c52-9043-9dafe61900a7",
   "metadata": {},
   "source": [
    "- 데이터가 `tibble`인 경우, `tidyr::extract`를 사용하는 것이 더 쉽다.<br>\n",
    "`str_match`처럼 동작하지만 매치의 이름을 사용자가 지정하도록 하고 그 각각을 새로운 열로 배치한다."
   ]
  },
  {
   "cell_type": "code",
   "execution_count": null,
   "id": "d0d1bd84-8c65-4f05-b9ec-12433fb2fa08",
   "metadata": {},
   "outputs": [],
   "source": [
    "tibble(sentence = sentences) %>%\n",
    "tidyr::extract(\n",
    "    sentence, c(\"article\", \"noun\"), \"(a|the) ([^ ]+)\",\n",
    "    remove = FALSE\n",
    "    ) %>% head"
   ]
  },
  {
   "cell_type": "markdown",
   "id": "6c4c81a3-7caf-40f6-9cac-bb8763d120f1",
   "metadata": {},
   "source": [
    "물론, 이렇게 해도 'parked'같은 형용사를 걸러내진 않는다."
   ]
  },
  {
   "cell_type": "markdown",
   "id": "d35a35c4-c33d-4a8d-82d6-ceac754b3508",
   "metadata": {},
   "source": [
    "### 치환"
   ]
  },
  {
   "cell_type": "markdown",
   "id": "3277e426-ec1d-4423-aa2c-2c1b22fb4912",
   "metadata": {},
   "source": [
    "`-` 패턴을 다른 문자로 바꾸기"
   ]
  },
  {
   "cell_type": "code",
   "execution_count": null,
   "id": "696d1bb2-a040-4d19-9e3e-e132998513ae",
   "metadata": {},
   "outputs": [],
   "source": [
    "x <- c(\"apple\", \"pear\", \"banana\")\n",
    "str_replace(x, \"[aeiou]\", \"-\")"
   ]
  },
  {
   "cell_type": "code",
   "execution_count": null,
   "id": "6d5c6d6b-91b4-4e9a-b633-55f4c685cce5",
   "metadata": {},
   "outputs": [],
   "source": [
    "str_replace_all(x, \"[aeiou]\", \"-\")"
   ]
  },
  {
   "cell_type": "markdown",
   "id": "2f6a3003-a78a-4bdb-b3e7-ce10c13a8d69",
   "metadata": {},
   "source": [
    "`-` 다중 치환도 가능"
   ]
  },
  {
   "cell_type": "code",
   "execution_count": null,
   "id": "95aef9d2-5e5e-4192-8078-1fe749d0c7a5",
   "metadata": {},
   "outputs": [],
   "source": [
    "x <- c(\"1 house\", \"2 cars\", \"3 people\")\n",
    "str_replace_all(x, c(\"1\" = \"one\", \"2\" = \"two\", \"3\" = \"three\"))"
   ]
  },
  {
   "cell_type": "markdown",
   "id": "25ef3579-5eb3-44bd-9048-c5d88d542ce1",
   "metadata": {},
   "source": [
    "`-` 두 번째와 세 번째 단어의 순서 바꾸기"
   ]
  },
  {
   "cell_type": "code",
   "execution_count": null,
   "id": "0c01a662-a4be-4f24-8926-dc9f75113cd9",
   "metadata": {},
   "outputs": [],
   "source": [
    "sentences %>%\n",
    "str_replace(\"([^ ]+) ([^ ]+) ([^ ]+)\", \"\\\\1 \\\\3 \\\\2\") %>%\n",
    "head(5)"
   ]
  },
  {
   "cell_type": "markdown",
   "id": "c0fe807a-648b-4938-a248-eac1648045c9",
   "metadata": {},
   "source": [
    "비교"
   ]
  },
  {
   "cell_type": "code",
   "execution_count": null,
   "id": "e8495c93-bc7d-48f1-9985-ae9ba1b41d71",
   "metadata": {},
   "outputs": [],
   "source": [
    "sentences %>% head(5)"
   ]
  },
  {
   "cell_type": "markdown",
   "id": "33505d31-b559-47e4-b0b2-7e37c60fbde3",
   "metadata": {},
   "source": [
    "### 분할"
   ]
  },
  {
   "cell_type": "markdown",
   "id": "28f0c845-daf8-46cf-9f86-a71aec82e5b1",
   "metadata": {},
   "source": [
    "`str_split` : 문자열을 조각으로 분할시켜준다."
   ]
  },
  {
   "cell_type": "markdown",
   "id": "546fe2c4-d98c-445e-b1ce-674287f34b49",
   "metadata": {},
   "source": [
    "`-` 공백 기준으로 분할"
   ]
  },
  {
   "cell_type": "code",
   "execution_count": null,
   "id": "3e22695b-31c0-4d23-880b-47ad416a330c",
   "metadata": {},
   "outputs": [],
   "source": [
    "sentences %>%\n",
    "head(5) %>%\n",
    "str_split(\" \")"
   ]
  },
  {
   "cell_type": "markdown",
   "id": "7870ae43-cd7c-46f8-bb70-deef87a422e7",
   "metadata": {},
   "source": [
    "`-` 글자 하나하나 분할하기"
   ]
  },
  {
   "cell_type": "code",
   "execution_count": null,
   "id": "1b090999-3c1a-4164-8f49-50904979612b",
   "metadata": {},
   "outputs": [],
   "source": [
    "\"a|b|c|d\" %>%\n",
    "str_split(\"\\\\|\") %>%\n",
    ".[[1]]"
   ]
  },
  {
   "cell_type": "markdown",
   "id": "30d152ec-0184-4802-81a5-a5f8ae49b391",
   "metadata": {},
   "source": [
    "`simplify = TRUE` : 결과물 행렬로 보여줌"
   ]
  },
  {
   "cell_type": "code",
   "execution_count": null,
   "id": "58b4cde4-2d1b-481a-a76c-74e8a4952f23",
   "metadata": {},
   "outputs": [],
   "source": [
    "sentences %>%\n",
    "head(5) %>%\n",
    "str_split(\" \", simplify = TRUE)"
   ]
  },
  {
   "cell_type": "markdown",
   "id": "ed3991fa-c382-4348-adfb-bbffabb6ec44",
   "metadata": {},
   "source": [
    "`-` 반환할 조각의 최대 개수 지정하기"
   ]
  },
  {
   "cell_type": "code",
   "execution_count": null,
   "id": "50684497-1454-40d9-8fba-f9140d02785b",
   "metadata": {},
   "outputs": [],
   "source": [
    "fields <- c(\"Name: Hadley\", \"Country: NZ\", \"Age: 35\")\n",
    "fields %>% str_split(\": \", n = 2, simplify = TRUE)"
   ]
  },
  {
   "cell_type": "markdown",
   "id": "1c26c2ee-001e-4f79-aa44-0c479cf5117e",
   "metadata": {},
   "source": [
    "`-` `boundary`함수 이용해서 단어 단위로 분할하기"
   ]
  },
  {
   "cell_type": "code",
   "execution_count": null,
   "id": "2998a8a2-94bb-4a48-9eeb-00e40913d798",
   "metadata": {},
   "outputs": [],
   "source": [
    "x <- \"This is a sentence. This is another sentence.\"\n",
    "str_view_all(x, boundary(\"word\"))"
   ]
  },
  {
   "cell_type": "markdown",
   "id": "71829943-b88a-4001-b53c-e4552e3b22fe",
   "metadata": {},
   "source": [
    "`-` 일반적인 매칭"
   ]
  },
  {
   "cell_type": "code",
   "execution_count": null,
   "id": "7eba7d1c-8d8d-4037-99bb-4608ceed24e8",
   "metadata": {},
   "outputs": [],
   "source": [
    "bananas <- c(\"banana\", \"Banana\", \"BANANA\")\n",
    "str_view(bananas, \"banana\")"
   ]
  },
  {
   "cell_type": "markdown",
   "id": "f14fc6c8-ca68-4f73-8eaf-0e043ad5d4b4",
   "metadata": {},
   "source": [
    "`regex` : 매치의 세부 옵션을 제어가능(원래도 `regex`자동 적용된건데 보여지기에 default로 생략된거임)<br>\n",
    "`ignore_case` : 대,소문자 모두 매칭시켜준다."
   ]
  },
  {
   "cell_type": "code",
   "execution_count": null,
   "id": "0a89db2c-00fa-4cf2-82b1-ee509891ed34",
   "metadata": {},
   "outputs": [],
   "source": [
    "str_view(bananas, regex(\"banana\", ignore_case = TRUE))"
   ]
  },
  {
   "cell_type": "markdown",
   "id": "9631f190-637f-4913-a588-adac39eae957",
   "metadata": {},
   "source": [
    "`multiline = TRUE` : ^와 $이 전체 문자열의 시작과 끝이 아니라 각 라인의 시작과 끝이 매칭된다."
   ]
  },
  {
   "cell_type": "code",
   "execution_count": null,
   "id": "f573915a-5d4d-40e6-9782-87e694d98134",
   "metadata": {},
   "outputs": [],
   "source": [
    "x <- \"Line 1\\nLine 2\\nLine 3\"\n",
    "str_extract_all(x, \"^Line\")[[1]]"
   ]
  },
  {
   "cell_type": "code",
   "execution_count": null,
   "id": "98587883-8877-4646-b1e9-33ddfd4694c0",
   "metadata": {},
   "outputs": [],
   "source": [
    "str_extract_all(x, regex(\"^Line\", multiline = TRUE))[[1]]"
   ]
  },
  {
   "cell_type": "code",
   "execution_count": null,
   "id": "bd3cbb84-a21d-41b7-82fc-26a5178271b5",
   "metadata": {},
   "outputs": [],
   "source": [
    "phone <- regex(\"\n",
    "\\\\(?           # 선택적인 여는 괄호\n",
    "(\\\\d{3})       # 지역 번호\n",
    "[)- ]?         # 선택적인 닫는 괄호, 대시 혹은 빈칸\n",
    "(\\\\d{3})       # 세 자리 숫자\n",
    "[ -]?          # 선택적인 빈칸 혹은 대시\n",
    "(\\\\d{3})       # 세 자리 숫자\n",
    "\", comments = TRUE)"
   ]
  },
  {
   "cell_type": "code",
   "execution_count": null,
   "id": "d56dd8b0-9db0-4286-a10a-e7a9a622dde3",
   "metadata": {},
   "outputs": [],
   "source": [
    "str_match(\"514-791-8141\", phone)"
   ]
  },
  {
   "cell_type": "markdown",
   "id": "004457ce-614b-4a15-ac17-0c96000125ad",
   "metadata": {},
   "source": [
    "`dotall = TRUE` : `.`이 `\\n`을 포함한 모든 문자에 매칭된다."
   ]
  },
  {
   "cell_type": "markdown",
   "id": "530fa641-9c19-4381-947d-0594d73544da",
   "metadata": {},
   "source": [
    "`-` `boundary`는 다른 함수들과도 사용가능하다. 예를들어 `extract`"
   ]
  },
  {
   "cell_type": "code",
   "execution_count": null,
   "id": "fe9e6901-4f49-49a4-ab18-8d39d0667390",
   "metadata": {},
   "outputs": [],
   "source": [
    "x <- \"This is a sentence.\"\n",
    "str_extract_all(x, boundary(\"word\"))"
   ]
  },
  {
   "cell_type": "markdown",
   "id": "9d2eacf0-403c-4dd6-aa99-bbd33a34d860",
   "metadata": {},
   "source": [
    "## 정규표현식의 기타용도"
   ]
  },
  {
   "cell_type": "markdown",
   "id": "17aa8826-1389-41a3-a27b-5d715ca0e135",
   "metadata": {},
   "source": [
    "`appropos` : 전역 환경에서 사용할 수 있는 모든 객체를 검색"
   ]
  },
  {
   "cell_type": "code",
   "execution_count": null,
   "id": "21cf46b9-7c35-41b7-b5d7-5b0fa3453d3c",
   "metadata": {},
   "outputs": [],
   "source": [
    "apropos(\"replace\")"
   ]
  },
  {
   "cell_type": "markdown",
   "id": "642d1230-7f88-4672-a632-3eae6950316a",
   "metadata": {},
   "source": [
    "`dir` : 디렉터리에 있는 모든 파일을 나열"
   ]
  },
  {
   "cell_type": "code",
   "execution_count": null,
   "id": "043d5636-9c55-4be3-942b-ad05d256a867",
   "metadata": {},
   "outputs": [],
   "source": []
  }
 ],
 "metadata": {
  "kernelspec": {
   "display_name": "R",
   "language": "R",
   "name": "ir"
  },
  "language_info": {
   "codemirror_mode": "r",
   "file_extension": ".r",
   "mimetype": "text/x-r-source",
   "name": "R",
   "pygments_lexer": "r",
   "version": "4.1.3"
  }
 },
 "nbformat": 4,
 "nbformat_minor": 5
}
