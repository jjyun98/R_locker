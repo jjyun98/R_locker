{
 "cells": [
  {
   "cell_type": "markdown",
   "id": "7d2db01e-fbfc-47c7-afb1-300b25a6ba2f",
   "metadata": {},
   "source": [
    "# (수업) 시계열 자료분석 실습 5\n",
    "\n",
    "> AR\n",
    "- toc:true\n",
    "- branch: master\n",
    "- badges: true\n",
    "- comments: true\n",
    "- author: 조윤호"
   ]
  },
  {
   "cell_type": "code",
   "execution_count": 37,
   "id": "8afb597d-c258-4d22-b3c6-cb8160ca6153",
   "metadata": {},
   "outputs": [],
   "source": [
    "library('tidyverse')\n",
    "library('gridExtra')\n",
    "library('forecast')"
   ]
  },
  {
   "cell_type": "markdown",
   "id": "4f22e907-33ea-4dea-acc9-736968813961",
   "metadata": {},
   "source": [
    "## AR(1) 생성"
   ]
  },
  {
   "cell_type": "markdown",
   "id": "c591f2ed-61b1-4433-9ca7-bd3ea157eddd",
   "metadata": {},
   "source": [
    "- n개 보다 100개 더 생성하는 이유 : 초기값을 만들고 업데이트할 때 초기값의 영향을 줄여주기 위해 앞에 100개 없애기 위해서<br>\n",
    "쌩으로 n개만 쓰면 초기값 영향 많이 받음."
   ]
  },
  {
   "cell_type": "code",
   "execution_count": 4,
   "id": "0fa7464c-279e-4a75-9439-7c9516921d6d",
   "metadata": {},
   "outputs": [],
   "source": [
    "sim_ar1 <- function(n, phi, mu, sigma){\n",
    "    z <- rep(mu, n + 100)\n",
    "    for(k in 2 : (n + 100)){\n",
    "        z[k] <- mu + phi*(z[k-1] - mu) + rnorm(1, 0, sigma)\n",
    "        }\n",
    "    return(z[-(1:100)])\n",
    "    }"
   ]
  },
  {
   "cell_type": "markdown",
   "id": "f52eecf0-eb24-4b8c-93bb-1cfe3f6830d2",
   "metadata": {},
   "source": [
    "`-` 전체중에서 앞에꺼 100개 떼고 생성"
   ]
  },
  {
   "cell_type": "markdown",
   "id": "eaf55e96-ae36-49c8-a80b-e57f65cc6eb3",
   "metadata": {},
   "source": [
    "- 정상시계열이 되기 위해서는 $\\phi$가 1보다 작기만 하면 됨.<br>\n",
    "평균은 그냥 간단하게 0으로 함."
   ]
  },
  {
   "cell_type": "code",
   "execution_count": 6,
   "id": "d8003093-4d13-48c5-af55-aab0326fae95",
   "metadata": {},
   "outputs": [],
   "source": [
    "n <- 100\n",
    "phi <- -0.5\n",
    "mu <- 0\n",
    "sigma <- 1"
   ]
  },
  {
   "cell_type": "code",
   "execution_count": 7,
   "id": "20e7573c-d87c-46cd-aa21-8a54796de799",
   "metadata": {},
   "outputs": [],
   "source": [
    "tmp.data <- data.frame(\n",
    "    t = 1:n,\n",
    "    z = sim_ar1(n, phi, mu, sigma)\n",
    "    )"
   ]
  },
  {
   "cell_type": "code",
   "execution_count": 8,
   "id": "a4557c6f-3b9f-4f01-bb3d-887d86ef1541",
   "metadata": {},
   "outputs": [],
   "source": [
    "p1 <- ggplot(tmp.data, aes(t, z)) +\n",
    "geom_line(col = 'steelblue', lwd = 1.2) +\n",
    "geom_hline(yintercept = 0, lty = 2, col = 'grey') +\n",
    "ggtitle(paste0(\"Time series plot : AR(1) - phi = \", phi)) +\n",
    "theme_bw() +\n",
    "theme(axis.title.y = element_blank())"
   ]
  },
  {
   "cell_type": "code",
   "execution_count": 36,
   "id": "0ddd323f-1ffb-4e8b-94db-195f425bd597",
   "metadata": {},
   "outputs": [],
   "source": [
    "p2 <- ggAcf(tmp.data$z, lwd = 1.5) +\n",
    "theme_bw() + ylim(-1, 1) +\n",
    "ggtitle(\"SACF\") +\n",
    "theme(axis.title.y = element_blank())"
   ]
  },
  {
   "cell_type": "markdown",
   "id": "337f5851-20ca-4ab3-884b-faaa830b37ed",
   "metadata": {},
   "source": [
    "## 7분 32초부터"
   ]
  },
  {
   "cell_type": "code",
   "execution_count": null,
   "id": "a38eb56a-f6c1-4cad-ba28-528e274b13a8",
   "metadata": {},
   "outputs": [],
   "source": []
  }
 ],
 "metadata": {
  "kernelspec": {
   "display_name": "R",
   "language": "R",
   "name": "ir"
  },
  "language_info": {
   "codemirror_mode": "r",
   "file_extension": ".r",
   "mimetype": "text/x-r-source",
   "name": "R",
   "pygments_lexer": "r",
   "version": "4.1.3"
  }
 },
 "nbformat": 4,
 "nbformat_minor": 5
}
