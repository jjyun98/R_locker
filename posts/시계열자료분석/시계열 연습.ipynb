{
 "cells": [
  {
   "cell_type": "code",
   "execution_count": 2,
   "id": "6b63d8a0-2d98-482c-bc41-6fc6c883af08",
   "metadata": {},
   "outputs": [],
   "source": [
    "library('tidyverse')"
   ]
  },
  {
   "cell_type": "markdown",
   "id": "e7820e86-4299-475d-a7a8-77eaf1e6d05e",
   "metadata": {},
   "source": [
    "## 1번"
   ]
  },
  {
   "cell_type": "code",
   "execution_count": 6,
   "id": "e5fb3533-ca73-4915-918e-4d0ac212f196",
   "metadata": {},
   "outputs": [
    {
     "data": {
      "text/html": [
       "<style>\n",
       ".list-inline {list-style: none; margin:0; padding: 0}\n",
       ".list-inline>li {display: inline-block}\n",
       ".list-inline>li:not(:last-child)::after {content: \"\\00b7\"; padding: 0 .5ex}\n",
       "</style>\n",
       "<ol class=list-inline><li>7</li><li>6</li><li>5</li><li>8</li><li>9</li><li>4</li><li>5</li><li>5</li><li>4</li><li>6</li><li>7</li><li>8</li><li>5</li><li>6</li><li>5</li></ol>\n"
      ],
      "text/latex": [
       "\\begin{enumerate*}\n",
       "\\item 7\n",
       "\\item 6\n",
       "\\item 5\n",
       "\\item 8\n",
       "\\item 9\n",
       "\\item 4\n",
       "\\item 5\n",
       "\\item 5\n",
       "\\item 4\n",
       "\\item 6\n",
       "\\item 7\n",
       "\\item 8\n",
       "\\item 5\n",
       "\\item 6\n",
       "\\item 5\n",
       "\\end{enumerate*}\n"
      ],
      "text/markdown": [
       "1. 7\n",
       "2. 6\n",
       "3. 5\n",
       "4. 8\n",
       "5. 9\n",
       "6. 4\n",
       "7. 5\n",
       "8. 5\n",
       "9. 4\n",
       "10. 6\n",
       "11. 7\n",
       "12. 8\n",
       "13. 5\n",
       "14. 6\n",
       "15. 5\n",
       "\n",
       "\n"
      ],
      "text/plain": [
       " [1] 7 6 5 8 9 4 5 5 4 6 7 8 5 6 5"
      ]
     },
     "metadata": {},
     "output_type": "display_data"
    }
   ],
   "source": [
    "p1 <- c(7,6,5,8,9,4,5,5,4,6,7,8,5,6,5)\n",
    "p1"
   ]
  },
  {
   "cell_type": "code",
   "execution_count": 10,
   "id": "bdf87e8e-0569-4167-bf4c-b648cbbe0a89",
   "metadata": {},
   "outputs": [
    {
     "data": {
      "text/html": [
       "6"
      ],
      "text/latex": [
       "6"
      ],
      "text/markdown": [
       "6"
      ],
      "text/plain": [
       "[1] 6"
      ]
     },
     "metadata": {},
     "output_type": "display_data"
    }
   ],
   "source": [
    "p1 %>% mean()"
   ]
  },
  {
   "cell_type": "code",
   "execution_count": 12,
   "id": "3ff93bba-edad-4cf3-9a8d-92dc1c682d9c",
   "metadata": {},
   "outputs": [
    {
     "data": {
      "text/html": [
       "15"
      ],
      "text/latex": [
       "15"
      ],
      "text/markdown": [
       "15"
      ],
      "text/plain": [
       "[1] 15"
      ]
     },
     "metadata": {},
     "output_type": "display_data"
    }
   ],
   "source": [
    "p1 %>% length"
   ]
  },
  {
   "cell_type": "code",
   "execution_count": 112,
   "id": "1f297acb-378a-4157-b713-bb15101958a1",
   "metadata": {},
   "outputs": [],
   "source": [
    "rho.0_func <- function(z){\n",
    "    n = 15\n",
    "    result_vec = 0\n",
    "    for(i in 1:n){\n",
    "    result_vec <- result_vec + (z[i] - 6)^2\n",
    "    }\n",
    "     sum(result_vec) %>% print\n",
    "    }"
   ]
  },
  {
   "cell_type": "code",
   "execution_count": 115,
   "id": "0a02b0c5-0463-498d-987b-da6fb1a0f939",
   "metadata": {},
   "outputs": [],
   "source": [
    "rho_func <- function(z,k){\n",
    "    n = 15\n",
    "    #k = 1\n",
    "    result_vec = 0\n",
    "    for(i in 1:(n-k)){\n",
    "    result_vec <- result_vec + (z[i] - 6)*(z[i+k] - 6)\n",
    "    }\n",
    "    (1/32 * sum(result_vec)) %>% print\n",
    "    }"
   ]
  },
  {
   "cell_type": "markdown",
   "id": "dd2baae1-cdb3-43e5-8cb9-3e97c9079b97",
   "metadata": {},
   "source": [
    "### SACF"
   ]
  },
  {
   "cell_type": "markdown",
   "id": "21c7472f-370d-4e23-b87d-1dbc2a9db84d",
   "metadata": {},
   "source": [
    "1) $\\hat{\\rho_h}$, h = 1"
   ]
  },
  {
   "cell_type": "code",
   "execution_count": 117,
   "id": "a9e60aaf-a41b-4285-98d0-e46f172bcd19",
   "metadata": {},
   "outputs": [
    {
     "name": "stdout",
     "output_type": "stream",
     "text": [
      "[1] 0.09375\n",
      "[1] -0.28125\n",
      "[1] -0.125\n"
     ]
    }
   ],
   "source": [
    "rho_func(p1,1) -> rho1\n",
    "rho_func(p1,2) -> rho2\n",
    "rho_func(p1,3) -> rho3"
   ]
  },
  {
   "cell_type": "markdown",
   "id": "55a1c428-87e3-4b06-994a-0aff171e4dfb",
   "metadata": {},
   "source": [
    "### SPACF"
   ]
  },
  {
   "cell_type": "code",
   "execution_count": 121,
   "id": "527f1049-ace9-4ed7-84ae-a8fc10099d47",
   "metadata": {},
   "outputs": [
    {
     "data": {
      "text/html": [
       "0.09375"
      ],
      "text/latex": [
       "0.09375"
      ],
      "text/markdown": [
       "0.09375"
      ],
      "text/plain": [
       "[1] 0.09375"
      ]
     },
     "metadata": {},
     "output_type": "display_data"
    },
    {
     "data": {
      "text/html": [
       "-0.28125"
      ],
      "text/latex": [
       "-0.28125"
      ],
      "text/markdown": [
       "-0.28125"
      ],
      "text/plain": [
       "[1] -0.28125"
      ]
     },
     "metadata": {},
     "output_type": "display_data"
    },
    {
     "data": {
      "text/html": [
       "-0.125"
      ],
      "text/latex": [
       "-0.125"
      ],
      "text/markdown": [
       "-0.125"
      ],
      "text/plain": [
       "[1] -0.125"
      ]
     },
     "metadata": {},
     "output_type": "display_data"
    }
   ],
   "source": [
    "rho1\n",
    "rho2\n",
    "rho3"
   ]
  },
  {
   "cell_type": "code",
   "execution_count": 123,
   "id": "13b2285c-31d0-4c0c-ad03-87916041c3a5",
   "metadata": {},
   "outputs": [
    {
     "data": {
      "text/html": [
       "0.09375"
      ],
      "text/latex": [
       "0.09375"
      ],
      "text/markdown": [
       "0.09375"
      ],
      "text/plain": [
       "[1] 0.09375"
      ]
     },
     "metadata": {},
     "output_type": "display_data"
    }
   ],
   "source": [
    "phi.11 <- rho1\n",
    "phi.11"
   ]
  },
  {
   "cell_type": "code",
   "execution_count": 125,
   "id": "1bc60311-b667-4a02-9a90-bb9231e17e48",
   "metadata": {},
   "outputs": [
    {
     "data": {
      "text/html": [
       "-0.292610837438424"
      ],
      "text/latex": [
       "-0.292610837438424"
      ],
      "text/markdown": [
       "-0.292610837438424"
      ],
      "text/plain": [
       "[1] -0.2926108"
      ]
     },
     "metadata": {},
     "output_type": "display_data"
    }
   ],
   "source": [
    "phi.22 <- (rho2 - rho1^2)/(1 - rho1^2)\n",
    "phi.22"
   ]
  },
  {
   "cell_type": "code",
   "execution_count": 127,
   "id": "ed97096d-e76c-4745-a8cf-615ee5744470",
   "metadata": {},
   "outputs": [
    {
     "data": {
      "text/html": [
       "-0.0775262840546233"
      ],
      "text/latex": [
       "-0.0775262840546233"
      ],
      "text/markdown": [
       "-0.0775262840546233"
      ],
      "text/plain": [
       "[1] -0.07752628"
      ]
     },
     "metadata": {},
     "output_type": "display_data"
    }
   ],
   "source": [
    "phi.33 <- (rho1*rho2 + rho1^2*rho3 + rho1*rho2 -rho3 -rho1*rho1*(rho2^2) -rho1^3)/(rho2^2 + (rho1^2)*2 - 1 -(rho1^2)*rho2 -rho2*(rho1^2))\n",
    "phi.33"
   ]
  },
  {
   "cell_type": "code",
   "execution_count": 133,
   "id": "2a4b8682-5201-44a6-95d2-0d892ebd8f16",
   "metadata": {},
   "outputs": [
    {
     "data": {
      "text/html": [
       "FALSE"
      ],
      "text/latex": [
       "FALSE"
      ],
      "text/markdown": [
       "FALSE"
      ],
      "text/plain": [
       "[1] FALSE"
      ]
     },
     "metadata": {},
     "output_type": "display_data"
    },
    {
     "data": {
      "text/html": [
       "FALSE"
      ],
      "text/latex": [
       "FALSE"
      ],
      "text/markdown": [
       "FALSE"
      ],
      "text/plain": [
       "[1] FALSE"
      ]
     },
     "metadata": {},
     "output_type": "display_data"
    },
    {
     "data": {
      "text/html": [
       "FALSE"
      ],
      "text/latex": [
       "FALSE"
      ],
      "text/markdown": [
       "FALSE"
      ],
      "text/plain": [
       "[1] FALSE"
      ]
     },
     "metadata": {},
     "output_type": "display_data"
    }
   ],
   "source": [
    "abs(rho1) > 2/sqrt(15)\n",
    "abs(rho2) > 2/sqrt(15)\n",
    "abs(rho3) > 2/sqrt(15)"
   ]
  },
  {
   "cell_type": "code",
   "execution_count": 132,
   "id": "6df76b91-1188-437b-a45d-00df866ed12f",
   "metadata": {},
   "outputs": [
    {
     "data": {
      "text/html": [
       "0.516397779494322"
      ],
      "text/latex": [
       "0.516397779494322"
      ],
      "text/markdown": [
       "0.516397779494322"
      ],
      "text/plain": [
       "[1] 0.5163978"
      ]
     },
     "metadata": {},
     "output_type": "display_data"
    }
   ],
   "source": [
    "2/sqrt(15)"
   ]
  },
  {
   "cell_type": "code",
   "execution_count": null,
   "id": "b1dee613-f56f-4319-8841-c115102322c5",
   "metadata": {},
   "outputs": [],
   "source": []
  }
 ],
 "metadata": {
  "kernelspec": {
   "display_name": "R",
   "language": "R",
   "name": "ir"
  },
  "language_info": {
   "codemirror_mode": "r",
   "file_extension": ".r",
   "mimetype": "text/x-r-source",
   "name": "R",
   "pygments_lexer": "r",
   "version": "4.1.3"
  }
 },
 "nbformat": 4,
 "nbformat_minor": 5
}
